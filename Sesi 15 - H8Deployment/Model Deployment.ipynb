{
 "cells": [
  {
   "cell_type": "markdown",
   "id": "f59ec5c5",
   "metadata": {
    "id": "WeOVN3PGCEwx"
   },
   "source": [
    "# Sesi 15 / Model Deployment\n",
    "\n",
    "\n"
   ]
  },
  {
   "cell_type": "markdown",
   "id": "659a3bf9",
   "metadata": {
    "id": "3S-cuktMvr9O"
   },
   "source": [
    "## Importing Libraries\n",
    "\n"
   ]
  },
  {
   "cell_type": "markdown",
   "id": "15b63424",
   "metadata": {
    "id": "WmIOKmLZvyi7"
   },
   "source": [
    "Notes: Profiling boleh diinstall atau tidak diinstall. Dalam sesi ini, profiling hanya digunakan menjadi contoh untuk memudahkan analisa.\n",
    "\n",
    "Lewati cell report = data.profile_report(title='Campus Placement Data - Report', progress_bar=False) Jika memutuskan untuk tidak menggunakan profiling.\n",
    "\n"
   ]
  },
  {
   "cell_type": "code",
   "execution_count": 1,
   "id": "c6ff69c2",
   "metadata": {
    "colab": {
     "base_uri": "https://localhost:8080/"
    },
    "id": "cvHA8-gbvt1l",
    "outputId": "a3e24584-78ed-4886-dd80-508119c1ed23"
   },
   "outputs": [
    {
     "name": "stdout",
     "output_type": "stream",
     "text": [
      "Requirement already satisfied: pandas-profiling in c:\\users\\ridho\\anaconda3\\lib\\site-packages (3.2.0)\n",
      "Requirement already satisfied: pandas!=1.0.0,!=1.0.1,!=1.0.2,!=1.1.0,>=0.25.3 in c:\\users\\ridho\\anaconda3\\lib\\site-packages (from pandas-profiling) (1.4.2)\n",
      "Requirement already satisfied: pydantic>=1.8.1 in c:\\users\\ridho\\anaconda3\\lib\\site-packages (from pandas-profiling) (1.9.1)\n",
      "Requirement already satisfied: scipy>=1.4.1 in c:\\users\\ridho\\anaconda3\\lib\\site-packages (from pandas-profiling) (1.8.1)\n",
      "Requirement already satisfied: numpy>=1.16.0 in c:\\users\\ridho\\anaconda3\\lib\\site-packages (from pandas-profiling) (1.21.5)\n",
      "Requirement already satisfied: tangled-up-in-unicode==0.2.0 in c:\\users\\ridho\\anaconda3\\lib\\site-packages (from pandas-profiling) (0.2.0)\n",
      "Requirement already satisfied: joblib~=1.1.0 in c:\\users\\ridho\\anaconda3\\lib\\site-packages (from pandas-profiling) (1.1.0)\n",
      "Requirement already satisfied: jinja2>=2.11.1 in c:\\users\\ridho\\anaconda3\\lib\\site-packages (from pandas-profiling) (2.11.3)\n",
      "Requirement already satisfied: tqdm>=4.48.2 in c:\\users\\ridho\\anaconda3\\lib\\site-packages (from pandas-profiling) (4.64.0)\n",
      "Collecting markupsafe~=2.1.1\n",
      "  Using cached MarkupSafe-2.1.1-cp39-cp39-win_amd64.whl (17 kB)\n",
      "Requirement already satisfied: phik>=0.11.1 in c:\\users\\ridho\\anaconda3\\lib\\site-packages (from pandas-profiling) (0.12.2)\n",
      "Requirement already satisfied: missingno>=0.4.2 in c:\\users\\ridho\\anaconda3\\lib\\site-packages (from pandas-profiling) (0.5.1)\n",
      "Requirement already satisfied: htmlmin>=0.1.12 in c:\\users\\ridho\\anaconda3\\lib\\site-packages (from pandas-profiling) (0.1.12)\n",
      "Requirement already satisfied: seaborn>=0.10.1 in c:\\users\\ridho\\anaconda3\\lib\\site-packages (from pandas-profiling) (0.11.2)\n",
      "Requirement already satisfied: requests>=2.24.0 in c:\\users\\ridho\\appdata\\roaming\\python\\python39\\site-packages (from pandas-profiling) (2.25.1)\n",
      "Requirement already satisfied: PyYAML>=5.0.0 in c:\\users\\ridho\\appdata\\roaming\\python\\python39\\site-packages (from pandas-profiling) (5.4.1)\n",
      "Requirement already satisfied: visions[type_image_path]==0.7.4 in c:\\users\\ridho\\anaconda3\\lib\\site-packages (from pandas-profiling) (0.7.4)\n",
      "Requirement already satisfied: matplotlib>=3.2.0 in c:\\users\\ridho\\anaconda3\\lib\\site-packages (from pandas-profiling) (3.5.2)\n",
      "Requirement already satisfied: multimethod>=1.4 in c:\\users\\ridho\\anaconda3\\lib\\site-packages (from pandas-profiling) (1.8)\n",
      "Requirement already satisfied: attrs>=19.3.0 in c:\\users\\ridho\\anaconda3\\lib\\site-packages (from visions[type_image_path]==0.7.4->pandas-profiling) (21.4.0)\n",
      "Requirement already satisfied: networkx>=2.4 in c:\\users\\ridho\\anaconda3\\lib\\site-packages (from visions[type_image_path]==0.7.4->pandas-profiling) (2.7.1)"
     ]
    },
    {
     "name": "stderr",
     "output_type": "stream",
     "text": [
      "ERROR: Could not install packages due to an OSError: [WinError 5] Access is denied: 'C:\\\\Users\\\\RIDHO\\\\anaconda3\\\\Lib\\\\site-packages\\\\~~rkupsafe\\\\_speedups.cp39-win_amd64.pyd'\n",
      "Consider using the `--user` option or check the permissions.\n",
      "\n"
     ]
    },
    {
     "name": "stdout",
     "output_type": "stream",
     "text": [
      "\n",
      "Requirement already satisfied: Pillow in c:\\users\\ridho\\anaconda3\\lib\\site-packages (from visions[type_image_path]==0.7.4->pandas-profiling) (9.0.1)\n",
      "Requirement already satisfied: imagehash in c:\\users\\ridho\\anaconda3\\lib\\site-packages (from visions[type_image_path]==0.7.4->pandas-profiling) (4.2.1)\n",
      "Requirement already satisfied: python-dateutil>=2.7 in c:\\users\\ridho\\anaconda3\\lib\\site-packages (from matplotlib>=3.2.0->pandas-profiling) (2.8.2)\n",
      "Requirement already satisfied: pyparsing>=2.2.1 in c:\\users\\ridho\\anaconda3\\lib\\site-packages (from matplotlib>=3.2.0->pandas-profiling) (3.0.4)\n",
      "Requirement already satisfied: packaging>=20.0 in c:\\users\\ridho\\anaconda3\\lib\\site-packages (from matplotlib>=3.2.0->pandas-profiling) (21.3)\n",
      "Requirement already satisfied: kiwisolver>=1.0.1 in c:\\users\\ridho\\anaconda3\\lib\\site-packages (from matplotlib>=3.2.0->pandas-profiling) (1.3.2)\n",
      "Requirement already satisfied: cycler>=0.10 in c:\\users\\ridho\\anaconda3\\lib\\site-packages (from matplotlib>=3.2.0->pandas-profiling) (0.11.0)\n",
      "Requirement already satisfied: fonttools>=4.22.0 in c:\\users\\ridho\\anaconda3\\lib\\site-packages (from matplotlib>=3.2.0->pandas-profiling) (4.25.0)\n",
      "Requirement already satisfied: pytz>=2020.1 in c:\\users\\ridho\\anaconda3\\lib\\site-packages (from pandas!=1.0.0,!=1.0.1,!=1.0.2,!=1.1.0,>=0.25.3->pandas-profiling) (2021.3)\n",
      "Requirement already satisfied: typing-extensions>=3.7.4.3 in c:\\users\\ridho\\appdata\\roaming\\python\\python39\\site-packages (from pydantic>=1.8.1->pandas-profiling) (3.10.0.0)\n",
      "Requirement already satisfied: urllib3<1.27,>=1.21.1 in c:\\users\\ridho\\anaconda3\\lib\\site-packages (from requests>=2.24.0->pandas-profiling) (1.26.9)\n",
      "Requirement already satisfied: chardet<5,>=3.0.2 in c:\\users\\ridho\\anaconda3\\lib\\site-packages (from requests>=2.24.0->pandas-profiling) (4.0.0)\n",
      "Requirement already satisfied: idna<3,>=2.5 in c:\\users\\ridho\\appdata\\roaming\\python\\python39\\site-packages (from requests>=2.24.0->pandas-profiling) (2.10)\n",
      "Requirement already satisfied: certifi>=2017.4.17 in c:\\users\\ridho\\anaconda3\\lib\\site-packages (from requests>=2.24.0->pandas-profiling) (2021.10.8)\n",
      "Requirement already satisfied: colorama in c:\\users\\ridho\\anaconda3\\lib\\site-packages (from tqdm>=4.48.2->pandas-profiling) (0.4.4)\n",
      "Requirement already satisfied: six>=1.5 in c:\\users\\ridho\\anaconda3\\lib\\site-packages (from python-dateutil>=2.7->matplotlib>=3.2.0->pandas-profiling) (1.16.0)\n",
      "Requirement already satisfied: PyWavelets in c:\\users\\ridho\\anaconda3\\lib\\site-packages (from imagehash->visions[type_image_path]==0.7.4->pandas-profiling) (1.3.0)\n",
      "Installing collected packages: markupsafe\n",
      "  Attempting uninstall: markupsafe\n",
      "    Found existing installation: MarkupSafe 2.0.1\n",
      "    Uninstalling MarkupSafe-2.0.1:\n",
      "      Successfully uninstalled MarkupSafe-2.0.1\n"
     ]
    }
   ],
   "source": [
    "!pip install pandas-profiling"
   ]
  },
  {
   "cell_type": "code",
   "execution_count": 19,
   "id": "5578ae2b",
   "metadata": {
    "id": "t6REM3Nov0YA"
   },
   "outputs": [
    {
     "name": "stdout",
     "output_type": "stream",
     "text": [
      "Unexpected exception formatting exception. Falling back to standard exception\n"
     ]
    },
    {
     "name": "stderr",
     "output_type": "stream",
     "text": [
      "Traceback (most recent call last):\n",
      "  File \"C:\\Users\\RIDHO\\anaconda3\\lib\\site-packages\\IPython\\core\\interactiveshell.py\", line 3369, in run_code\n",
      "    exec(code_obj, self.user_global_ns, self.user_ns)\n",
      "  File \"C:\\Users\\RIDHO\\AppData\\Local\\Temp\\ipykernel_23372\\1120705230.py\", line 5, in <cell line: 5>\n",
      "    import pandas_profiling\n",
      "  File \"C:\\Users\\RIDHO\\anaconda3\\lib\\site-packages\\pandas_profiling\\__init__.py\", line 6, in <module>\n",
      "    from pandas_profiling.controller import pandas_decorator\n",
      "  File \"C:\\Users\\RIDHO\\anaconda3\\lib\\site-packages\\pandas_profiling\\controller\\pandas_decorator.py\", line 4, in <module>\n",
      "    from pandas_profiling.profile_report import ProfileReport\n",
      "  File \"C:\\Users\\RIDHO\\anaconda3\\lib\\site-packages\\pandas_profiling\\profile_report.py\", line 27, in <module>\n",
      "    from pandas_profiling.report.presentation.flavours.html.templates import (\n",
      "  File \"C:\\Users\\RIDHO\\anaconda3\\lib\\site-packages\\pandas_profiling\\report\\presentation\\flavours\\html\\__init__.py\", line 1, in <module>\n",
      "    from pandas_profiling.report.presentation.flavours.html.alerts import HTMLAlerts\n",
      "  File \"C:\\Users\\RIDHO\\anaconda3\\lib\\site-packages\\pandas_profiling\\report\\presentation\\flavours\\html\\alerts.py\", line 2, in <module>\n",
      "    from pandas_profiling.report.presentation.flavours.html import templates\n",
      "  File \"C:\\Users\\RIDHO\\anaconda3\\lib\\site-packages\\pandas_profiling\\report\\presentation\\flavours\\html\\templates.py\", line 5, in <module>\n",
      "    import jinja2\n",
      "  File \"C:\\Users\\RIDHO\\anaconda3\\lib\\site-packages\\jinja2\\__init__.py\", line 8, in <module>\n",
      "    from .environment import Environment as Environment\n",
      "  File \"C:\\Users\\RIDHO\\anaconda3\\lib\\site-packages\\jinja2\\environment.py\", line 19, in <module>\n",
      "    from .defaults import BLOCK_END_STRING\n",
      "  File \"C:\\Users\\RIDHO\\anaconda3\\lib\\site-packages\\jinja2\\defaults.py\", line 3, in <module>\n",
      "    from .filters import FILTERS as DEFAULT_FILTERS  # noqa: F401\n",
      "  File \"C:\\Users\\RIDHO\\anaconda3\\lib\\site-packages\\jinja2\\filters.py\", line 15, in <module>\n",
      "    from .async_utils import async_variant\n",
      "  File \"C:\\Users\\RIDHO\\anaconda3\\lib\\site-packages\\jinja2\\async_utils.py\", line 6, in <module>\n",
      "    from .utils import _PassArg\n",
      "ImportError: cannot import name '_PassArg' from 'jinja2.utils' (C:\\Users\\RIDHO\\anaconda3\\lib\\site-packages\\jinja2\\utils.py)\n",
      "\n",
      "During handling of the above exception, another exception occurred:\n",
      "\n",
      "Traceback (most recent call last):\n",
      "  File \"C:\\Users\\RIDHO\\anaconda3\\lib\\site-packages\\IPython\\core\\interactiveshell.py\", line 1982, in showtraceback\n",
      "    stb = self.InteractiveTB.structured_traceback(\n",
      "  File \"C:\\Users\\RIDHO\\anaconda3\\lib\\site-packages\\IPython\\core\\ultratb.py\", line 1118, in structured_traceback\n",
      "    return FormattedTB.structured_traceback(\n",
      "  File \"C:\\Users\\RIDHO\\anaconda3\\lib\\site-packages\\IPython\\core\\ultratb.py\", line 1012, in structured_traceback\n",
      "    return VerboseTB.structured_traceback(\n",
      "  File \"C:\\Users\\RIDHO\\anaconda3\\lib\\site-packages\\IPython\\core\\ultratb.py\", line 865, in structured_traceback\n",
      "    formatted_exception = self.format_exception_as_a_whole(etype, evalue, etb, number_of_lines_of_context,\n",
      "  File \"C:\\Users\\RIDHO\\anaconda3\\lib\\site-packages\\IPython\\core\\ultratb.py\", line 818, in format_exception_as_a_whole\n",
      "    frames.append(self.format_record(r))\n",
      "  File \"C:\\Users\\RIDHO\\anaconda3\\lib\\site-packages\\IPython\\core\\ultratb.py\", line 736, in format_record\n",
      "    result += ''.join(_format_traceback_lines(frame_info.lines, Colors, self.has_colors, lvals))\n",
      "  File \"C:\\Users\\RIDHO\\anaconda3\\lib\\site-packages\\stack_data\\utils.py\", line 145, in cached_property_wrapper\n",
      "    value = obj.__dict__[self.func.__name__] = self.func(obj)\n",
      "  File \"C:\\Users\\RIDHO\\anaconda3\\lib\\site-packages\\stack_data\\core.py\", line 698, in lines\n",
      "    pieces = self.included_pieces\n",
      "  File \"C:\\Users\\RIDHO\\anaconda3\\lib\\site-packages\\stack_data\\utils.py\", line 145, in cached_property_wrapper\n",
      "    value = obj.__dict__[self.func.__name__] = self.func(obj)\n",
      "  File \"C:\\Users\\RIDHO\\anaconda3\\lib\\site-packages\\stack_data\\core.py\", line 649, in included_pieces\n",
      "    pos = scope_pieces.index(self.executing_piece)\n",
      "  File \"C:\\Users\\RIDHO\\anaconda3\\lib\\site-packages\\stack_data\\utils.py\", line 145, in cached_property_wrapper\n",
      "    value = obj.__dict__[self.func.__name__] = self.func(obj)\n",
      "  File \"C:\\Users\\RIDHO\\anaconda3\\lib\\site-packages\\stack_data\\core.py\", line 628, in executing_piece\n",
      "    return only(\n",
      "  File \"C:\\Users\\RIDHO\\anaconda3\\lib\\site-packages\\executing\\executing.py\", line 164, in only\n",
      "    raise NotOneValueFound('Expected one value, found 0')\n",
      "executing.executing.NotOneValueFound: Expected one value, found 0\n"
     ]
    }
   ],
   "source": [
    "import pandas as pd\n",
    "import numpy as np\n",
    "import matplotlib.pyplot as plt\n",
    "import seaborn as sns\n",
    "import pandas_profiling\n",
    "import pickle\n",
    "\n",
    "%matplotlib inline"
   ]
  },
  {
   "cell_type": "code",
   "execution_count": null,
   "id": "f083435e",
   "metadata": {
    "id": "oM78tUnuv3_F"
   },
   "outputs": [],
   "source": [
    "data = pd.read_csv('Placement_Data_Full_Class.csv')\n",
    "\n",
    "#Remove Serial Number\n",
    "data.drop(\"sl_no\", axis=1, inplace=True)"
   ]
  },
  {
   "cell_type": "markdown",
   "id": "39ccbdf0",
   "metadata": {
    "id": "mKiwHTkAw7Hx"
   },
   "source": [
    "### Examining Dataset\n"
   ]
  },
  {
   "cell_type": "code",
   "execution_count": null,
   "id": "9225727f",
   "metadata": {
    "colab": {
     "base_uri": "https://localhost:8080/",
     "height": 287
    },
    "id": "hJhD-dbvw6Z0",
    "outputId": "266f759e-16f9-42e2-be8c-05b67e520668"
   },
   "outputs": [],
   "source": [
    "data.head()"
   ]
  },
  {
   "cell_type": "markdown",
   "id": "2f853983",
   "metadata": {
    "id": "wtDZh95Cw-t5"
   },
   "source": [
    "Kesimpulan\n",
    "\n",
    "- Kami memiliki data kualifikasi Gender dan Pendidikan\n",
    "- Kami memiliki semua data kinerja (skor) pendidikan\n",
    "- Kami memiliki status penempatan dan detail gaji\n",
    "- Kita dapat mengharapkan nilai nol dalam gaji karena kandidat yang tidak ditempatkan tidak akan memiliki gaji\n",
    "- Status penempatan adalah variabel target kami sisanya adalah variabel independen kecuali gaji"
   ]
  },
  {
   "cell_type": "code",
   "execution_count": null,
   "id": "13a4053d",
   "metadata": {
    "colab": {
     "base_uri": "https://localhost:8080/"
    },
    "id": "xfxqp8IxxE--",
    "outputId": "7cde26da-c522-467b-da5e-5b3ab618c0b7"
   },
   "outputs": [],
   "source": [
    "print (\"The shape of the  data is (row, column):\"+ str(data.shape))\n",
    "print (data.info())"
   ]
  },
  {
   "cell_type": "code",
   "execution_count": null,
   "id": "ad82566c",
   "metadata": {
    "colab": {
     "base_uri": "https://localhost:8080/",
     "height": 822
    },
    "id": "JTpK0sMjxJCh",
    "outputId": "c64bbe2d-6bf9-4f06-f08d-39bc287ab259"
   },
   "outputs": [],
   "source": [
    "report = data.profile_report(title='Campus Placement Data - Report',progress_bar=False)\n",
    "report\n",
    "\n",
    "# Uncomment syntax below to make new html file\n",
    "\n",
    "# report.to_file(output_file='output.html')"
   ]
  },
  {
   "cell_type": "markdown",
   "id": "fb87835e",
   "metadata": {
    "id": "ovRVclTSTiqd"
   },
   "source": [
    "- 67 Nilai yang hilang dalam Gaji untuk siswa yang tidak ditempatkan. Nilai NaN perlu diisi.\n",
    "- Data tidak diskalakan. Kolom gaji berkisar antara 200k-940k, kolom numerik lainnya adalah persentase.\n",
    "- 300k pada Persentil ke-75 berjalan hingga maks 940k, dalam Gaji (skewnwss tinggi). Dengan demikian, outlier pada akhir gaji tinggi."
   ]
  },
  {
   "cell_type": "markdown",
   "id": "a27c5e6b",
   "metadata": {
    "id": "FMe4nmfYzBE4"
   },
   "source": [
    "Data Cleaning / Handling missing values\n"
   ]
  },
  {
   "cell_type": "code",
   "execution_count": null,
   "id": "460b5bd9",
   "metadata": {
    "colab": {
     "base_uri": "https://localhost:8080/"
    },
    "id": "hMBhT5c6zAiJ",
    "outputId": "c70725b9-03ce-4a78-9547-abc209a266fb"
   },
   "outputs": [],
   "source": [
    "data['salary'].fillna(value=0, inplace=True)\n",
    "print('Salary column with null values:',\n",
    "      data['salary'].isnull().sum(), sep = '\\n')"
   ]
  },
  {
   "cell_type": "markdown",
   "id": "9034a41d",
   "metadata": {
    "id": "zViGUi7vzR_f"
   },
   "source": [
    "Exploring Data by each Features (Optional)\n"
   ]
  },
  {
   "cell_type": "code",
   "execution_count": null,
   "id": "61d3838d",
   "metadata": {
    "colab": {
     "base_uri": "https://localhost:8080/"
    },
    "id": "MwgNdF6ezTqA",
    "outputId": "d09e82f3-5569-421d-b8a1-3b9f46b06504"
   },
   "outputs": [],
   "source": [
    "\"\"\"\n",
    "Feature: Gender\n",
    "\n",
    "Does gender affect placements?\n",
    "\"\"\"\n",
    "\n",
    "data.gender.value_counts()"
   ]
  },
  {
   "cell_type": "code",
   "execution_count": null,
   "id": "446be615",
   "metadata": {
    "colab": {
     "base_uri": "https://localhost:8080/",
     "height": 335
    },
    "id": "kP_XhDuMzWxv",
    "outputId": "9012e721-ca2d-4bac-8c28-6d1f0b321d10"
   },
   "outputs": [],
   "source": [
    "sns.countplot(\"gender\", hue=\"status\", data=data)\n",
    "plt.show()"
   ]
  },
  {
   "cell_type": "code",
   "execution_count": null,
   "id": "3a69a543",
   "metadata": {
    "colab": {
     "base_uri": "https://localhost:8080/",
     "height": 290
    },
    "id": "j_TAxJTkzacX",
    "outputId": "b87f8e3f-c756-49d6-c6b5-31fd6080d102"
   },
   "outputs": [],
   "source": [
    "sns.kdeplot(data.salary[data.gender==\"M\"])\n",
    "sns.kdeplot(data.salary[data.gender==\"F\"])\n",
    "plt.legend([\"Male\", \"Female\"])\n",
    "plt.xlabel(\"Salary (100k)\")\n",
    "plt.show()"
   ]
  },
  {
   "cell_type": "code",
   "execution_count": null,
   "id": "747ac647",
   "metadata": {
    "colab": {
     "base_uri": "https://localhost:8080/",
     "height": 374
    },
    "id": "DLLe4KZIzdEv",
    "outputId": "351a0f20-c77f-4cb2-c56d-0442538dedf1"
   },
   "outputs": [],
   "source": [
    "plt.figure(figsize =(18,6))\n",
    "sns.boxplot(\"salary\", \"gender\", data=data)\n",
    "plt.show()"
   ]
  },
  {
   "cell_type": "markdown",
   "id": "6c4fd4bf",
   "metadata": {
    "id": "3WtPJAaszfmR"
   },
   "source": [
    "Wawasan\n",
    "\n",
    "- Kami memiliki sampel 139 siswa laki-laki dan 76 siswa perempuan.\n",
    "- 30 siswa perempuan dan 40 siswa laki-laki tidak ditempatkan. - - Siswa laki-laki memiliki penempatan yang relatif lebih tinggi.\n",
    "- Siswa laki-laki ditawari gaji yang sedi"
   ]
  },
  {
   "cell_type": "code",
   "execution_count": null,
   "id": "f6ee87b2",
   "metadata": {
    "colab": {
     "base_uri": "https://localhost:8080/",
     "height": 278
    },
    "id": "GINnuFWhzrce",
    "outputId": "0f6b4930-4f85-4391-93c3-b8b4c98b23cd"
   },
   "outputs": [],
   "source": [
    "\"\"\"\n",
    "Feature: ssc_p (Secondary Education percentage), ssc_b (Board Of Education)\n",
    "\n",
    "Does Secondary Education affect placements?\n",
    "\"\"\"\n",
    "sns.kdeplot(data.ssc_p[data.status==\"Placed\"])\n",
    "sns.kdeplot(data.ssc_p[data.status==\"Not Placed\"])\n",
    "plt.legend([\"Placed\", \"Not Placed\"])\n",
    "plt.xlabel(\"Secondary Education Percentage\")\n",
    "plt.show()"
   ]
  },
  {
   "cell_type": "markdown",
   "id": "0f63b0af",
   "metadata": {
    "id": "w1rbOONyzt_R"
   },
   "source": [
    "- Semua siswa dengan Persentase Pendidikan Menengah di atas 90% ditempatkan\n",
    "- Semua siswa dengan Persentase Pendidikan Menengah di bawah 50% tidak ditempatkan\n",
    "- Siswa dengan Persentase Pendidikan Menengah yang baik ditempatkan rata-rata."
   ]
  },
  {
   "cell_type": "code",
   "execution_count": null,
   "id": "c1400f36",
   "metadata": {
    "colab": {
     "base_uri": "https://localhost:8080/",
     "height": 336
    },
    "id": "pTQ4en_3zyyl",
    "outputId": "b32dbc4a-25a6-4d51-befa-54fcb2f9f99d"
   },
   "outputs": [],
   "source": [
    "sns.countplot(\"ssc_b\", hue=\"status\", data=data)\n",
    "plt.show()\n"
   ]
  },
  {
   "cell_type": "markdown",
   "id": "f80f462d",
   "metadata": {
    "id": "6NhNzeQZz1wv"
   },
   "source": [
    "Board Of Education tidak banyak mempengaruhi Placement Status.\n",
    "\n"
   ]
  },
  {
   "cell_type": "code",
   "execution_count": null,
   "id": "35f7cf01",
   "metadata": {
    "colab": {
     "base_uri": "https://localhost:8080/",
     "height": 366
    },
    "id": "VXwZtvxez3V2",
    "outputId": "ef495fcc-6b7f-4d92-f55c-400b85cd86be"
   },
   "outputs": [],
   "source": [
    "plt.figure(figsize =(18,6))\n",
    "sns.boxplot(\"salary\", \"ssc_b\", data=data)\n",
    "plt.show()"
   ]
  },
  {
   "cell_type": "markdown",
   "id": "43a05b53",
   "metadata": {
    "id": "8Yt_9aj_z5Nd"
   },
   "source": [
    "Outliers terdapat pada keduanya, tetapi siswa dari Central Board mendapatkan pekerjaan bergaji tinggi.\n",
    "\n"
   ]
  },
  {
   "cell_type": "code",
   "execution_count": null,
   "id": "baed08de",
   "metadata": {
    "colab": {
     "base_uri": "https://localhost:8080/",
     "height": 335
    },
    "id": "QSJgX1Jwz6fK",
    "outputId": "e5a6c862-bfe9-4865-a8d8-be5d5a4ff718"
   },
   "outputs": [],
   "source": [
    "sns.lineplot(\"ssc_p\", \"salary\", hue=\"ssc_b\", data=data)\n",
    "plt.show()"
   ]
  },
  {
   "cell_type": "markdown",
   "id": "09e1cdc2",
   "metadata": {
    "id": "ri9jk_LO0By6"
   },
   "source": [
    "Tidak ada pola khusus (correlation) antara Secondary Education Percentage dan Salary. Board of Education Tidak Mempengaruhi Gaji\n",
    "\n",
    "Kita dapat membuat grafik sendiri dari sini."
   ]
  },
  {
   "cell_type": "code",
   "execution_count": null,
   "id": "ee1b7875",
   "metadata": {
    "colab": {
     "base_uri": "https://localhost:8080/",
     "height": 436
    },
    "id": "VP3iYFjc0DNe",
    "outputId": "39829870-ff1a-4b67-b38a-a7654bf37d7a"
   },
   "outputs": [],
   "source": [
    "sns.set(rc={'figure.figsize':(12,8)})\n",
    "sns.set(style=\"white\", color_codes=True)\n",
    "sns.jointplot(x=data[\"etest_p\"], y=data[\"salary\"], kind='kde', color=\"skyblue\")\n",
    "\n",
    "plt.show()"
   ]
  },
  {
   "cell_type": "markdown",
   "id": "e0e40361",
   "metadata": {
    "id": "V2M2yVcU0HdJ"
   },
   "source": [
    "- Sebagian besar kandidat yang mendapat skor sekitar 60 persen mendapat paket yang layak sekitar 3 lakh PA\n",
    "- Tidak banyak kandidat yang menerima gaji lebih dari 4 lakh PA\n",
    "- Bagian padat bawah menunjukkan kandidat yang tidak ditempatkan"
   ]
  },
  {
   "cell_type": "code",
   "execution_count": null,
   "id": "4dec12a3",
   "metadata": {
    "colab": {
     "base_uri": "https://localhost:8080/",
     "height": 845
    },
    "id": "bmmLwmHy0Npf",
    "outputId": "fbdb6d03-3b11-4d2f-e574-ddc42e17f2cc"
   },
   "outputs": [],
   "source": [
    "plt.figure(figsize = (15, 7))\n",
    "plt.style.use('seaborn-white')\n",
    "plt.subplot(231)\n",
    "sns.distplot(data['ssc_p'])\n",
    "fig = plt.gcf()\n",
    "fig.set_size_inches(10,10)\n",
    "\n",
    "plt.subplot(232)\n",
    "sns.distplot(data['hsc_p'])\n",
    "fig = plt.gcf()\n",
    "fig.set_size_inches(10,10)\n",
    "\n",
    "plt.subplot(233)\n",
    "sns.distplot(data['degree_p'])\n",
    "fig = plt.gcf()\n",
    "fig.set_size_inches(10,10)\n",
    "\n",
    "plt.subplot(234)\n",
    "sns.distplot(data['etest_p'])\n",
    "fig = plt.gcf()\n",
    "fig.set_size_inches(10,10)\n",
    "\n",
    "plt.subplot(235)\n",
    "sns.distplot(data['mba_p'])\n",
    "fig = plt.gcf()\n",
    "fig.set_size_inches(10,10)\n",
    "\n",
    "plt.subplot(236)\n",
    "sns.distplot(data['salary'])\n",
    "fig = plt.gcf()\n",
    "fig.set_size_inches(10,10)"
   ]
  },
  {
   "cell_type": "markdown",
   "id": "b9fb6c72",
   "metadata": {
    "id": "fr9WivvI0G2u"
   },
   "source": [
    "- Semua distribusi mengikuti distribusi normal kecuali fitur gaji\n",
    "- Sebagian besar kinerja pendidikan calon adalah antara 60-80%\n",
    "- Distribusi gaji mendapat outlier dimana hanya sedikit yang mendapat gaji 7,5L dan 10L PA"
   ]
  },
  {
   "cell_type": "code",
   "execution_count": null,
   "id": "c773ec8e",
   "metadata": {
    "colab": {
     "base_uri": "https://localhost:8080/",
     "height": 425
    },
    "id": "hy9hUxTD0VwC",
    "outputId": "1e7a55a9-8742-45fe-c517-22c1393597c8"
   },
   "outputs": [],
   "source": [
    "plt.style.use('seaborn-white')\n",
    "f,ax=plt.subplots(1,2,figsize=(18,8))\n",
    "data['workex'].value_counts().plot.pie(explode=[0,0.05], autopct='%1.1f%%', ax=ax[0], shadow=True)\n",
    "ax[0].set_title('Work experience')\n",
    "sns.countplot(x = 'workex',hue = \"status\",data = data)\n",
    "ax[1].set_title('Influence of experience on placement')\n",
    "\n",
    "plt.show()"
   ]
  },
  {
   "cell_type": "markdown",
   "id": "fb501905",
   "metadata": {
    "id": "IFJu7CIa0ZJm"
   },
   "source": [
    "- Kami memiliki hampir 66,2% kandidat yang tidak pernah memiliki pengalaman kerja\n",
    "- Kandidat yang tidak pernah memiliki pengalaman kerja lebih banyak dipekerjakan daripada yang memiliki pengalaman\n",
    "- Kita dapat menyimpulkan bahwa pengalaman kerja tidak mempengaruhi kandidat dalam proses rekrutmen"
   ]
  },
  {
   "cell_type": "markdown",
   "id": "358cd8d1",
   "metadata": {
    "id": "zV0XoOVG0efw"
   },
   "source": []
  },
  {
   "cell_type": "markdown",
   "id": "781ae4a0",
   "metadata": {
    "id": "y0Rn1POO0eOU"
   },
   "source": [
    "## Preprocessing data for classfication models\n"
   ]
  },
  {
   "cell_type": "code",
   "execution_count": null,
   "id": "798fb7ca",
   "metadata": {
    "colab": {
     "base_uri": "https://localhost:8080/",
     "height": 270
    },
    "id": "MsOEtlPz0cFo",
    "outputId": "4b33416d-7c68-4f7c-c24c-e24ac245d498"
   },
   "outputs": [],
   "source": [
    "from sklearn.preprocessing import LabelEncoder\n",
    "\n",
    "object_cols = ['gender','workex','specialisation','status']\n",
    "\n",
    "label_encoder = LabelEncoder()\n",
    "for col in object_cols:\n",
    "    data[col] = label_encoder.fit_transform(data[col])\n",
    "data.head()"
   ]
  },
  {
   "cell_type": "code",
   "execution_count": null,
   "id": "78d6e9bf",
   "metadata": {
    "id": "lQgNyBxK0nZR"
   },
   "outputs": [],
   "source": [
    "# Library imports\n",
    "from sklearn.tree import DecisionTreeClassifier\n",
    "from sklearn.ensemble import RandomForestClassifier\n",
    "from sklearn.linear_model import LogisticRegression\n",
    "\n",
    "from sklearn.model_selection import train_test_split\n",
    "from sklearn.metrics import accuracy_score, classification_report"
   ]
  },
  {
   "cell_type": "code",
   "execution_count": null,
   "id": "4eb547e5",
   "metadata": {
    "id": "EMjCaUwH0qIn"
   },
   "outputs": [],
   "source": [
    "# Seperating Features and Target\n",
    "X = data[['ssc_p', 'hsc_p', 'degree_p', 'etest_p']]\n",
    "y = data['status']"
   ]
  },
  {
   "cell_type": "code",
   "execution_count": null,
   "id": "1731a9f8",
   "metadata": {
    "id": "jxpjHsB90sO3"
   },
   "outputs": [],
   "source": [
    "#Train Test Split\n",
    "X_train, X_test, y_train, y_test = train_test_split(X, y, test_size=0.3, random_state=4)"
   ]
  },
  {
   "cell_type": "code",
   "execution_count": null,
   "id": "dc03b514",
   "metadata": {
    "colab": {
     "base_uri": "https://localhost:8080/"
    },
    "id": "SeBavdFo0uVx",
    "outputId": "27cc281d-aea8-4924-9249-4e0abcd518da"
   },
   "outputs": [],
   "source": [
    "# Decision Tree\n",
    "dtree = DecisionTreeClassifier(criterion='entropy')\n",
    "dtree.fit(X_train, y_train)\n",
    "\n",
    "y_pred = dtree.predict(X_test)\n",
    "\n",
    "print(\"Accuracy Score:\", accuracy_score(y_test, y_pred))\n",
    "print(classification_report(y_test, y_pred))"
   ]
  },
  {
   "cell_type": "code",
   "execution_count": null,
   "id": "3e0a7194",
   "metadata": {
    "colab": {
     "base_uri": "https://localhost:8080/"
    },
    "id": "vW-n0QZN0yLu",
    "outputId": "70b1f581-9469-41c2-fc27-df19a0be9bd0"
   },
   "outputs": [],
   "source": [
    "#Using Random Forest\n",
    "random_forest = RandomForestClassifier(n_estimators=100)\n",
    "random_forest.fit(X_train, y_train)\n",
    "\n",
    "y_pred = random_forest.predict(X_test)\n",
    "\n",
    "print(\"Accuracy Score:\", accuracy_score(y_test, y_pred))\n",
    "print(classification_report(y_test, y_pred))"
   ]
  },
  {
   "cell_type": "code",
   "execution_count": null,
   "id": "c845799a",
   "metadata": {
    "colab": {
     "base_uri": "https://localhost:8080/"
    },
    "id": "bfWmkmGP01Cb",
    "outputId": "32682b64-23b3-4a8d-8e14-5c6fb0a6c5a8"
   },
   "outputs": [],
   "source": [
    "#Using Logistic Regression\n",
    "\n",
    "LogR = LogisticRegression(solver='lbfgs')\n",
    "LogR.fit(X_train, y_train)\n",
    "\n",
    "y_pred = LogR.predict(X_test)\n",
    "\n",
    "print(\"Accuracy Score:\", accuracy_score(y_test, y_pred))\n",
    "print(classification_report(y_test, y_pred))"
   ]
  },
  {
   "cell_type": "markdown",
   "id": "f4d0b08b",
   "metadata": {
    "id": "BVH9jvsg03Y3"
   },
   "source": [
    "# Getting ready for deployment\n"
   ]
  },
  {
   "cell_type": "markdown",
   "id": "d34d4ace",
   "metadata": {
    "id": "mM9XMJPh0456"
   },
   "source": [
    "## Pickle"
   ]
  },
  {
   "cell_type": "markdown",
   "id": "8e8f5acd",
   "metadata": {
    "id": "GMjXA4Qx07wE"
   },
   "source": [
    "Modul pickle Python digunakan untuk serializing dan de-serializing struktur objek Python. Objek apa pun dengan Python dapat dibuat pickled sehingga dapat disimpan di disk. Apa yang dilakukan pickle adalah 'serializes' objek terlebih dahulu sebelum menulisnya ke file. Pickling adalah cara untuk mengubah objek python (list, dict, etc.) Menjadi character stream. Idenya adalah bahwa character stream ini berisi semua informasi yang diperlukan untuk merekonstruksi objek dalam skrip python lain.\n",
    "\n"
   ]
  },
  {
   "cell_type": "code",
   "execution_count": null,
   "id": "5ffba52c",
   "metadata": {
    "id": "bSjVO86g04Iv"
   },
   "outputs": [],
   "source": [
    "pickle.dump(random_forest, open('model_classifier.pkl','wb'))"
   ]
  },
  {
   "cell_type": "markdown",
   "id": "88917267",
   "metadata": {
    "id": "N4mgBfB40_X-"
   },
   "source": [
    "## Brief introduction to HTML and CSS\n"
   ]
  },
  {
   "cell_type": "markdown",
   "id": "304b9426",
   "metadata": {
    "id": "HC1NGhq61B3q"
   },
   "source": [
    "HTML adalah standard markup language untuk membuat halaman Web.\n",
    "\n"
   ]
  },
  {
   "cell_type": "markdown",
   "id": "7e306164",
   "metadata": {
    "id": "M3gZ8FiR1D3F"
   },
   "source": [
    "## What is HTML?\n",
    "- HTML stands for Hyper Text Markup Language\n",
    "- HTML is the standard markup language for creating Web pages\n",
    "- HTML describes the structure of a Web page\n",
    "- HTML consists of a series of elements\n",
    "- HTML elements tell the browser how to display the content\n",
    "- HTML elements label pieces of content such as \"this is a heading\", \"this is a paragraph\", \"this is a link\", etc.\n",
    "\n",
    "## A Simple HTML Document\n"
   ]
  },
  {
   "cell_type": "markdown",
   "id": "d8bcd253",
   "metadata": {
    "id": "5XYwg3wz1QRK"
   },
   "source": [
    "```\n",
    "<!DOCTYPE html>\n",
    "<html>\n",
    "<head>\n",
    "  <title>Page Title</title>\n",
    "</head>\n",
    "<body>\n",
    "\n",
    "  <h1>My First Heading</h1>\n",
    "  <p>My first paragraph.</p>\n",
    "\n",
    "</body>\n",
    "</html>\n",
    "```"
   ]
  },
  {
   "cell_type": "markdown",
   "id": "a0baeb8b",
   "metadata": {
    "id": "M3wprH-T1hJo"
   },
   "source": [
    "- ```<!DOCTYPE html>``` mendefinisikan bahwa dokumen ini adalah dokumen HTML5\n",
    "- ```<html>``` elemen adalah elemen root dari halaman HTML\n",
    "- ```<head>``` elemen berisi informasi meta tentang halaman HTML\n",
    "- ```<title>``` elemen menentukan judul untuk halaman HTML (yang ditampilkan di judul browser atau di tab halaman)\n",
    "- ```<body>``` elemen mendefinisikan badan dokumen, dan merupakan wadah untuk semua konten yang terlihat, seperti headings, paragraphs, images, hyperlinks, tables, lists, dll.\n",
    "- ```<h1>``` elemen mendefinisikan headingbesar\n",
    "- The ```<p>``` element mendefinisikan sebuah paragraph"
   ]
  },
  {
   "cell_type": "markdown",
   "id": "45d5884e",
   "metadata": {
    "id": "SEHFPVuv12Cg"
   },
   "source": [
    "## What is an HTML Element?\n"
   ]
  },
  {
   "cell_type": "markdown",
   "id": "65489751",
   "metadata": {
    "id": "4GZNu7UN15N8"
   },
   "source": [
    "Elemen HTML ditentukan oleh tag awal, beberapa konten, dan tag akhir:\n",
    "\n",
    "```<tagname>Content goes here...</tagname>```\n",
    "\n",
    "Elemen HTML adalah apapun yang dimulai dari tag awal hingga tag akhir:"
   ]
  },
  {
   "cell_type": "markdown",
   "id": "b6674d89",
   "metadata": {
    "id": "p9zGfHr618Ai"
   },
   "source": [
    "```\n",
    "<h1>My First Heading</h1>\n",
    "<p>My first paragraph.</p>\n",
    "```"
   ]
  },
  {
   "cell_type": "markdown",
   "id": "d9724582",
   "metadata": {
    "id": "A3K24T1G2Cpm"
   },
   "source": [
    "CSS adalah singkatan dari Cascading Style Sheets.\n",
    "\n",
    "CSS menghemat banyak pekerjaan. CSS dapat mengontrol tata letak beberapa halaman web sekaligus."
   ]
  },
  {
   "cell_type": "markdown",
   "id": "08351005",
   "metadata": {
    "id": "7S1osc-q2DRx"
   },
   "source": [
    "## What is CSS?\n"
   ]
  },
  {
   "cell_type": "markdown",
   "id": "c22cbb67",
   "metadata": {
    "id": "Es2XzB9q2HFt"
   },
   "source": [
    "Cascading Style Sheets (CSS) digunakan untuk memformat tata letak halaman web.\n",
    "\n",
    "Dengan CSS, kita dapat mengontrol warna, font, ukuran teks, jarak antar elemen, bagaimana elemen diposisikan dan ditata, gambar latar belakang atau warna latar yang akan digunakan, tampilan yang berbeda untuk perangkat dan ukuran layar yang berbeda, dan banyak lagi."
   ]
  },
  {
   "cell_type": "markdown",
   "id": "047ed184",
   "metadata": {
    "id": "Nz11Vi692H5B"
   },
   "source": [
    "## CSS Syntax\n"
   ]
  },
  {
   "cell_type": "markdown",
   "id": "679cc66d",
   "metadata": {
    "id": "BL4dbT-N2LEB"
   },
   "source": [
    "Set aturan CSS terdiri dari selector dan declaration block:\n",
    "\n"
   ]
  },
  {
   "cell_type": "markdown",
   "id": "d9548963",
   "metadata": {
    "id": "skVOZgQY2L21"
   },
   "source": [
    "<img src=\"https://i.ibb.co/zbJTWJ3/css.gif\" width=\"500\" align=\"center\">\n"
   ]
  },
  {
   "cell_type": "markdown",
   "id": "1d769206",
   "metadata": {
    "id": "ueA75Lqe2O0w"
   },
   "source": [
    "- The selector points to the HTML element you want to style.\n",
    "- The declaration block contains one or more declarations separated by semicolons.\n",
    "- Each declaration includes a CSS property name and a value, separated by a colon.\n",
    "- Multiple CSS declarations are separated with semicolons, and declaration blocks are surrounded by curly braces."
   ]
  },
  {
   "cell_type": "markdown",
   "id": "6c30ad3b",
   "metadata": {
    "id": "QET7r7hZ2Txk"
   },
   "source": [
    "## Using CSS\n"
   ]
  },
  {
   "cell_type": "markdown",
   "id": "beb218a7",
   "metadata": {
    "id": "OO--HiEY2VyF"
   },
   "source": [
    "CSS dapat ditambahkan ke dokumen HTML dengan 3 cara:\n",
    "\n",
    "CSS dapat ditambahkan ke dokumen HTML dengan 3 cara:\n",
    "\n",
    "- Inline - by using the style attribute inside HTML elements\n",
    "- Internal - by using a ```<style>``` element in the ```<head>``` section\n",
    "- External - by using a ```<link>``` element to link to an external CSS file\n",
    "\n",
    "Cara paling umum untuk menambahkan CSS, adalah menempatkan style dalam file CSS eksternal."
   ]
  },
  {
   "cell_type": "markdown",
   "id": "792a3b8a",
   "metadata": {
    "id": "QlH3nIf-2kTC"
   },
   "source": [
    "## Inline CSS\n",
    "Inline CSS digunakan untuk menerapkan style unik ke satu elemen HTML.\n",
    "\n",
    "Inline CSS menggunakan style attribute dari elemen HTML.\n",
    "\n",
    "Contoh berikut bagaimana cara mengatur warna teks elemen ```<h1>``` menjadi biru, dan warna teks elemen ```<p>`` menjadi merah:"
   ]
  },
  {
   "cell_type": "markdown",
   "id": "8dac67ae",
   "metadata": {
    "id": "HBTWxBWx2qkj"
   },
   "source": [
    "```\n",
    "<h1 style=\"color:blue;\">A Blue Heading</h1>\n",
    "\n",
    "<p style=\"color:red;\">A red paragraph.</p>\n",
    "```"
   ]
  },
  {
   "cell_type": "markdown",
   "id": "20326b3a",
   "metadata": {
    "id": "SNapM_9p2t8c"
   },
   "source": [
    "\n",
    "## Internal CSS\n",
    "\n",
    "CSS internal digunakan untuk menentukan style untuk satu halaman HTML.\n",
    "\n",
    "CSS internal ditentukan di bagian <head> halaman HTML, dalam elemen <style>.\n",
    "\n",
    "Contoh berikut mengatur warna teks SEMUA elemen <h1> (pada halaman itu) menjadi biru, dan warna teks SEMUA elemen <p> menjadi merah. Selain itu, halaman akan ditampilkan dengan warna latar belakang \"powderblue\":"
   ]
  },
  {
   "cell_type": "markdown",
   "id": "7e1b9e8d",
   "metadata": {
    "id": "WfB6FOI62xhk"
   },
   "source": [
    "```\n",
    "<!DOCTYPE html>\n",
    "<html>\n",
    "<head>\n",
    "<style>\n",
    "  body {background-color: powderblue;}\n",
    "  h1   {color: blue;}\n",
    "  p    {color: red;}\n",
    "</style>\n",
    "</head>\n",
    "<body>\n",
    "\n",
    "  <h1>This is a heading</h1>\n",
    "  <p>This is a paragraph.</p>\n",
    "\n",
    "</body>\n",
    "</html>\n",
    "```"
   ]
  },
  {
   "cell_type": "markdown",
   "id": "bea6f10c",
   "metadata": {
    "id": "VHoiSMn521xq"
   },
   "source": [
    "## External CSS\n",
    "Style sheet eksternal digunakan untuk menentukan style untuk banyak halaman HTML.\n",
    "\n",
    "Untuk menggunakan style sheet eksternal, tambahkan link ke dalamnya di bagian <head> pada setiap halaman HTML:"
   ]
  },
  {
   "cell_type": "markdown",
   "id": "ec9dbca5",
   "metadata": {
    "id": "tsmJZ4cF242P"
   },
   "source": [
    "```\n",
    "<!DOCTYPE html>\n",
    "<html>\n",
    "<head>\n",
    "  <link rel=\"stylesheet\" href=\"styles.css\">\n",
    "</head>\n",
    "<body>\n",
    "\n",
    "  <h1>This is a heading</h1>\n",
    "  <p>This is a paragraph.</p>\n",
    "\n",
    "</body>\n",
    "</html>\n",
    "```"
   ]
  },
  {
   "cell_type": "markdown",
   "id": "d4638f62",
   "metadata": {
    "id": "PgtrVTnO28ZS"
   },
   "source": [
    "Style sheet eksternal dapat ditulis di editor teks manapun. File tidak boleh berisi kode HTML apa pun, dan harus disimpan dengan ekstensi .css.\n",
    "\n",
    "Berikut adalah tampilan file styles.css:"
   ]
  },
  {
   "cell_type": "markdown",
   "id": "81035d31",
   "metadata": {
    "id": "55J5LTht2-XC"
   },
   "source": [
    "```\n",
    "body {\n",
    "  background-color: powderblue;\n",
    "}\n",
    "h1 {\n",
    "  color: blue;\n",
    "}\n",
    "p {\n",
    "  color: red;\n",
    "}\n",
    "```"
   ]
  },
  {
   "cell_type": "markdown",
   "id": "a999bf47",
   "metadata": {
    "id": "TdGJqWAV3CI3"
   },
   "source": [
    "# Creating web app with Flask\n",
    "\n",
    "Pastikan flask sudah terinstall dengan ```pip install flask```.\n",
    "\n",
    "Minimal Flask application terlihat seperti ini:"
   ]
  },
  {
   "cell_type": "code",
   "execution_count": null,
   "id": "889122d0",
   "metadata": {
    "colab": {
     "base_uri": "https://localhost:8080/"
    },
    "id": "FdAiUpLzl0ob",
    "outputId": "c385dec7-f1be-4797-ff21-3acc269f1206"
   },
   "outputs": [],
   "source": [
    "!pip install flask"
   ]
  },
  {
   "cell_type": "markdown",
   "id": "483840dc",
   "metadata": {},
   "source": [
    "<b> Kemudian,kita membuat file python dengan nama file hello.py"
   ]
  },
  {
   "cell_type": "code",
   "execution_count": null,
   "id": "10e327ac",
   "metadata": {
    "id": "HuP_wBYV2SRr"
   },
   "outputs": [],
   "source": [
    "from flask import Flask\n",
    "app = Flask(__name__)\n",
    "\n",
    "@app.route('/')\n",
    "def hello_world():\n",
    "    return 'Hello, World!'"
   ]
  },
  {
   "cell_type": "markdown",
   "id": "6e1f1459",
   "metadata": {},
   "source": [
    "Command dibawah ini akan meluncurkan server bawaan yang sangat sederhana, yang cukup baik untuk testing "
   ]
  },
  {
   "cell_type": "code",
   "execution_count": null,
   "id": "efbc0c84",
   "metadata": {},
   "outputs": [],
   "source": [
    "$ export FLASK_APP=hello.py\n",
    "$ flask run"
   ]
  },
  {
   "cell_type": "markdown",
   "id": "3ac64f38",
   "metadata": {},
   "source": [
    "Sekarang akses ke http://127.0.0.1:5000/ dan kita akan melihat hello world pada tampilan depan web flask yang telah kita buat."
   ]
  },
  {
   "cell_type": "markdown",
   "id": "f7fd33e5",
   "metadata": {},
   "source": [
    "# Debug Mode"
   ]
  },
  {
   "cell_type": "markdown",
   "id": "5f5fc58d",
   "metadata": {},
   "source": [
    "Untuk mengaktifkan semua fitur development (termasuk mode debug) kita dapat mengekspor FLASK_ENV environment variable dan menyetelnya ke development sebelum menjalankan server:"
   ]
  },
  {
   "cell_type": "code",
   "execution_count": null,
   "id": "f0d822a3",
   "metadata": {},
   "outputs": [],
   "source": [
    "$ export FLASK_ENV=development\n",
    "$ flask run"
   ]
  },
  {
   "cell_type": "markdown",
   "id": "93f65bc0",
   "metadata": {},
   "source": [
    "Code tersebut berguna untuk:\n",
    "1. Mengaktifkan debugger\n",
    "2. Mengaktifkan reloader otomatis\n",
    "3. Mengaktifkan mode debug pada aplikasi Flask"
   ]
  },
  {
   "cell_type": "markdown",
   "id": "7c485754",
   "metadata": {},
   "source": [
    "Kita juga dapat mengontrol mode debug secara terpisah dari environment dengan mengekspor FLASK_DEBUG=1"
   ]
  },
  {
   "cell_type": "markdown",
   "id": "2af58757",
   "metadata": {},
   "source": [
    "# Routing"
   ]
  },
  {
   "cell_type": "markdown",
   "id": "57b5adae",
   "metadata": {},
   "source": [
    "Gunakan dekorator route() untuk mengikat fungsi ke URL."
   ]
  },
  {
   "cell_type": "code",
   "execution_count": null,
   "id": "0d98ade8",
   "metadata": {
    "id": "TkyqJX_t3vDY"
   },
   "outputs": [],
   "source": [
    "@app.route('/')\n",
    "def index():\n",
    "    return 'Index Page'\n",
    "\n",
    "@app.route('/hello')\n",
    "def hello():\n",
    "    return 'Hello, World'"
   ]
  },
  {
   "cell_type": "markdown",
   "id": "df86d76a",
   "metadata": {},
   "source": [
    "# Variable Rules"
   ]
  },
  {
   "cell_type": "markdown",
   "id": "c7f7c751",
   "metadata": {},
   "source": [
    "Kita dapat menambahkan bagian variabel ke URL dengan menandai bagian dengan `<variable_name>`"
   ]
  },
  {
   "cell_type": "code",
   "execution_count": null,
   "id": "de56b8a1",
   "metadata": {
    "id": "F03vfTiq33T9"
   },
   "outputs": [],
   "source": [
    "from markupsafe import escape\n",
    "\n",
    "@app.route('/user/<username>')\n",
    "def show_user_profile(username):\n",
    "    # show the user profile for that user\n",
    "    return 'User %s' % escape(username)\n",
    "\n",
    "@app.route('/post/<int:post_id>')\n",
    "def show_post(post_id):\n",
    "    # show the post with the given id, the id is an integer\n",
    "    return 'Post %d' % post_id\n",
    "\n",
    "@app.route('/path/<path:subpath>')\n",
    "def show_subpath(subpath):\n",
    "    # show the subpath after /path/\n",
    "    return 'Subpath %s' % escape(subpath)"
   ]
  },
  {
   "cell_type": "markdown",
   "id": "b9e6d496",
   "metadata": {
    "id": "Q3_0zUEI35Jx"
   },
   "source": [
    "## HTTP Methods\n"
   ]
  },
  {
   "cell_type": "markdown",
   "id": "df573b2d",
   "metadata": {
    "id": "CtX-4TId36fV"
   },
   "source": [
    "Aplikasi web menggunakan metode HTTP yang berbeda saat mengakses URL.Secara default,route hanya menjawab permintaan GET.Kita bisa menggunakan argumen metode dekorator route() untuk menangani metode HTTP yang berbeda."
   ]
  },
  {
   "cell_type": "code",
   "execution_count": null,
   "id": "8c5a022a",
   "metadata": {
    "id": "XzfWh5443SiR"
   },
   "outputs": [],
   "source": [
    "from flask import request\n",
    "\n",
    "@app.route('/login', methods=['GET', 'POST'])\n",
    "def login():\n",
    "    if request.method == 'POST':\n",
    "        return do_the_login()\n",
    "    else:\n",
    "        return show_the_login_form()"
   ]
  },
  {
   "cell_type": "markdown",
   "id": "85d5928b",
   "metadata": {},
   "source": [
    "Jika GET tersedia, Flask secara otomatis menambahkan dukungan untuk metode HEAD dan menangani permintaan HEAD sesuai dengan HTTP RFC. Demikian juga, OPTIONS diterapkan secara otomatis untuk kita."
   ]
  },
  {
   "cell_type": "markdown",
   "id": "3a4709f6",
   "metadata": {},
   "source": [
    "## Static Files"
   ]
  },
  {
   "cell_type": "markdown",
   "id": "f35bf2bc",
   "metadata": {},
   "source": [
    "menghasilkan URL untuk file statis, gunakan endpoint name 'static': \n",
    "\n",
    "url_for('static', filename='style.css') \n",
    "\n",
    "File harus disimpan di sistem file sebagai static/style.csss"
   ]
  },
  {
   "cell_type": "markdown",
   "id": "a3822f60",
   "metadata": {},
   "source": [
    "# Rendering Templates"
   ]
  },
  {
   "cell_type": "markdown",
   "id": "94b90f0e",
   "metadata": {},
   "source": [
    "Membuat HTML dari dalam Python tidaklah menyenangkan, dan sebenarnya cukup rumit karena kita harus melakukan HTML escaping sendiri untuk menjaga keamanan aplikasi. Karena itu Flask mengkonfigurasi template engine Jinja2 untuk kita  secara otomatis."
   ]
  },
  {
   "cell_type": "markdown",
   "id": "d92a916b",
   "metadata": {},
   "source": [
    "<b> Untuk merender template kita bisa menggunakan metode render_template()"
   ]
  },
  {
   "cell_type": "markdown",
   "id": "3a4e377d",
   "metadata": {},
   "source": [
    "```\n",
    "from flask import render_template \n",
    "@app.route('/hello/') \n",
    "@app.route('/hello/<name>') \n",
    "def hello(name=None): \n",
    "    return render_template('hello.html', name=name)\n",
    "```"
   ]
  },
  {
   "cell_type": "markdown",
   "id": "7ba831d4",
   "metadata": {
    "id": "7RXuj6av4NeW"
   },
   "source": [
    "<b> Flask akan mencari templates di folder templates .Jadi, jika aplikasi kita adalah sebuah modul, folder ini berada di sebelah modul tersebut, jika itu sebuah paket, itu sebenarnya ada di dalam package kita: </b>\n",
    "\n",
    "Case 1: a module:\n",
    "```\n",
    "/application.py\n",
    "/template\n",
    "\t/hello.html\n",
    "```"
   ]
  },
  {
   "cell_type": "markdown",
   "id": "2dc2e4e6",
   "metadata": {},
   "source": [
    "Case 2: a package:\n",
    "```\n",
    "/application\n",
    "\t/__init__.py\n",
    "\t/template\n",
    "\t\t/hello.html\n",
    "```"
   ]
  },
  {
   "cell_type": "markdown",
   "id": "f11ab0ee",
   "metadata": {},
   "source": [
    "<b> Untuk template, kita dapat menggunakan template Jinja2."
   ]
  },
  {
   "cell_type": "markdown",
   "id": "66dc4dfc",
   "metadata": {},
   "source": [
    "Berikut ini contoh template:"
   ]
  },
  {
   "cell_type": "markdown",
   "id": "66c915bd",
   "metadata": {},
   "source": [
    "```\n",
    "<!doctype html>\n",
    "<title>Hello from flask</title>\n",
    "(% if name %)\n",
    "    <h1>Hello {{ name }}</h1>\n",
    "(% else %)\n",
    "    <h1>Hello, World!</h1>\n",
    "(% endif %)\n",
    "```"
   ]
  },
  {
   "cell_type": "markdown",
   "id": "073480bc",
   "metadata": {},
   "source": [
    "# Make Our Own Flask"
   ]
  },
  {
   "cell_type": "markdown",
   "id": "2fa2a0b5",
   "metadata": {},
   "source": [
    "Ada beberapa hal yang perlu kita kumpulkan untuk aplikasi web. Dua yang pertama adalah: \n",
    "- Kode Python yang akan memuat model kita, mendapatkan input pengguna dari formulir web, melakukan prediksi, mengembalikan hasil. \n",
    "- Template HTML yang diisi dengan render. Ini memungkinkan pengguna untuk memasukkan data mereka sendiri dan akan mempresentasikan hasilnya."
   ]
  },
  {
   "cell_type": "markdown",
   "id": "f109c655",
   "metadata": {},
   "source": [
    "Aplikasi kita pada awalnya akan memiliki struktur seperti ini:\n",
    "```\n",
    "H8Deployment/\n",
    "    |-- model/\n",
    "    |   |-- model_classifier.pkl\n",
    "    |-- static\n",
    "    |   |-- css\n",
    "    |       |--style.css\n",
    "    |-- templates/\n",
    "    |   |-- main.html\n",
    "    |-- app.py\n",
    "```"
   ]
  },
  {
   "cell_type": "markdown",
   "id": "c2fa375c",
   "metadata": {},
   "source": [
    "### app.py "
   ]
  },
  {
   "cell_type": "markdown",
   "id": "60d2f4a7",
   "metadata": {},
   "source": [
    "Ini adalah inti dari aplikasi web kita. app.py juga yang akan dijalankan di server Heroku, mengirimkan halaman web dan memproses masukan dari pengguna."
   ]
  },
  {
   "cell_type": "code",
   "execution_count": null,
   "id": "3ebfef55",
   "metadata": {},
   "outputs": [
    {
     "name": "stdout",
     "output_type": "stream",
     "text": [
      " * Serving Flask app '__main__' (lazy loading)\n",
      " * Environment: production\n",
      "\u001b[31m   WARNING: This is a development server. Do not use it in a production deployment.\u001b[0m\n",
      "\u001b[2m   Use a production WSGI server instead.\u001b[0m\n",
      " * Debug mode: off\n"
     ]
    },
    {
     "name": "stderr",
     "output_type": "stream",
     "text": [
      " * Running on http://127.0.0.1:5000 (Press CTRL+C to quit)\n"
     ]
    }
   ],
   "source": [
    "import flask \n",
    "app = flask.Flask(__name__, template_folder='templates') \n",
    "\n",
    "@app.route('/') \n",
    "def main(): \n",
    "    return(flask.render_template('main.html')) \n",
    "if __name__ == '__main__': \n",
    "    app.run()"
   ]
  },
  {
   "cell_type": "markdown",
   "id": "00d77df6",
   "metadata": {},
   "source": [
    "### main.html"
   ]
  },
  {
   "cell_type": "markdown",
   "id": "ee6bc291",
   "metadata": {},
   "source": [
    "```\n",
    "<!DOCTYPE html> \n",
    "<html lang=\"en\"> \n",
    "<head> \n",
    "<meta charset=\"UTF-8\"> \n",
    "<meta name=\"viewport\" content=\"width=device-width, initial-scale=1.0\"> \n",
    "<title>H8 Model Deployment</title> \n",
    "</head> \n",
    "<body> \n",
    "<h1>Welcome to My First Flask Apps!</h1> \n",
    "</body> \n",
    "</html>\n",
    "```"
   ]
  },
  {
   "cell_type": "markdown",
   "id": "62727edc",
   "metadata": {},
   "source": [
    "## Running the test app"
   ]
  },
  {
   "cell_type": "markdown",
   "id": "01be8a9a",
   "metadata": {},
   "source": [
    "Untuk memulai flask di komputer lokal kita, pastikan kita berada di folder H8Deployment dan jalankan perintah: python app.py."
   ]
  },
  {
   "cell_type": "markdown",
   "id": "71ca7f6a",
   "metadata": {},
   "source": [
    "## Editing app.py to load the model"
   ]
  },
  {
   "cell_type": "code",
   "execution_count": null,
   "id": "69ac8d3c",
   "metadata": {},
   "outputs": [],
   "source": [
    "import numpy as np \n",
    "import pickle \n",
    "\n",
    "model = pickle.load(open('model_classifier.pkl', 'rb'))"
   ]
  },
  {
   "cell_type": "markdown",
   "id": "6b535def",
   "metadata": {},
   "source": [
    "## Redirecting the API to predict the result"
   ]
  },
  {
   "cell_type": "code",
   "execution_count": null,
   "id": "acd8bee5",
   "metadata": {},
   "outputs": [],
   "source": [
    "@app.route('/predict',methods=['POST']) \n",
    "def predict(): \n",
    "    ''' For rendering results on HTML GUI ''' \n",
    "    int_features = [int(x) for x in flask.request.form.values()] \n",
    "    final_features = [np.array(int_features)] \n",
    "    prediction = model.predict(final_features) \n",
    "    \n",
    "    output = {0: 'not placed', 1: 'placed'} \n",
    "    \n",
    "    return flask.render_template('main.html', prediction_text='Student must be {} to workplace'.format(output[prediction[0]]))"
   ]
  },
  {
   "cell_type": "markdown",
   "id": "90d7b4e9",
   "metadata": {},
   "source": [
    "Tambahkan debug=True di app.run."
   ]
  },
  {
   "cell_type": "code",
   "execution_count": null,
   "id": "f41b5aa8",
   "metadata": {},
   "outputs": [],
   "source": [
    "if __name__ == \"__main__\": \n",
    "    app.run(debug=True)"
   ]
  },
  {
   "cell_type": "markdown",
   "id": "76c5508b",
   "metadata": {},
   "source": [
    "# Editing the main.html template"
   ]
  },
  {
   "cell_type": "markdown",
   "id": "7fdfd135",
   "metadata": {},
   "source": [
    "## The form "
   ]
  },
  {
   "cell_type": "markdown",
   "id": "eb02718d",
   "metadata": {},
   "source": [
    "```\n",
    "<form action=\"{{ url_for('predict') }}\" method=\"post\">\n",
    "```"
   ]
  },
  {
   "cell_type": "markdown",
   "id": "f9cc8d5e",
   "metadata": {},
   "source": [
    "Atribut action memberi tahu flask route mana harus dipanggil ketika form disubmit. Dalam aplikasi sederhana ini,kita hanya menginginkan main function.Metode POST  memberi tahu fungsi itu bahwa ia harus mengharapkan input dan setelahnya memprosesnya. "
   ]
  },
  {
   "cell_type": "markdown",
   "id": "e34cc3c0",
   "metadata": {},
   "source": [
    "## Some input checks"
   ]
  },
  {
   "cell_type": "markdown",
   "id": "948debec",
   "metadata": {},
   "source": [
    "Elemen `<input>` dari form memiliki atribut required, untuk menjadikannya wajib."
   ]
  },
  {
   "cell_type": "markdown",
   "id": "e9a44c9b",
   "metadata": {},
   "source": [
    "```\n",
    "<input type=\"text\" name=\"ssc\" placeholder=\"Secondary Education\" required=\"required\" /> \n",
    "<input type=\"text\" name=\"hsc\" placeholder=\"Highschool\" required=\"required\" /> \n",
    "<input type=\"text\" name=\"degree\" placeholder=\"Degree\" required=\"required\" /> \n",
    "<input type=\"text\" name=\"etest\" placeholder=\"Interview Score\" required=\"required\" /> \n",
    "\n",
    "<button type=\"submit\" class=\"btn btn-primary btn-block btn-large\">Predict</button>\n",
    "```"
   ]
  },
  {
   "cell_type": "markdown",
   "id": "fee164ab",
   "metadata": {},
   "source": [
    "## The results"
   ]
  },
  {
   "cell_type": "markdown",
   "id": "40184914",
   "metadata": {},
   "source": [
    "file main.html kita akan terlihat seperti ini"
   ]
  },
  {
   "cell_type": "markdown",
   "id": "61276b22",
   "metadata": {},
   "source": [
    "```\n",
    "<!DOCTYPE html> \n",
    "<html lang=\"en\"> \n",
    "<head> \n",
    "<meta charset=\"UTF-8\"> \n",
    "<meta name=\"viewport\" content=\"width=device-width, initial-scale=1.0\"> \n",
    "<title>H8 Model Deployment</title> \n",
    "</head> \n",
    "<body> \n",
    "<div class=\"form\"> \n",
    "<h1>Hacktiv8 Student Placement Classifier</h1> \n",
    "\n",
    "<form action=\"{{ url_for('predict') }}\" method=\"post\"> \n",
    "<input type=\"text\" name=\"ssc\" placeholder=\"Secondary Education\" required=\"required\" /> \n",
    "<input type=\"text\" name=\"hsc\" placeholder=\"Highschool\" required=\"required\" /> \n",
    "<input type=\"text\" name=\"degree\" placeholder=\"Degree\" required=\"required\" /> \n",
    "<input type=\"text\" name=\"etest\" placeholder=\"Interview Score\" required=\"required\" /> \n",
    "\n",
    "<button type=\"submit\" class=\"btn btn-primary btn-block btn-large\">Predict</button> </form> \n",
    "\n",
    "<p class=\"message\">{{ prediction_text }}</p> \n",
    "</div> \n",
    "</body> \n",
    "</html>\n",
    "```"
   ]
  },
  {
   "cell_type": "markdown",
   "id": "6f69b865",
   "metadata": {},
   "source": [
    "Restart Server Flask menggunakan python app.py dan uji masukan dan keluaran prediksi."
   ]
  },
  {
   "cell_type": "markdown",
   "id": "42b1cef2",
   "metadata": {},
   "source": [
    "## Simple CSS"
   ]
  },
  {
   "cell_type": "markdown",
   "id": "6390d796",
   "metadata": {},
   "source": [
    "Tambahkan ```<link rel=\"stylesheet\" href=\"{{ url_for('static', filename='css/style.css') }}\">``` pada main.html jadi file main.html kita dapat menemukan file styling. "
   ]
  },
  {
   "cell_type": "markdown",
   "id": "1498a63b",
   "metadata": {},
   "source": [
    "Pada style.css file, tambahkan beberapa kode:"
   ]
  },
  {
   "cell_type": "markdown",
   "id": "edcd0bec",
   "metadata": {},
   "source": [
    "```\n",
    "@import url(https://fonts.googleapis.com/css?family=Roboto:300); \n",
    "\n",
    ".form { \n",
    "    position: relative; \n",
    "    z-index: 1; \n",
    "    background: #FFFFFF; \n",
    "    max-width: 360px; \n",
    "    margin: 0 auto 100px; \n",
    "    padding: 45px; \n",
    "    text-align: center; \n",
    "    box-shadow: 0 0 20px 0 rgba(0, 0, 0, 0.2), 0 5px 5px 0 rgba(0, 0, 0, 0.24); \n",
    "} \n",
    "\n",
    ".form input { \n",
    "    font-family: \"Roboto\", sans-serif; \n",
    "    outline: 0; \n",
    "    background: #f2f2f2; \n",
    "    width: 100%; \n",
    "    border: 0; \n",
    "    margin: 0 0 15px; \n",
    "    padding: 15px; \n",
    "    box-sizing: border-box; \n",
    "    font-size: 14px; \n",
    "} \n",
    "\n",
    ".form button { \n",
    "    font-family: \"Roboto\", sans-serif; \n",
    "    text-transform: uppercase; \n",
    "    outline: 0; \n",
    "    background: #F19023; \n",
    "    width: 100%; \n",
    "    border: 0; \n",
    "    padding: 15px; \n",
    "    color: #FFFFFF; \n",
    "    font-size: 14px; c\n",
    "    ursor: pointer; \n",
    "} \n",
    "\n",
    ".form button:hover,.form button:active,.form button:focus { \n",
    "    background: #c5761c; \n",
    "} \n",
    "            \n",
    ".form .message { \n",
    "    margin: 15px 0 0; \n",
    "    color: #b3b3b3; \n",
    "    font-size: 12px; \n",
    "} \n",
    "\n",
    "body { \n",
    "    background: #F19023; \n",
    "    font-family: \"Roboto\", sans-serif; \n",
    "}\n",
    "```"
   ]
  },
  {
   "cell_type": "markdown",
   "id": "ba7ac2c2",
   "metadata": {},
   "source": [
    "Sekarang reload browser web kita."
   ]
  },
  {
   "cell_type": "markdown",
   "id": "2e820a3f",
   "metadata": {
    "id": "mjYy54fp54Wt"
   },
   "source": [
    "# Ready for Deployment\n"
   ]
  },
  {
   "cell_type": "markdown",
   "id": "0e7a70a2",
   "metadata": {},
   "source": [
    "## Setup"
   ]
  },
  {
   "cell_type": "markdown",
   "id": "1164e436",
   "metadata": {},
   "source": [
    "Pada langkah ini kita akan menginstal dan menjalankan Heroku Command Line Interface (CLI).Kita menggunakan CLI untuk manage dan scale aplikasi, menyediakan add-on, melihat log aplikasi, dan menjalankan aplikasi kita secara lokal.\n",
    "\n",
    "1. Gunakan perintah <b> heroku login</b>  untuk login ke Heroku CLI.\n",
    "2. Buat aplikasi di Heroku, yang mempersiapkan Heroku untuk menerima source code:<b> heroku create\n",
    "3. Secara default, command tersebut akan membuat aplikasi dengan nama acak. Jika kita ingin memilih nama aplikasi sendiri, cukup pass sebagai argumen. Sebagai contoh: <b> heroku create h8-model-christian"
   ]
  },
  {
   "cell_type": "markdown",
   "id": "18a82199",
   "metadata": {},
   "source": [
    "Saat kita create app seperti diatas, git remote (disebut heroku) ) juga dibuat dan dikaitkan dengan repositori git lokal kita.\n"
   ]
  },
  {
   "cell_type": "markdown",
   "id": "07fd5e47",
   "metadata": {},
   "source": [
    "# Prepare the app"
   ]
  },
  {
   "cell_type": "markdown",
   "id": "92ed95a2",
   "metadata": {},
   "source": [
    "Buat `.gitignore` file to menghiraukan file generated seperti `__pycache__/` atau  `ipynb_checkpoints/`"
   ]
  },
  {
   "cell_type": "markdown",
   "id": "844a3f65",
   "metadata": {},
   "source": [
    "Dalam folder H8Deployment , jalankan command berikut untuk membuat repository baru: <b> git init"
   ]
  },
  {
   "cell_type": "markdown",
   "id": "543b28cc",
   "metadata": {
    "id": "mjYy54fp54Wt"
   },
   "source": [
    "### Create the required Heroku files"
   ]
  },
  {
   "cell_type": "markdown",
   "id": "5c5874bc",
   "metadata": {},
   "source": [
    "Kita akan membutuhkan dua file, ditempatkan di dalam folder H8Deployment."
   ]
  },
  {
   "cell_type": "markdown",
   "id": "299dc49d",
   "metadata": {},
   "source": [
    "<b> 1. requirements.txt </b>\n",
    "\n",
    "File ini memberi tahu Heroku packages mana yang harus dipasang untuk aplikasi web kita. Akan terlihat seperti ini:"
   ]
  },
  {
   "cell_type": "markdown",
   "id": "6a074307",
   "metadata": {},
   "source": [
    "```\n",
    "flask\n",
    "numpy\n",
    "sklearn\n",
    "gunicorn\n",
    "```"
   ]
  },
  {
   "cell_type": "markdown",
   "id": "28ce34f5",
   "metadata": {},
   "source": [
    "<b> 1. Procfile </b>\n",
    "\n",
    "File ini memberi tahu Heroku jenis aplikasi yang kita jalankan dan cara menyajikannya kepada pengguna. File ini hanya berisi satu baris dan akan terlihat seperti ini: <b> web: gunicorn app:app"
   ]
  },
  {
   "cell_type": "markdown",
   "id": "7d21dba9",
   "metadata": {},
   "source": [
    "Folder aplikasi web kita sekarang akan terlihat seperti ini:\n",
    "\n",
    "```\n",
    "H8Deployment/\n",
    "    |-- model/\n",
    "    |   |-- model_classifier.pkl\n",
    "    |-- static\n",
    "    |   |-- css\n",
    "    |       |--style.css\n",
    "    |-- templates/\n",
    "    |   |-- main.html\n",
    "    |-- app.py\n",
    "    |-- Procfile\n",
    "    |-- requirements.txt\n",
    "```"
   ]
  },
  {
   "cell_type": "markdown",
   "id": "ec0eaf86",
   "metadata": {},
   "source": [
    "## Add files to repository"
   ]
  },
  {
   "cell_type": "markdown",
   "id": "326d143f",
   "metadata": {},
   "source": [
    "Saat berada di folder H8Deployment  , gunakan perintah berikut untuk menambahkan semua file aplikasi web ke repositori git:\n",
    "```\n",
    "git add .\n",
    "git commit -m \"First commit!\"\n",
    "```"
   ]
  },
  {
   "cell_type": "markdown",
   "id": "c67e5265",
   "metadata": {},
   "source": [
    "# Set the remote destination for pushing from git to Heroku"
   ]
  },
  {
   "cell_type": "markdown",
   "id": "1ad86eca",
   "metadata": {},
   "source": [
    "Perintah ini memudahkan untuk push aplikasi web lokal ke Heroku, menggunakan git\n",
    "\n",
    "Ex: <b> heroku git:remote -a h8-model-christian </b>"
   ]
  },
  {
   "cell_type": "markdown",
   "id": "9dc88baf",
   "metadata": {},
   "source": [
    "# Deploy the app"
   ]
  },
  {
   "cell_type": "markdown",
   "id": "b908c936",
   "metadata": {},
   "source": [
    "Sekarang deploy kode kita:\n",
    "\n",
    "<b> git push heroku master"
   ]
  },
  {
   "cell_type": "markdown",
   "id": "d88c3d80",
   "metadata": {},
   "source": [
    "Aplikasi sekarang dideploy. Pastikan setidaknya satu instance aplikasi sedang berjalan:\n",
    "    \n",
    "<b> heroku ps:scale web=1"
   ]
  },
  {
   "cell_type": "markdown",
   "id": "0d423619",
   "metadata": {},
   "source": [
    "Sekarang kunjungi aplikasi di URL yang dihasilkan oleh nama aplikasinya. Sebagai shortcut praktis, kita dapat membuka situs web sebagai berikut:\n",
    "\n",
    "<b> heroku open"
   ]
  },
  {
   "cell_type": "code",
   "execution_count": null,
   "id": "e6b03f5c",
   "metadata": {},
   "outputs": [],
   "source": []
  }
 ],
 "metadata": {
  "kernelspec": {
   "display_name": "Python 3 (ipykernel)",
   "language": "python",
   "name": "python3"
  },
  "language_info": {
   "codemirror_mode": {
    "name": "ipython",
    "version": 3
   },
   "file_extension": ".py",
   "mimetype": "text/x-python",
   "name": "python",
   "nbconvert_exporter": "python",
   "pygments_lexer": "ipython3",
   "version": "3.9.12"
  }
 },
 "nbformat": 4,
 "nbformat_minor": 5
}
