{
 "cells": [
  {
   "cell_type": "markdown",
   "id": "559816fa",
   "metadata": {},
   "source": [
    "# Menguasai Python Tingkat Pemula"
   ]
  },
  {
   "cell_type": "markdown",
   "id": "6ec6c91b",
   "metadata": {},
   "source": [
    "## LIST"
   ]
  },
  {
   "cell_type": "code",
   "execution_count": 1,
   "id": "5dfc51a5",
   "metadata": {},
   "outputs": [],
   "source": [
    "my_list = [1,2,3]"
   ]
  },
  {
   "cell_type": "code",
   "execution_count": 2,
   "id": "45aaee66",
   "metadata": {},
   "outputs": [
    {
     "name": "stdout",
     "output_type": "stream",
     "text": [
      "[1, 2, 3]\n"
     ]
    }
   ],
   "source": [
    "print(my_list)"
   ]
  },
  {
   "cell_type": "code",
   "execution_count": 3,
   "id": "3f03760e",
   "metadata": {},
   "outputs": [
    {
     "ename": "TypeError",
     "evalue": "can only concatenate list (not \"int\") to list",
     "output_type": "error",
     "traceback": [
      "\u001b[1;31m---------------------------------------------------------------------------\u001b[0m",
      "\u001b[1;31mTypeError\u001b[0m                                 Traceback (most recent call last)",
      "Input \u001b[1;32mIn [3]\u001b[0m, in \u001b[0;36m<cell line: 1>\u001b[1;34m()\u001b[0m\n\u001b[1;32m----> 1\u001b[0m \u001b[43mmy_list\u001b[49m\u001b[43m \u001b[49m\u001b[38;5;241;43m+\u001b[39;49m\u001b[43m \u001b[49m\u001b[38;5;241;43m4\u001b[39;49m\n",
      "\u001b[1;31mTypeError\u001b[0m: can only concatenate list (not \"int\") to list"
     ]
    }
   ],
   "source": [
    "my_list + 4 #error"
   ]
  },
  {
   "cell_type": "code",
   "execution_count": 4,
   "id": "6cd27368",
   "metadata": {},
   "outputs": [
    {
     "data": {
      "text/plain": [
       "[1, 2, 3, 4, 5]"
      ]
     },
     "execution_count": 4,
     "metadata": {},
     "output_type": "execute_result"
    }
   ],
   "source": [
    "my_list + [4, 5]"
   ]
  },
  {
   "cell_type": "code",
   "execution_count": 5,
   "id": "e6153a89",
   "metadata": {},
   "outputs": [
    {
     "name": "stdout",
     "output_type": "stream",
     "text": [
      "[1, 2, 3, 1, 2, 3]\n"
     ]
    }
   ],
   "source": [
    "print(my_list * 2)"
   ]
  },
  {
   "cell_type": "markdown",
   "id": "182b1267",
   "metadata": {},
   "source": [
    "method : append untuk menambah 1 isi"
   ]
  },
  {
   "cell_type": "code",
   "execution_count": 6,
   "id": "574f58db",
   "metadata": {},
   "outputs": [],
   "source": [
    "my_list.append(4)"
   ]
  },
  {
   "cell_type": "code",
   "execution_count": 7,
   "id": "c2b3df7e",
   "metadata": {},
   "outputs": [
    {
     "name": "stdout",
     "output_type": "stream",
     "text": [
      "[1, 2, 3, 4]\n"
     ]
    }
   ],
   "source": [
    "print(my_list)"
   ]
  },
  {
   "cell_type": "markdown",
   "id": "fd3221fb",
   "metadata": {},
   "source": [
    "menambahkan 2 atau lebih data secara langsung ke dalam list :"
   ]
  },
  {
   "cell_type": "code",
   "execution_count": 8,
   "id": "afa1e7c8",
   "metadata": {},
   "outputs": [
    {
     "ename": "TypeError",
     "evalue": "list.append() takes exactly one argument (2 given)",
     "output_type": "error",
     "traceback": [
      "\u001b[1;31m---------------------------------------------------------------------------\u001b[0m",
      "\u001b[1;31mTypeError\u001b[0m                                 Traceback (most recent call last)",
      "Input \u001b[1;32mIn [8]\u001b[0m, in \u001b[0;36m<cell line: 1>\u001b[1;34m()\u001b[0m\n\u001b[1;32m----> 1\u001b[0m \u001b[43mmy_list\u001b[49m\u001b[38;5;241;43m.\u001b[39;49m\u001b[43mappend\u001b[49m\u001b[43m(\u001b[49m\u001b[38;5;241;43m4\u001b[39;49m\u001b[43m,\u001b[49m\u001b[43m \u001b[49m\u001b[38;5;241;43m5\u001b[39;49m\u001b[43m)\u001b[49m\n",
      "\u001b[1;31mTypeError\u001b[0m: list.append() takes exactly one argument (2 given)"
     ]
    }
   ],
   "source": [
    "my_list.append(4, 5) #error 2 given"
   ]
  },
  {
   "cell_type": "code",
   "execution_count": 9,
   "id": "36358f18",
   "metadata": {},
   "outputs": [],
   "source": [
    "my_list.append([4, 5])"
   ]
  },
  {
   "cell_type": "code",
   "execution_count": 10,
   "id": "a2264cc5",
   "metadata": {},
   "outputs": [
    {
     "name": "stdout",
     "output_type": "stream",
     "text": [
      "[1, 2, 3, 4, [4, 5]]\n"
     ]
    }
   ],
   "source": [
    "print(my_list)"
   ]
  },
  {
   "cell_type": "markdown",
   "id": "951abaa2",
   "metadata": {},
   "source": [
    "method : extend untuk menambah beberapa data secara langsung ke dalam sebuah variabel"
   ]
  },
  {
   "cell_type": "code",
   "execution_count": 11,
   "id": "a9d35c3a",
   "metadata": {},
   "outputs": [
    {
     "name": "stdout",
     "output_type": "stream",
     "text": [
      "[1, 2, 3]\n"
     ]
    }
   ],
   "source": [
    "mylist = [1,2,3]\n",
    "print(mylist)"
   ]
  },
  {
   "cell_type": "code",
   "execution_count": 12,
   "id": "be41212c",
   "metadata": {},
   "outputs": [
    {
     "name": "stdout",
     "output_type": "stream",
     "text": [
      "[1, 2, 3, 4, 5, 6]\n"
     ]
    }
   ],
   "source": [
    "mylist.extend([4,5,6])\n",
    "print(mylist)"
   ]
  },
  {
   "cell_type": "markdown",
   "id": "b86a4517",
   "metadata": {},
   "source": [
    "menghapus item. method : remove"
   ]
  },
  {
   "cell_type": "code",
   "execution_count": 13,
   "id": "d4b1b656",
   "metadata": {},
   "outputs": [
    {
     "name": "stdout",
     "output_type": "stream",
     "text": [
      "[1, 2, 3, 5, 6]\n"
     ]
    }
   ],
   "source": [
    "#menghapus angka 4 dari my_list\n",
    "mylist.remove(4)\n",
    "print(mylist)"
   ]
  },
  {
   "cell_type": "code",
   "execution_count": 14,
   "id": "f6c21fce",
   "metadata": {},
   "outputs": [
    {
     "name": "stdout",
     "output_type": "stream",
     "text": [
      "[1, 2, 3, 4, [4, 5]]\n"
     ]
    }
   ],
   "source": [
    "#menghapus list di dalam list\n",
    "print(my_list)"
   ]
  },
  {
   "cell_type": "code",
   "execution_count": 15,
   "id": "47d5980c",
   "metadata": {},
   "outputs": [],
   "source": [
    "my_list.remove([4,5])"
   ]
  },
  {
   "cell_type": "code",
   "execution_count": 16,
   "id": "842bd565",
   "metadata": {},
   "outputs": [
    {
     "name": "stdout",
     "output_type": "stream",
     "text": [
      "[1, 2, 3, 4]\n"
     ]
    }
   ],
   "source": [
    "print(my_list)"
   ]
  },
  {
   "cell_type": "markdown",
   "id": "c2bacc32",
   "metadata": {},
   "source": [
    "## Dictionaries"
   ]
  },
  {
   "cell_type": "code",
   "execution_count": 17,
   "id": "ab279cf5",
   "metadata": {},
   "outputs": [],
   "source": [
    "student = {}"
   ]
  },
  {
   "cell_type": "code",
   "execution_count": 18,
   "id": "c2c48616",
   "metadata": {},
   "outputs": [],
   "source": [
    "student = {'name' : 'christian', 'age' : 20}"
   ]
  },
  {
   "cell_type": "code",
   "execution_count": 19,
   "id": "2fa2f8ac",
   "metadata": {},
   "outputs": [],
   "source": [
    "employee = {'cto' : {'name' : 'christian' ,  'age' : 20}}"
   ]
  },
  {
   "cell_type": "markdown",
   "id": "39aa7800",
   "metadata": {},
   "source": [
    "#deklarasi string : str()"
   ]
  },
  {
   "cell_type": "code",
   "execution_count": 20,
   "id": "4f3901d6",
   "metadata": {},
   "outputs": [],
   "source": [
    "student = dict(name = 'Jimin', age=38)"
   ]
  },
  {
   "cell_type": "code",
   "execution_count": 21,
   "id": "677c41e6",
   "metadata": {},
   "outputs": [
    {
     "name": "stdout",
     "output_type": "stream",
     "text": [
      "Jimin\n"
     ]
    }
   ],
   "source": [
    "print(student['name'])"
   ]
  },
  {
   "cell_type": "code",
   "execution_count": 22,
   "id": "dc5ca6ea",
   "metadata": {},
   "outputs": [
    {
     "name": "stdout",
     "output_type": "stream",
     "text": [
      "38\n"
     ]
    }
   ],
   "source": [
    "print(student['age'])"
   ]
  },
  {
   "cell_type": "markdown",
   "id": "81b4467a",
   "metadata": {},
   "source": [
    "ganti isi \"=\"\n",
    "menghapus data : delete (del)"
   ]
  },
  {
   "cell_type": "code",
   "execution_count": 23,
   "id": "e5d0f106",
   "metadata": {},
   "outputs": [
    {
     "name": "stdout",
     "output_type": "stream",
     "text": [
      "{'name': 'Jimin', 'age': 38}\n"
     ]
    }
   ],
   "source": [
    "print(student)"
   ]
  },
  {
   "cell_type": "code",
   "execution_count": 24,
   "id": "5324ceab",
   "metadata": {},
   "outputs": [],
   "source": [
    "del student['age']"
   ]
  },
  {
   "cell_type": "code",
   "execution_count": 25,
   "id": "bda04383",
   "metadata": {},
   "outputs": [
    {
     "name": "stdout",
     "output_type": "stream",
     "text": [
      "{'name': 'Jimin'}\n"
     ]
    }
   ],
   "source": [
    "print(student)"
   ]
  },
  {
   "cell_type": "code",
   "execution_count": 26,
   "id": "32c32166",
   "metadata": {},
   "outputs": [],
   "source": [
    "student = {'name' : 'christian', 'age' : 18}"
   ]
  },
  {
   "cell_type": "code",
   "execution_count": 27,
   "id": "1bafe468",
   "metadata": {},
   "outputs": [
    {
     "name": "stdout",
     "output_type": "stream",
     "text": [
      "dict_keys(['name', 'age'])\n"
     ]
    }
   ],
   "source": [
    "print(student.keys())"
   ]
  },
  {
   "cell_type": "code",
   "execution_count": 28,
   "id": "27fe05e6",
   "metadata": {},
   "outputs": [
    {
     "name": "stdout",
     "output_type": "stream",
     "text": [
      "dict_values(['christian', 18])\n"
     ]
    }
   ],
   "source": [
    "print(student.values())"
   ]
  },
  {
   "cell_type": "markdown",
   "id": "554b36bc",
   "metadata": {},
   "source": [
    "## Tuples"
   ]
  },
  {
   "cell_type": "code",
   "execution_count": 29,
   "id": "059633d4",
   "metadata": {},
   "outputs": [],
   "source": [
    "people = ('Raka',('kode', 'random'))"
   ]
  },
  {
   "cell_type": "code",
   "execution_count": 30,
   "id": "10d41938",
   "metadata": {},
   "outputs": [
    {
     "name": "stdout",
     "output_type": "stream",
     "text": [
      "('Raka', ('kode', 'random'))\n"
     ]
    }
   ],
   "source": [
    "print(people)"
   ]
  },
  {
   "cell_type": "code",
   "execution_count": 31,
   "id": "1b303776",
   "metadata": {},
   "outputs": [
    {
     "name": "stdout",
     "output_type": "stream",
     "text": [
      "Raka\n",
      "('kode', 'random')\n",
      "kode\n"
     ]
    }
   ],
   "source": [
    "# mengakses informasi dalam tuples : menggunakan indeks\n",
    "print(people[0])\n",
    "print(people[1])\n",
    "print(people[1][0])"
   ]
  },
  {
   "cell_type": "raw",
   "id": "5ac351be",
   "metadata": {},
   "source": [
    "#mengkombinasikan tuple : \"+\" concate\n",
    "#memisahkan atau menggabungkan tuple dengan slicing"
   ]
  },
  {
   "cell_type": "code",
   "execution_count": 32,
   "id": "374a6d02",
   "metadata": {},
   "outputs": [],
   "source": [
    "numbers = (1,2,3,4)"
   ]
  },
  {
   "cell_type": "code",
   "execution_count": 33,
   "id": "cd6d80f9",
   "metadata": {},
   "outputs": [],
   "source": [
    "new_numbers = numbers[0], numbers[1:3]"
   ]
  },
  {
   "cell_type": "code",
   "execution_count": 34,
   "id": "fe898ddb",
   "metadata": {},
   "outputs": [
    {
     "name": "stdout",
     "output_type": "stream",
     "text": [
      "(1, (2, 3))\n"
     ]
    }
   ],
   "source": [
    "print(new_numbers)"
   ]
  },
  {
   "cell_type": "code",
   "execution_count": 35,
   "id": "135945b6",
   "metadata": {},
   "outputs": [
    {
     "name": "stdout",
     "output_type": "stream",
     "text": [
      "(1, 2, 3, 4)\n"
     ]
    }
   ],
   "source": [
    "print(numbers) #tetap"
   ]
  },
  {
   "cell_type": "markdown",
   "id": "635f9e7d",
   "metadata": {},
   "source": [
    "Shorting :"
   ]
  },
  {
   "cell_type": "code",
   "execution_count": 36,
   "id": "94ada5d3",
   "metadata": {},
   "outputs": [],
   "source": [
    "email_attr = ('to', 'from', 'cc', 'bcc', 'subject', 'body')"
   ]
  },
  {
   "cell_type": "code",
   "execution_count": 37,
   "id": "a81c6a17",
   "metadata": {},
   "outputs": [],
   "source": [
    "# diubah menjadi list\n",
    "email_attr_list = list(email_attr)"
   ]
  },
  {
   "cell_type": "code",
   "execution_count": 38,
   "id": "209adaf3",
   "metadata": {},
   "outputs": [],
   "source": [
    "# diurutkan :\n",
    "email_attr_list.sort()"
   ]
  },
  {
   "cell_type": "code",
   "execution_count": 39,
   "id": "9d7279d6",
   "metadata": {},
   "outputs": [
    {
     "name": "stdout",
     "output_type": "stream",
     "text": [
      "['bcc', 'body', 'cc', 'from', 'subject', 'to']\n"
     ]
    }
   ],
   "source": [
    "print(email_attr_list)"
   ]
  },
  {
   "cell_type": "markdown",
   "id": "de9c2b5a",
   "metadata": {},
   "source": [
    " ## Files"
   ]
  },
  {
   "cell_type": "code",
   "execution_count": 40,
   "id": "f142c3b3",
   "metadata": {},
   "outputs": [],
   "source": [
    "myfile = open('textspc3', 'w')"
   ]
  },
  {
   "cell_type": "code",
   "execution_count": 41,
   "id": "b9192340",
   "metadata": {},
   "outputs": [
    {
     "data": {
      "text/plain": [
       "16"
      ]
     },
     "execution_count": 41,
     "metadata": {},
     "output_type": "execute_result"
    }
   ],
   "source": [
    "myfile.write('halo text file!\\n')"
   ]
  },
  {
   "cell_type": "code",
   "execution_count": 42,
   "id": "ec79d740",
   "metadata": {},
   "outputs": [
    {
     "data": {
      "text/plain": [
       "27"
      ]
     },
     "execution_count": 42,
     "metadata": {},
     "output_type": "execute_result"
    }
   ],
   "source": [
    "myfile.write('selamat tinggal text file!\\n')"
   ]
  },
  {
   "cell_type": "code",
   "execution_count": 43,
   "id": "10751cbd",
   "metadata": {},
   "outputs": [],
   "source": [
    "myfile.close()"
   ]
  },
  {
   "cell_type": "code",
   "execution_count": 44,
   "id": "4e10907b",
   "metadata": {},
   "outputs": [],
   "source": [
    "myfile = open('textspc3')"
   ]
  },
  {
   "cell_type": "code",
   "execution_count": 45,
   "id": "dfde8e14",
   "metadata": {},
   "outputs": [
    {
     "data": {
      "text/plain": [
       "'halo text file!\\n'"
      ]
     },
     "execution_count": 45,
     "metadata": {},
     "output_type": "execute_result"
    }
   ],
   "source": [
    "myfile.readline()"
   ]
  },
  {
   "cell_type": "code",
   "execution_count": 46,
   "id": "9d44fd3d",
   "metadata": {},
   "outputs": [
    {
     "data": {
      "text/plain": [
       "'selamat tinggal text file!\\n'"
      ]
     },
     "execution_count": 46,
     "metadata": {},
     "output_type": "execute_result"
    }
   ],
   "source": [
    "myfile.readline()"
   ]
  },
  {
   "cell_type": "code",
   "execution_count": 47,
   "id": "80777d8f",
   "metadata": {},
   "outputs": [
    {
     "data": {
      "text/plain": [
       "'halo text file!\\nselamat tinggal text file!\\n'"
      ]
     },
     "execution_count": 47,
     "metadata": {},
     "output_type": "execute_result"
    }
   ],
   "source": [
    "open('textspc3').read()"
   ]
  },
  {
   "cell_type": "code",
   "execution_count": 48,
   "id": "5f43d3ec",
   "metadata": {},
   "outputs": [
    {
     "name": "stdout",
     "output_type": "stream",
     "text": [
      "halo text file!\n",
      "selamat tinggal text file!\n",
      "\n"
     ]
    }
   ],
   "source": [
    "print(open('textspc3').read())"
   ]
  },
  {
   "cell_type": "code",
   "execution_count": 49,
   "id": "bc720481",
   "metadata": {},
   "outputs": [],
   "source": [
    "x, y, z = 43, 44, 45\n",
    "message = 'Spam'\n",
    "data = {'a':1, 'b':2}\n",
    "list = [1,2,3]"
   ]
  },
  {
   "cell_type": "code",
   "execution_count": 50,
   "id": "32c85ded",
   "metadata": {},
   "outputs": [],
   "source": [
    "file = open('textspc3','w')"
   ]
  },
  {
   "cell_type": "code",
   "execution_count": 51,
   "id": "efad8848",
   "metadata": {},
   "outputs": [
    {
     "data": {
      "text/plain": [
       "5"
      ]
     },
     "execution_count": 51,
     "metadata": {},
     "output_type": "execute_result"
    }
   ],
   "source": [
    "file.write(message + '\\n')"
   ]
  },
  {
   "cell_type": "code",
   "execution_count": 52,
   "id": "dadef9c3",
   "metadata": {},
   "outputs": [
    {
     "data": {
      "text/plain": [
       "11"
      ]
     },
     "execution_count": 52,
     "metadata": {},
     "output_type": "execute_result"
    }
   ],
   "source": [
    "file.write('%s, %s, %s\\n' % (x, y, z))"
   ]
  },
  {
   "cell_type": "code",
   "execution_count": 53,
   "id": "1fd17d01",
   "metadata": {},
   "outputs": [
    {
     "data": {
      "text/plain": [
       "27"
      ]
     },
     "execution_count": 53,
     "metadata": {},
     "output_type": "execute_result"
    }
   ],
   "source": [
    "# konversi list menjadi string\n",
    "file.write(str(list) + '$' + str(data) + '\\n')"
   ]
  },
  {
   "cell_type": "code",
   "execution_count": 54,
   "id": "116fbe92",
   "metadata": {},
   "outputs": [],
   "source": [
    "file.close()"
   ]
  },
  {
   "cell_type": "markdown",
   "id": "e7fa6994",
   "metadata": {},
   "source": []
  },
  {
   "cell_type": "code",
   "execution_count": 55,
   "id": "05d6f6ca",
   "metadata": {},
   "outputs": [],
   "source": [
    "student = {1 : {'name': 'Idaz', 'age' : '27', 'sex' : 'Male'}, \n",
    "         2 : {'name': 'Emma', 'age' : '22', 'sex' : 'Female'}}"
   ]
  },
  {
   "cell_type": "code",
   "execution_count": 56,
   "id": "0d6cf485",
   "metadata": {},
   "outputs": [
    {
     "ename": "KeyError",
     "evalue": "0",
     "output_type": "error",
     "traceback": [
      "\u001b[1;31m---------------------------------------------------------------------------\u001b[0m",
      "\u001b[1;31mKeyError\u001b[0m                                  Traceback (most recent call last)",
      "Input \u001b[1;32mIn [56]\u001b[0m, in \u001b[0;36m<cell line: 1>\u001b[1;34m()\u001b[0m\n\u001b[1;32m----> 1\u001b[0m \u001b[43mstudent\u001b[49m\u001b[43m[\u001b[49m\u001b[38;5;241;43m0\u001b[39;49m\u001b[43m]\u001b[49m[\u001b[38;5;241m1\u001b[39m]\n",
      "\u001b[1;31mKeyError\u001b[0m: 0"
     ]
    }
   ],
   "source": [
    "student[0][1]"
   ]
  },
  {
   "cell_type": "code",
   "execution_count": 57,
   "id": "d541b62a",
   "metadata": {},
   "outputs": [
    {
     "data": {
      "text/plain": [
       "'27'"
      ]
     },
     "execution_count": 57,
     "metadata": {},
     "output_type": "execute_result"
    }
   ],
   "source": [
    "student[1][\"age\"]"
   ]
  },
  {
   "cell_type": "code",
   "execution_count": 58,
   "id": "b0226d92",
   "metadata": {},
   "outputs": [
    {
     "ename": "KeyError",
     "evalue": "0",
     "output_type": "error",
     "traceback": [
      "\u001b[1;31m---------------------------------------------------------------------------\u001b[0m",
      "\u001b[1;31mKeyError\u001b[0m                                  Traceback (most recent call last)",
      "Input \u001b[1;32mIn [58]\u001b[0m, in \u001b[0;36m<cell line: 1>\u001b[1;34m()\u001b[0m\n\u001b[1;32m----> 1\u001b[0m \u001b[43mstudent\u001b[49m\u001b[43m[\u001b[49m\u001b[38;5;241;43m0\u001b[39;49m\u001b[43m]\u001b[49m[\u001b[38;5;124m\"\u001b[39m\u001b[38;5;124mage\u001b[39m\u001b[38;5;124m\"\u001b[39m]\n",
      "\u001b[1;31mKeyError\u001b[0m: 0"
     ]
    }
   ],
   "source": [
    "student[0][\"age\"]"
   ]
  },
  {
   "cell_type": "code",
   "execution_count": 59,
   "id": "56fc6e64",
   "metadata": {},
   "outputs": [
    {
     "ename": "TypeError",
     "evalue": "'tuple' object does not support item assignment",
     "output_type": "error",
     "traceback": [
      "\u001b[1;31m---------------------------------------------------------------------------\u001b[0m",
      "\u001b[1;31mTypeError\u001b[0m                                 Traceback (most recent call last)",
      "Input \u001b[1;32mIn [59]\u001b[0m, in \u001b[0;36m<cell line: 2>\u001b[1;34m()\u001b[0m\n\u001b[0;32m      1\u001b[0m aTuple \u001b[38;5;241m=\u001b[39m (\u001b[38;5;241m100\u001b[39m, \u001b[38;5;241m200\u001b[39m, \u001b[38;5;241m300\u001b[39m, \u001b[38;5;241m400\u001b[39m)\n\u001b[1;32m----> 2\u001b[0m aTuple[\u001b[38;5;241m1\u001b[39m] \u001b[38;5;241m=\u001b[39m \u001b[38;5;241m800\u001b[39m\n\u001b[0;32m      3\u001b[0m \u001b[38;5;28mprint\u001b[39m(aTuple)\n",
      "\u001b[1;31mTypeError\u001b[0m: 'tuple' object does not support item assignment"
     ]
    }
   ],
   "source": [
    "aTuple = (100, 200, 300, 400)\n",
    "aTuple[1] = 800\n",
    "print(aTuple)"
   ]
  },
  {
   "cell_type": "markdown",
   "id": "11f5768c",
   "metadata": {},
   "source": [
    "# Looping\n",
    "## While"
   ]
  },
  {
   "cell_type": "raw",
   "id": "029c3b2a",
   "metadata": {},
   "source": [
    "while test :\n",
    "    statement"
   ]
  },
  {
   "cell_type": "raw",
   "id": "2ed0375e",
   "metadata": {},
   "source": [
    "# infinite loop\n",
    "while True :\n",
    "    print('Print Ctrl-C to stop me!)"
   ]
  },
  {
   "cell_type": "code",
   "execution_count": 60,
   "id": "96369f8d",
   "metadata": {},
   "outputs": [],
   "source": [
    "# menampilkan pesan dengan effect seperti echo\n",
    "message = \"spam\""
   ]
  },
  {
   "cell_type": "code",
   "execution_count": 61,
   "id": "cb62e4d8",
   "metadata": {},
   "outputs": [
    {
     "name": "stdout",
     "output_type": "stream",
     "text": [
      "spam pam am m "
     ]
    }
   ],
   "source": [
    "while message != '' :\n",
    "    print(message, end = ' ')\n",
    "    message = message[1:]"
   ]
  },
  {
   "cell_type": "code",
   "execution_count": 62,
   "id": "55a455d5",
   "metadata": {},
   "outputs": [
    {
     "name": "stdout",
     "output_type": "stream",
     "text": [
      "0 1 2 3 4 5 6 7 8 9 10 11 12 "
     ]
    }
   ],
   "source": [
    "a = 0\n",
    "b = 13\n",
    "while a < b :\n",
    "    print(a, end=' ')\n",
    "    a = a + 1"
   ]
  },
  {
   "cell_type": "raw",
   "id": "9d608295",
   "metadata": {},
   "source": [
    "break = keluar dari loop\n",
    "continu = kembali ke blok paling atas dari loop dan mrngulangnya\n",
    "pass = tidak akan melakukan apapun, pressholder kosong dari loop\n",
    "else = eksekusi jika sebuah loop keluar secara normal tanpa break\n",
    "\n",
    "format umum :\n",
    "while test :\n",
    "    statements\n",
    "    if test : break\n",
    "    if test : continu\n",
    "else\n",
    "    statements"
   ]
  },
  {
   "cell_type": "code",
   "execution_count": null,
   "id": "8fd7c35d",
   "metadata": {},
   "outputs": [],
   "source": [
    "while True :\n",
    "    name = input('Enter name : ')\n",
    "    if name == 'stop' : break\n",
    "    age = input (' Enter age :')\n",
    "    print ('Hello', name, '=>', int(age) ** 2)"
   ]
  },
  {
   "cell_type": "markdown",
   "id": "e006a452",
   "metadata": {},
   "source": [
    "## for"
   ]
  },
  {
   "cell_type": "markdown",
   "id": "7cf3e6fc",
   "metadata": {},
   "source": [
    "for target in object :\n",
    "    statements"
   ]
  },
  {
   "cell_type": "code",
   "execution_count": 65,
   "id": "3f402b68",
   "metadata": {},
   "outputs": [
    {
     "name": "stdout",
     "output_type": "stream",
     "text": [
      "raka\n",
      "billy\n",
      "kode\n"
     ]
    }
   ],
   "source": [
    "for word in ['raka', 'billy','kode'] :\n",
    "    print(word, end='\\n')"
   ]
  },
  {
   "cell_type": "code",
   "execution_count": 66,
   "id": "07b68201",
   "metadata": {},
   "outputs": [],
   "source": [
    "sum = 0"
   ]
  },
  {
   "cell_type": "code",
   "execution_count": 67,
   "id": "3d3235df",
   "metadata": {},
   "outputs": [],
   "source": [
    "for i in [1, 2, 3, 4] :\n",
    "    sum = sum + i"
   ]
  },
  {
   "cell_type": "code",
   "execution_count": 68,
   "id": "26610409",
   "metadata": {},
   "outputs": [
    {
     "data": {
      "text/plain": [
       "10"
      ]
     },
     "execution_count": 68,
     "metadata": {},
     "output_type": "execute_result"
    }
   ],
   "source": [
    "sum"
   ]
  },
  {
   "cell_type": "code",
   "execution_count": 69,
   "id": "1a29c569",
   "metadata": {},
   "outputs": [],
   "source": [
    "prod = 1"
   ]
  },
  {
   "cell_type": "code",
   "execution_count": 70,
   "id": "01029123",
   "metadata": {},
   "outputs": [],
   "source": [
    "for item in [1,2,3,4] : prod *= item"
   ]
  },
  {
   "cell_type": "code",
   "execution_count": 71,
   "id": "5405f84e",
   "metadata": {},
   "outputs": [
    {
     "data": {
      "text/plain": [
       "24"
      ]
     },
     "execution_count": 71,
     "metadata": {},
     "output_type": "execute_result"
    }
   ],
   "source": [
    "prod"
   ]
  },
  {
   "cell_type": "code",
   "execution_count": 72,
   "id": "bf3a2244",
   "metadata": {},
   "outputs": [],
   "source": [
    "# string\n",
    "text = 'foxy fox'\n",
    "words = ('is', 'great', 'animal')"
   ]
  },
  {
   "cell_type": "code",
   "execution_count": 73,
   "id": "4a1b15fb",
   "metadata": {},
   "outputs": [
    {
     "name": "stdout",
     "output_type": "stream",
     "text": [
      "f o x y   f o x "
     ]
    }
   ],
   "source": [
    "for chara in text: print(chara, end=' ')"
   ]
  },
  {
   "cell_type": "code",
   "execution_count": 74,
   "id": "e4de81f8",
   "metadata": {},
   "outputs": [
    {
     "name": "stdout",
     "output_type": "stream",
     "text": [
      "is...great...animal..."
     ]
    }
   ],
   "source": [
    "for word in words : print (word, end = '...')"
   ]
  },
  {
   "cell_type": "markdown",
   "id": "c47c770b",
   "metadata": {},
   "source": [
    "pattern matching"
   ]
  },
  {
   "cell_type": "code",
   "execution_count": 75,
   "id": "18f52acd",
   "metadata": {},
   "outputs": [],
   "source": [
    "coor = [(1,2), (3,4), (5,6)]"
   ]
  },
  {
   "cell_type": "code",
   "execution_count": 76,
   "id": "015234ea",
   "metadata": {},
   "outputs": [
    {
     "name": "stdout",
     "output_type": "stream",
     "text": [
      "1 2\n",
      "3 4\n",
      "5 6\n"
     ]
    }
   ],
   "source": [
    "# melakuka pemetaan dari data coor dengan struktur data list tuple\n",
    "for (x,y) in coor : \n",
    "    print(x,y)"
   ]
  },
  {
   "cell_type": "code",
   "execution_count": 77,
   "id": "05e9adc0",
   "metadata": {},
   "outputs": [
    {
     "name": "stdout",
     "output_type": "stream",
     "text": [
      "100\n"
     ]
    }
   ],
   "source": [
    "x = 0\n",
    "while (x < 100) :\n",
    "    x+=2\n",
    "print(x)"
   ]
  },
  {
   "cell_type": "code",
   "execution_count": 78,
   "id": "adc18e39",
   "metadata": {},
   "outputs": [
    {
     "name": "stdout",
     "output_type": "stream",
     "text": [
      "I, d, a, z, "
     ]
    }
   ],
   "source": [
    "for l in 'Idaz':\n",
    "    if l == 'a':\n",
    "        pass\n",
    "    print(l, end=\", \")"
   ]
  },
  {
   "cell_type": "markdown",
   "id": "05a9f195",
   "metadata": {},
   "source": [
    "# IF"
   ]
  },
  {
   "cell_type": "raw",
   "id": "766e3a25",
   "metadata": {},
   "source": [
    "if kondisi :\n",
    "    blok kode1\n",
    "elif kondisi2 :\n",
    "    blok kode2\n",
    "else :\n",
    "    blok kode3"
   ]
  },
  {
   "cell_type": "code",
   "execution_count": 79,
   "id": "40ef708e",
   "metadata": {},
   "outputs": [
    {
     "name": "stdout",
     "output_type": "stream",
     "text": [
      "true\n"
     ]
    }
   ],
   "source": [
    "if 1 :\n",
    "    print ('true')\n",
    "# angka 1 merupakan kondisi boolean true"
   ]
  },
  {
   "cell_type": "code",
   "execution_count": 80,
   "id": "5e621986",
   "metadata": {},
   "outputs": [
    {
     "name": "stdout",
     "output_type": "stream",
     "text": [
      "false\n"
     ]
    }
   ],
   "source": [
    "if not 1 :\n",
    "    print ('true')\n",
    "else :\n",
    "    print('false')"
   ]
  },
  {
   "cell_type": "raw",
   "id": "f06639ba",
   "metadata": {},
   "source": [
    "# percabangan ganda\n",
    "contoh : aplikasi sederhana menghitung umur pengguna dengan format hari, kemudia memberi saran sesuai umur"
   ]
  },
  {
   "cell_type": "code",
   "execution_count": 147,
   "id": "43a678b0",
   "metadata": {},
   "outputs": [
    {
     "name": "stdout",
     "output_type": "stream",
     "text": [
      "Enter your age20\n",
      "Time to get Started!\n"
     ]
    }
   ],
   "source": [
    "age = input('Enter your age')\n",
    "if int(age) * 365 > 20000 :\n",
    "    print('Time to retire!')\n",
    "elif int(age) * 365 > 10000 :\n",
    "    print('Lots of time left!')\n",
    "else :\n",
    "    print('Time to get Started!')"
   ]
  },
  {
   "cell_type": "markdown",
   "id": "6023de5e",
   "metadata": {},
   "source": [
    "```\n",
    "3 operator logika :\n",
    "and \n",
    "or\n",
    "not \n",
    "< > =\n",
    "```"
   ]
  },
  {
   "cell_type": "code",
   "execution_count": 146,
   "id": "3e130c45",
   "metadata": {},
   "outputs": [
    {
     "name": "stdout",
     "output_type": "stream",
     "text": [
      "Enter your age: 20\n",
      "You are a young Padawan\n"
     ]
    }
   ],
   "source": [
    "user_age = input('Enter your age: ')\n",
    "age = int(user_age) * 365\n",
    "\n",
    "if age >= 9490 :\n",
    "    print('You are a Jedi Master now. Go Learn from Master Yoda!!')\n",
    "elif age >= 8395 and age < 9490 :\n",
    "    print('Becoming Jedi Knight')\n",
    "else :\n",
    "    print('You are a young Padawan')"
   ]
  },
  {
   "cell_type": "code",
   "execution_count": 83,
   "id": "fd07be7c",
   "metadata": {},
   "outputs": [],
   "source": [
    "x = 10\n",
    "y = 50\n"
   ]
  },
  {
   "cell_type": "code",
   "execution_count": 84,
   "id": "cf79ddff",
   "metadata": {},
   "outputs": [],
   "source": [
    "if (x**2 >100 and y<100) :\n",
    "    print(x,y)"
   ]
  },
  {
   "cell_type": "markdown",
   "id": "8b223b21",
   "metadata": {},
   "source": [
    "# Function"
   ]
  },
  {
   "cell_type": "raw",
   "id": "6cc66e31",
   "metadata": {},
   "source": [
    "def function_name (self, parameter_list) \"\n",
    "    pass"
   ]
  },
  {
   "cell_type": "code",
   "execution_count": 85,
   "id": "cf814e72",
   "metadata": {},
   "outputs": [],
   "source": [
    "def add(a, b) :\n",
    "    return a + b"
   ]
  },
  {
   "cell_type": "code",
   "execution_count": 86,
   "id": "46907582",
   "metadata": {},
   "outputs": [
    {
     "data": {
      "text/plain": [
       "9"
      ]
     },
     "execution_count": 86,
     "metadata": {},
     "output_type": "execute_result"
    }
   ],
   "source": [
    "add(5,4)"
   ]
  },
  {
   "cell_type": "code",
   "execution_count": 87,
   "id": "c9f5f1cf",
   "metadata": {},
   "outputs": [],
   "source": [
    "add_things = add(10, 4)"
   ]
  },
  {
   "cell_type": "code",
   "execution_count": 88,
   "id": "e7f26284",
   "metadata": {},
   "outputs": [
    {
     "name": "stdout",
     "output_type": "stream",
     "text": [
      "14\n"
     ]
    }
   ],
   "source": [
    "print(add_things)"
   ]
  },
  {
   "cell_type": "code",
   "execution_count": 89,
   "id": "9bf7cf0e",
   "metadata": {},
   "outputs": [],
   "source": [
    "# tidak melakukan return :\n",
    "def add_and_print(a,b) :\n",
    "    print(a + b)"
   ]
  },
  {
   "cell_type": "code",
   "execution_count": 90,
   "id": "54a1c547",
   "metadata": {},
   "outputs": [
    {
     "name": "stdout",
     "output_type": "stream",
     "text": [
      "4\n"
     ]
    }
   ],
   "source": [
    "add_and_print(1,3)"
   ]
  },
  {
   "cell_type": "code",
   "execution_count": 91,
   "id": "b6272755",
   "metadata": {},
   "outputs": [
    {
     "name": "stdout",
     "output_type": "stream",
     "text": [
      "8\n"
     ]
    }
   ],
   "source": [
    "x = add_and_print(5,3)"
   ]
  },
  {
   "cell_type": "code",
   "execution_count": 92,
   "id": "68398c98",
   "metadata": {},
   "outputs": [
    {
     "name": "stdout",
     "output_type": "stream",
     "text": [
      "None\n"
     ]
    }
   ],
   "source": [
    "print(x)"
   ]
  },
  {
   "cell_type": "markdown",
   "id": "577b93fa",
   "metadata": {},
   "source": [
    "Fungsi yang akan mencari karakter yang sama yang terdapat dalam 2 kata"
   ]
  },
  {
   "cell_type": "code",
   "execution_count": 93,
   "id": "609c2533",
   "metadata": {},
   "outputs": [],
   "source": [
    "def intersection(first_word, second_word) :\n",
    "    result = []\n",
    "    for x in first_word : \n",
    "        if x in second_word :\n",
    "            result.append(x)\n",
    "    return result\n"
   ]
  },
  {
   "cell_type": "code",
   "execution_count": 94,
   "id": "33a0d62a",
   "metadata": {},
   "outputs": [],
   "source": [
    "word1 = 'spam'\n",
    "word2 = 'scam'"
   ]
  },
  {
   "cell_type": "code",
   "execution_count": 95,
   "id": "5e7620d5",
   "metadata": {},
   "outputs": [],
   "source": [
    "char_of_intersect = intersection(word1, word2)"
   ]
  },
  {
   "cell_type": "code",
   "execution_count": 96,
   "id": "d804bdd3",
   "metadata": {},
   "outputs": [
    {
     "name": "stdout",
     "output_type": "stream",
     "text": [
      "['s', 'a', 'm']\n"
     ]
    }
   ],
   "source": [
    "print(char_of_intersect)"
   ]
  },
  {
   "cell_type": "markdown",
   "id": "8bf62354",
   "metadata": {},
   "source": [
    "## Bulit in function and modules"
   ]
  },
  {
   "cell_type": "code",
   "execution_count": 97,
   "id": "2cde7356",
   "metadata": {},
   "outputs": [
    {
     "name": "stdout",
     "output_type": "stream",
     "text": [
      "123\n"
     ]
    }
   ],
   "source": [
    "# menghasilkan nilai absolute pada sebuah angka\n",
    "print(abs(-123))"
   ]
  },
  {
   "cell_type": "code",
   "execution_count": 98,
   "id": "654826e0",
   "metadata": {},
   "outputs": [],
   "source": [
    "# mencari tahu tipe data / struktur data dari sebuah variabel\n",
    "numbers = [1,2,3]"
   ]
  },
  {
   "cell_type": "code",
   "execution_count": 99,
   "id": "85a1b85a",
   "metadata": {},
   "outputs": [
    {
     "name": "stdout",
     "output_type": "stream",
     "text": [
      "False\n"
     ]
    }
   ],
   "source": [
    "print(isinstance(numbers, dict))"
   ]
  },
  {
   "cell_type": "raw",
   "id": "f2168022",
   "metadata": {},
   "source": [
    "print(isinstance(numbers, list)) #error"
   ]
  },
  {
   "cell_type": "code",
   "execution_count": 100,
   "id": "1e2c6c12",
   "metadata": {},
   "outputs": [],
   "source": [
    "number = 22"
   ]
  },
  {
   "cell_type": "code",
   "execution_count": 101,
   "id": "f47b360d",
   "metadata": {},
   "outputs": [
    {
     "name": "stdout",
     "output_type": "stream",
     "text": [
      "True\n"
     ]
    }
   ],
   "source": [
    "print(isinstance(number, int))"
   ]
  },
  {
   "cell_type": "code",
   "execution_count": 102,
   "id": "8e0dc79f",
   "metadata": {},
   "outputs": [
    {
     "name": "stdout",
     "output_type": "stream",
     "text": [
      "6\n",
      "1\n"
     ]
    }
   ],
   "source": [
    "# mencari nilai terbesar dan terkecil\n",
    "numbers = [1,2,3,4,5,6]\n",
    "print(max(numbers))\n",
    "print(min(numbers))"
   ]
  },
  {
   "cell_type": "code",
   "execution_count": 103,
   "id": "33f8635f",
   "metadata": {},
   "outputs": [
    {
     "name": "stdout",
     "output_type": "stream",
     "text": [
      "z\n",
      "a\n"
     ]
    }
   ],
   "source": [
    "alphas = ['a','b','z']\n",
    "print(max(alphas))\n",
    "print(min(alphas))"
   ]
  },
  {
   "cell_type": "markdown",
   "id": "64bf45bb",
   "metadata": {},
   "source": [
    "Built in methods"
   ]
  },
  {
   "cell_type": "code",
   "execution_count": 104,
   "id": "cd5f2e26",
   "metadata": {},
   "outputs": [
    {
     "name": "stdout",
     "output_type": "stream",
     "text": [
      "2\n"
     ]
    }
   ],
   "source": [
    "# list\n",
    "# index \n",
    "language = ['py', 'js', 'go', 'c']\n",
    "print(language.index('go'))"
   ]
  },
  {
   "cell_type": "code",
   "execution_count": 105,
   "id": "8da74f4a",
   "metadata": {},
   "outputs": [
    {
     "name": "stdout",
     "output_type": "stream",
     "text": [
      "['c', 'go', 'js', 'py']\n"
     ]
    }
   ],
   "source": [
    "#sort \n",
    "language.sort()\n",
    "print(language)"
   ]
  },
  {
   "cell_type": "raw",
   "id": "8f2e6624",
   "metadata": {},
   "source": [
    "# string\n",
    "capitalize : membuat huruf pertama menjadi kapital\n",
    "upper : untuk merubah semua menjai kapital\n",
    "replace : mencari karakter dan ganti"
   ]
  },
  {
   "cell_type": "code",
   "execution_count": 106,
   "id": "8a1ab2bd",
   "metadata": {},
   "outputs": [
    {
     "name": "stdout",
     "output_type": "stream",
     "text": [
      "raka\n"
     ]
    }
   ],
   "source": [
    "name = 'raka'\n",
    "print(name)"
   ]
  },
  {
   "cell_type": "code",
   "execution_count": 107,
   "id": "f25cf8c2",
   "metadata": {},
   "outputs": [
    {
     "data": {
      "text/plain": [
       "'raca'"
      ]
     },
     "execution_count": 107,
     "metadata": {},
     "output_type": "execute_result"
    }
   ],
   "source": [
    "name.replace('k','c')"
   ]
  },
  {
   "cell_type": "code",
   "execution_count": 108,
   "id": "9a62c66a",
   "metadata": {},
   "outputs": [
    {
     "data": {
      "text/plain": [
       "'Raka'"
      ]
     },
     "execution_count": 108,
     "metadata": {},
     "output_type": "execute_result"
    }
   ],
   "source": [
    "name.capitalize()"
   ]
  },
  {
   "cell_type": "code",
   "execution_count": 109,
   "id": "57e981ee",
   "metadata": {},
   "outputs": [
    {
     "data": {
      "text/plain": [
       "'RAKA'"
      ]
     },
     "execution_count": 109,
     "metadata": {},
     "output_type": "execute_result"
    }
   ],
   "source": [
    "name.upper()"
   ]
  },
  {
   "cell_type": "markdown",
   "id": "c05dc4a4",
   "metadata": {},
   "source": [
    "## Moduls"
   ]
  },
  {
   "cell_type": "code",
   "execution_count": 110,
   "id": "3280b9eb",
   "metadata": {},
   "outputs": [],
   "source": [
    "import b"
   ]
  },
  {
   "cell_type": "code",
   "execution_count": 111,
   "id": "79960b41",
   "metadata": {},
   "outputs": [
    {
     "name": "stdout",
     "output_type": "stream",
     "text": [
      "Log:  aku kamu kita\n"
     ]
    }
   ],
   "source": [
    "b.logger('aku kamu kita')"
   ]
  },
  {
   "cell_type": "code",
   "execution_count": 112,
   "id": "fdb55492",
   "metadata": {},
   "outputs": [],
   "source": [
    "import math"
   ]
  },
  {
   "cell_type": "code",
   "execution_count": 113,
   "id": "f83fa8a2",
   "metadata": {},
   "outputs": [
    {
     "name": "stdout",
     "output_type": "stream",
     "text": [
      "6\n"
     ]
    }
   ],
   "source": [
    "print(math.factorial(3))"
   ]
  },
  {
   "cell_type": "code",
   "execution_count": 114,
   "id": "fab18c26",
   "metadata": {},
   "outputs": [
    {
     "name": "stdout",
     "output_type": "stream",
     "text": [
      "6\n"
     ]
    }
   ],
   "source": [
    "from math import factorial\n",
    "print(factorial(3))"
   ]
  },
  {
   "cell_type": "raw",
   "id": "9c9d09eb",
   "metadata": {},
   "source": [
    "from math import datetime\n",
    "print(datetime.now())"
   ]
  },
  {
   "cell_type": "code",
   "execution_count": 115,
   "id": "be506c2c",
   "metadata": {},
   "outputs": [
    {
     "name": "stdout",
     "output_type": "stream",
     "text": [
      "Log:  aku kamu kita\n"
     ]
    }
   ],
   "source": [
    "from b import logger\n",
    "logger('aku kamu kita')"
   ]
  },
  {
   "cell_type": "markdown",
   "id": "2ebb240e",
   "metadata": {},
   "source": [
    "## Packages"
   ]
  },
  {
   "cell_type": "raw",
   "id": "0f949793",
   "metadata": {},
   "source": [
    "# mendownload sebuah website yang berbekal url : request\n",
    "!pip install requests"
   ]
  },
  {
   "cell_type": "code",
   "execution_count": 116,
   "id": "78bd44b8",
   "metadata": {},
   "outputs": [],
   "source": [
    "import requests "
   ]
  },
  {
   "cell_type": "code",
   "execution_count": 117,
   "id": "3b0562d3",
   "metadata": {},
   "outputs": [],
   "source": [
    "r = requests.get('https://api.github.com/events')"
   ]
  },
  {
   "cell_type": "code",
   "execution_count": 118,
   "id": "e3b552bd",
   "metadata": {},
   "outputs": [
    {
     "name": "stdout",
     "output_type": "stream",
     "text": [
      "200\n"
     ]
    }
   ],
   "source": [
    "print(r.status_code)"
   ]
  },
  {
   "cell_type": "code",
   "execution_count": 119,
   "id": "af906f1c",
   "metadata": {},
   "outputs": [
    {
     "name": "stdout",
     "output_type": "stream",
     "text": [
      "[{'id': '22147306090', 'type': 'PushEvent', 'actor': {'id': 41898282, 'login': 'github-actions[bot]', 'display_login': 'github-actions', 'gravatar_id': '', 'url': 'https://api.github.com/users/github-actions[bot]', 'avatar_url': 'https://avatars.githubusercontent.com/u/41898282?'}, 'repo': {'id': 406669131, 'name': 'YNSTT/DAT_003', 'url': 'https://api.github.com/repos/YNSTT/DAT_003'}, 'payload': {'push_id': 10063598511, 'size': 1, 'distinct_size': 1, 'ref': 'refs/heads/main', 'head': '008c44b34ad68555a8316643fe729e8c5cb1d370', 'before': 'c99626a113d96f62e30f0c17e358651fd396d4e7', 'commits': [{'sha': '008c44b34ad68555a8316643fe729e8c5cb1d370', 'author': {'email': 'sdc@gmail.com', 'name': 'YNSTT'}, 'message': 'link is updated', 'distinct': True, 'url': 'https://api.github.com/repos/YNSTT/DAT_003/commits/008c44b34ad68555a8316643fe729e8c5cb1d370'}]}, 'public': True, 'created_at': '2022-06-03T13:22:27Z'}, {'id': '22147306072', 'type': 'PushEvent', 'actor': {'id': 16888349, 'login': 'liferay-continuous-integration-hu', 'display_login': 'liferay-continuous-integration-hu', 'gravatar_id': '', 'url': 'https://api.github.com/users/liferay-continuous-integration-hu', 'avatar_url': 'https://avatars.githubusercontent.com/u/16888349?'}, 'repo': {'id': 11194393, 'name': 'yunlinsun/liferay-portal', 'url': 'https://api.github.com/repos/yunlinsun/liferay-portal'}, 'payload': {'push_id': 10063598481, 'size': 11, 'distinct_size': 11, 'ref': 'refs/heads/master', 'head': 'd775bd4197ff8d8a3524035066aff9aafb0350e0', 'before': '718aafd4fcc514f54c67bf3b041dce7b6992faa7', 'commits': [{'sha': '1ac3de7276cf9fb19870b8c827ea40883fb81f59', 'author': {'email': 'brian.chan@liferay.com', 'name': 'Brian Chan'}, 'message': 'LPS-0 #sfme', 'distinct': True, 'url': 'https://api.github.com/repos/yunlinsun/liferay-portal/commits/1ac3de7276cf9fb19870b8c827ea40883fb81f59'}, {'sha': '7b9701da86e8fae4de5cb9dbd1a79fee2500bbb6', 'author': {'email': 'brian.chan@liferay.com', 'name': 'Brian Chan'}, 'message': 'LPS-0 Regen', 'distinct': True, 'url': 'https://api.github.com/repos/yunlinsun/liferay-portal/commits/7b9701da86e8fae4de5cb9dbd1a79fee2500bbb6'}, {'sha': '69fb115edc5433829796f895f74ec5e33a0c08ea', 'author': {'email': 'lourdes.fernandez@gmail.com', 'name': 'Lourdes Fernandez Besada'}, 'message': 'LPS-154159 Adds a test class to assert the layout permissions', 'distinct': True, 'url': 'https://api.github.com/repos/yunlinsun/liferay-portal/commits/69fb115edc5433829796f895f74ec5e33a0c08ea'}, {'sha': '41386c41a70dfb434566f7e34e57d08bc6209994', 'author': {'email': 'lourdes.fernandez@gmail.com', 'name': 'Lourdes Fernandez Besada'}, 'message': 'LPS-154159 Adds an integration test to assert that a user with update permissions has grants no matter if FF is enabled or disabled', 'distinct': True, 'url': 'https://api.github.com/repos/yunlinsun/liferay-portal/commits/41386c41a70dfb434566f7e34e57d08bc6209994'}, {'sha': 'ec3d3c88b0f10621c84033e44cf013afbf5105dd', 'author': {'email': 'lourdes.fernandez@gmail.com', 'name': 'Lourdes Fernandez Besada'}, 'message': 'LPS-154159 Adds an integration test to assert that a user with Update_Layout_Content permissions has grants no matter if FF is enabled or disabled', 'distinct': True, 'url': 'https://api.github.com/repos/yunlinsun/liferay-portal/commits/ec3d3c88b0f10621c84033e44cf013afbf5105dd'}, {'sha': '891a200cb2a18bed316d21e3861e8798cf24fed7', 'author': {'email': 'lourdes.fernandez@gmail.com', 'name': 'Lourdes Fernandez Besada'}, 'message': 'LPS-154159 SF extract to a method and reuse', 'distinct': True, 'url': 'https://api.github.com/repos/yunlinsun/liferay-portal/commits/891a200cb2a18bed316d21e3861e8798cf24fed7'}, {'sha': '18db8ef6296b38262a71065563ac0700f712a554', 'author': {'email': 'lourdes.fernandez@gmail.com', 'name': 'Lourdes Fernandez Besada'}, 'message': 'LPS-154159 Adds an integration test to assert that a user with Update_Layout_Basic permissions has grants only when FF is enabled', 'distinct': True, 'url': 'https://api.github.com/repos/yunlinsun/liferay-portal/commits/18db8ef6296b38262a71065563ac0700f712a554'}, {'sha': 'c4990366758aefaf625f3ec34ffdfa50ba393f44', 'author': {'email': 'lourdes.fernandez@gmail.com', 'name': 'Lourdes Fernandez Besada'}, 'message': 'LPS-154159 Adds an integration test to assert that a user with Update_Layout_Limited permissions has grants only when FF is enabled', 'distinct': True, 'url': 'https://api.github.com/repos/yunlinsun/liferay-portal/commits/c4990366758aefaf625f3ec34ffdfa50ba393f44'}, {'sha': 'a98857eb8806154eff61ccd9b7359c545ae3dba6', 'author': {'email': 'lourdes.fernandez@gmail.com', 'name': 'Lourdes Fernandez Besada'}, 'message': 'LPS-154159 Adds an integration test to assert that a user with just Update_Layout_Advanced_Options permissions has no grants any matter if FF is enabled or disabled', 'distinct': True, 'url': 'https://api.github.com/repos/yunlinsun/liferay-portal/commits/a98857eb8806154eff61ccd9b7359c545ae3dba6'}, {'sha': '055382e9c92417d6e9f719f052b6815c22abafea', 'author': {'email': 'lourdes.fernandez@gmail.com', 'name': 'Lourdes Fernandez Besada'}, 'message': 'LPS-154159 Add required dependency', 'distinct': True, 'url': 'https://api.github.com/repos/yunlinsun/liferay-portal/commits/055382e9c92417d6e9f719f052b6815c22abafea'}, {'sha': 'd775bd4197ff8d8a3524035066aff9aafb0350e0', 'author': {'email': 'brian.chan@liferay.com', 'name': 'Brian Chan'}, 'message': 'LPS-154159 We are testing one permission', 'distinct': True, 'url': 'https://api.github.com/repos/yunlinsun/liferay-portal/commits/d775bd4197ff8d8a3524035066aff9aafb0350e0'}]}, 'public': True, 'created_at': '2022-06-03T13:22:27Z'}, {'id': '22147306086', 'type': 'PushEvent', 'actor': {'id': 16879290, 'login': 'PondiB', 'display_login': 'PondiB', 'gravatar_id': '', 'url': 'https://api.github.com/users/PondiB', 'avatar_url': 'https://avatars.githubusercontent.com/u/16879290?'}, 'repo': {'id': 479280244, 'name': 'PondiB/eo-datacube-platform', 'url': 'https://api.github.com/repos/PondiB/eo-datacube-platform'}, 'payload': {'push_id': 10063598509, 'size': 1, 'distinct_size': 1, 'ref': 'refs/heads/main', 'head': '5c09a86d77c28cf0fe5cbef68270202a47427289', 'before': '994ec91b29045e0306d0e084bd04f421df8bc98f', 'commits': [{'sha': '5c09a86d77c28cf0fe5cbef68270202a47427289', 'author': {'email': 'brianpondi.geogeek@gmail.com', 'name': 'Brian Pondi'}, 'message': 'merge_cubes implementation', 'distinct': True, 'url': 'https://api.github.com/repos/PondiB/eo-datacube-platform/commits/5c09a86d77c28cf0fe5cbef68270202a47427289'}]}, 'public': True, 'created_at': '2022-06-03T13:22:27Z'}, {'id': '22147306101', 'type': 'PushEvent', 'actor': {'id': 41898282, 'login': 'github-actions[bot]', 'display_login': 'github-actions', 'gravatar_id': '', 'url': 'https://api.github.com/users/github-actions[bot]', 'avatar_url': 'https://avatars.githubusercontent.com/u/41898282?'}, 'repo': {'id': 410071248, 'name': 'pioug/yield-data', 'url': 'https://api.github.com/repos/pioug/yield-data'}, 'payload': {'push_id': 10063598515, 'size': 1, 'distinct_size': 1, 'ref': 'refs/heads/gh-pages', 'head': '1e9d84cf800804313d4ba44f10446ea375a8a6e6', 'before': '364f63cb6255f620b3704b3b47bb1b7a09481237', 'commits': [{'sha': '1e9d84cf800804313d4ba44f10446ea375a8a6e6', 'author': {'email': '41898282+github-actions[bot]@users.noreply.github.com', 'name': 'github-actions'}, 'message': 'Update data', 'distinct': True, 'url': 'https://api.github.com/repos/pioug/yield-data/commits/1e9d84cf800804313d4ba44f10446ea375a8a6e6'}]}, 'public': True, 'created_at': '2022-06-03T13:22:27Z'}, {'id': '22147306060', 'type': 'PullRequestEvent', 'actor': {'id': 90205054, 'login': 'smokey-two', 'display_login': 'smokey-two', 'gravatar_id': '', 'url': 'https://api.github.com/users/smokey-two', 'avatar_url': 'https://avatars.githubusercontent.com/u/90205054?'}, 'repo': {'id': 418847820, 'name': 'smokey-org/atomist-docker-tutorial', 'url': 'https://api.github.com/repos/smokey-org/atomist-docker-tutorial'}, 'payload': {'action': 'closed', 'number': 10753, 'pull_request': {'url': 'https://api.github.com/repos/smokey-org/atomist-docker-tutorial/pulls/10753', 'id': 957417327, 'node_id': 'PR_kwDOGPccTM45EQdv', 'html_url': 'https://github.com/smokey-org/atomist-docker-tutorial/pull/10753', 'diff_url': 'https://github.com/smokey-org/atomist-docker-tutorial/pull/10753.diff', 'patch_url': 'https://github.com/smokey-org/atomist-docker-tutorial/pull/10753.patch', 'issue_url': 'https://api.github.com/repos/smokey-org/atomist-docker-tutorial/issues/10753', 'number': 10753, 'state': 'closed', 'locked': False, 'title': 'smoke test vulnerability', 'user': {'login': 'smokey-two', 'id': 90205054, 'node_id': 'MDQ6VXNlcjkwMjA1MDU0', 'avatar_url': 'https://avatars.githubusercontent.com/u/90205054?v=4', 'gravatar_id': '', 'url': 'https://api.github.com/users/smokey-two', 'html_url': 'https://github.com/smokey-two', 'followers_url': 'https://api.github.com/users/smokey-two/followers', 'following_url': 'https://api.github.com/users/smokey-two/following{/other_user}', 'gists_url': 'https://api.github.com/users/smokey-two/gists{/gist_id}', 'starred_url': 'https://api.github.com/users/smokey-two/starred{/owner}{/repo}', 'subscriptions_url': 'https://api.github.com/users/smokey-two/subscriptions', 'organizations_url': 'https://api.github.com/users/smokey-two/orgs', 'repos_url': 'https://api.github.com/users/smokey-two/repos', 'events_url': 'https://api.github.com/users/smokey-two/events{/privacy}', 'received_events_url': 'https://api.github.com/users/smokey-two/received_events', 'type': 'User', 'site_admin': False}, 'body': \"let's make things worse\", 'created_at': '2022-06-03T12:33:19Z', 'updated_at': '2022-06-03T13:22:27Z', 'closed_at': '2022-06-03T13:22:27Z', 'merged_at': None, 'merge_commit_sha': 'ff959b08e89b7357cf6ac7d5014112cbb1cecff3', 'assignee': None, 'assignees': [], 'requested_reviewers': [], 'requested_teams': [], 'labels': [], 'milestone': None, 'draft': False, 'commits_url': 'https://api.github.com/repos/smokey-org/atomist-docker-tutorial/pulls/10753/commits', 'review_comments_url': 'https://api.github.com/repos/smokey-org/atomist-docker-tutorial/pulls/10753/comments', 'review_comment_url': 'https://api.github.com/repos/smokey-org/atomist-docker-tutorial/pulls/comments{/number}', 'comments_url': 'https://api.github.com/repos/smokey-org/atomist-docker-tutorial/issues/10753/comments', 'statuses_url': 'https://api.github.com/repos/smokey-org/atomist-docker-tutorial/statuses/816e20607722af01569543fde357ef51bad2eaf2', 'head': {'label': 'smokey-org:vulnerable-branch3', 'ref': 'vulnerable-branch3', 'sha': '816e20607722af01569543fde357ef51bad2eaf2', 'user': {'login': 'smokey-org', 'id': 90450878, 'node_id': 'MDEyOk9yZ2FuaXphdGlvbjkwNDUwODc4', 'avatar_url': 'https://avatars.githubusercontent.com/u/90450878?v=4', 'gravatar_id': '', 'url': 'https://api.github.com/users/smokey-org', 'html_url': 'https://github.com/smokey-org', 'followers_url': 'https://api.github.com/users/smokey-org/followers', 'following_url': 'https://api.github.com/users/smokey-org/following{/other_user}', 'gists_url': 'https://api.github.com/users/smokey-org/gists{/gist_id}', 'starred_url': 'https://api.github.com/users/smokey-org/starred{/owner}{/repo}', 'subscriptions_url': 'https://api.github.com/users/smokey-org/subscriptions', 'organizations_url': 'https://api.github.com/users/smokey-org/orgs', 'repos_url': 'https://api.github.com/users/smokey-org/repos', 'events_url': 'https://api.github.com/users/smokey-org/events{/privacy}', 'received_events_url': 'https://api.github.com/users/smokey-org/received_events', 'type': 'Organization', 'site_admin': False}, 'repo': {'id': 418847820, 'node_id': 'R_kgDOGPccTA', 'name': 'atomist-docker-tutorial', 'full_name': 'smokey-org/atomist-docker-tutorial', 'private': False, 'owner': {'login': 'smokey-org', 'id': 90450878, 'node_id': 'MDEyOk9yZ2FuaXphdGlvbjkwNDUwODc4', 'avatar_url': 'https://avatars.githubusercontent.com/u/90450878?v=4', 'gravatar_id': '', 'url': 'https://api.github.com/users/smokey-org', 'html_url': 'https://github.com/smokey-org', 'followers_url': 'https://api.github.com/users/smokey-org/followers', 'following_url': 'https://api.github.com/users/smokey-org/following{/other_user}', 'gists_url': 'https://api.github.com/users/smokey-org/gists{/gist_id}', 'starred_url': 'https://api.github.com/users/smokey-org/starred{/owner}{/repo}', 'subscriptions_url': 'https://api.github.com/users/smokey-org/subscriptions', 'organizations_url': 'https://api.github.com/users/smokey-org/orgs', 'repos_url': 'https://api.github.com/users/smokey-org/repos', 'events_url': 'https://api.github.com/users/smokey-org/events{/privacy}', 'received_events_url': 'https://api.github.com/users/smokey-org/received_events', 'type': 'Organization', 'site_admin': False}, 'html_url': 'https://github.com/smokey-org/atomist-docker-tutorial', 'description': 'To test out Atomist, start by forking this repository into your GitHub account or organization.', 'fork': True, 'url': 'https://api.github.com/repos/smokey-org/atomist-docker-tutorial', 'forks_url': 'https://api.github.com/repos/smokey-org/atomist-docker-tutorial/forks', 'keys_url': 'https://api.github.com/repos/smokey-org/atomist-docker-tutorial/keys{/key_id}', 'collaborators_url': 'https://api.github.com/repos/smokey-org/atomist-docker-tutorial/collaborators{/collaborator}', 'teams_url': 'https://api.github.com/repos/smokey-org/atomist-docker-tutorial/teams', 'hooks_url': 'https://api.github.com/repos/smokey-org/atomist-docker-tutorial/hooks', 'issue_events_url': 'https://api.github.com/repos/smokey-org/atomist-docker-tutorial/issues/events{/number}', 'events_url': 'https://api.github.com/repos/smokey-org/atomist-docker-tutorial/events', 'assignees_url': 'https://api.github.com/repos/smokey-org/atomist-docker-tutorial/assignees{/user}', 'branches_url': 'https://api.github.com/repos/smokey-org/atomist-docker-tutorial/branches{/branch}', 'tags_url': 'https://api.github.com/repos/smokey-org/atomist-docker-tutorial/tags', 'blobs_url': 'https://api.github.com/repos/smokey-org/atomist-docker-tutorial/git/blobs{/sha}', 'git_tags_url': 'https://api.github.com/repos/smokey-org/atomist-docker-tutorial/git/tags{/sha}', 'git_refs_url': 'https://api.github.com/repos/smokey-org/atomist-docker-tutorial/git/refs{/sha}', 'trees_url': 'https://api.github.com/repos/smokey-org/atomist-docker-tutorial/git/trees{/sha}', 'statuses_url': 'https://api.github.com/repos/smokey-org/atomist-docker-tutorial/statuses/{sha}', 'languages_url': 'https://api.github.com/repos/smokey-org/atomist-docker-tutorial/languages', 'stargazers_url': 'https://api.github.com/repos/smokey-org/atomist-docker-tutorial/stargazers', 'contributors_url': 'https://api.github.com/repos/smokey-org/atomist-docker-tutorial/contributors', 'subscribers_url': 'https://api.github.com/repos/smokey-org/atomist-docker-tutorial/subscribers', 'subscription_url': 'https://api.github.com/repos/smokey-org/atomist-docker-tutorial/subscription', 'commits_url': 'https://api.github.com/repos/smokey-org/atomist-docker-tutorial/commits{/sha}', 'git_commits_url': 'https://api.github.com/repos/smokey-org/atomist-docker-tutorial/git/commits{/sha}', 'comments_url': 'https://api.github.com/repos/smokey-org/atomist-docker-tutorial/comments{/number}', 'issue_comment_url': 'https://api.github.com/repos/smokey-org/atomist-docker-tutorial/issues/comments{/number}', 'contents_url': 'https://api.github.com/repos/smokey-org/atomist-docker-tutorial/contents/{+path}', 'compare_url': 'https://api.github.com/repos/smokey-org/atomist-docker-tutorial/compare/{base}...{head}', 'merges_url': 'https://api.github.com/repos/smokey-org/atomist-docker-tutorial/merges', 'archive_url': 'https://api.github.com/repos/smokey-org/atomist-docker-tutorial/{archive_format}{/ref}', 'downloads_url': 'https://api.github.com/repos/smokey-org/atomist-docker-tutorial/downloads', 'issues_url': 'https://api.github.com/repos/smokey-org/atomist-docker-tutorial/issues{/number}', 'pulls_url': 'https://api.github.com/repos/smokey-org/atomist-docker-tutorial/pulls{/number}', 'milestones_url': 'https://api.github.com/repos/smokey-org/atomist-docker-tutorial/milestones{/number}', 'notifications_url': 'https://api.github.com/repos/smokey-org/atomist-docker-tutorial/notifications{?since,all,participating}', 'labels_url': 'https://api.github.com/repos/smokey-org/atomist-docker-tutorial/labels{/name}', 'releases_url': 'https://api.github.com/repos/smokey-org/atomist-docker-tutorial/releases{/id}', 'deployments_url': 'https://api.github.com/repos/smokey-org/atomist-docker-tutorial/deployments', 'created_at': '2021-10-19T09:02:50Z', 'updated_at': '2022-01-11T03:41:43Z', 'pushed_at': '2022-06-03T12:33:19Z', 'git_url': 'git://github.com/smokey-org/atomist-docker-tutorial.git', 'ssh_url': 'git@github.com:smokey-org/atomist-docker-tutorial.git', 'clone_url': 'https://github.com/smokey-org/atomist-docker-tutorial.git', 'svn_url': 'https://github.com/smokey-org/atomist-docker-tutorial', 'homepage': '', 'size': 1318, 'stargazers_count': 0, 'watchers_count': 0, 'language': 'Dockerfile', 'has_issues': False, 'has_projects': True, 'has_downloads': True, 'has_wiki': True, 'has_pages': False, 'forks_count': 0, 'mirror_url': None, 'archived': False, 'disabled': False, 'open_issues_count': 1, 'license': None, 'allow_forking': True, 'is_template': False, 'topics': [], 'visibility': 'public', 'forks': 0, 'open_issues': 1, 'watchers': 0, 'default_branch': 'main'}}, 'base': {'label': 'smokey-org:main', 'ref': 'main', 'sha': '95a1e5a454500c3ba7e5b7a413cc8e2a92294e77', 'user': {'login': 'smokey-org', 'id': 90450878, 'node_id': 'MDEyOk9yZ2FuaXphdGlvbjkwNDUwODc4', 'avatar_url': 'https://avatars.githubusercontent.com/u/90450878?v=4', 'gravatar_id': '', 'url': 'https://api.github.com/users/smokey-org', 'html_url': 'https://github.com/smokey-org', 'followers_url': 'https://api.github.com/users/smokey-org/followers', 'following_url': 'https://api.github.com/users/smokey-org/following{/other_user}', 'gists_url': 'https://api.github.com/users/smokey-org/gists{/gist_id}', 'starred_url': 'https://api.github.com/users/smokey-org/starred{/owner}{/repo}', 'subscriptions_url': 'https://api.github.com/users/smokey-org/subscriptions', 'organizations_url': 'https://api.github.com/users/smokey-org/orgs', 'repos_url': 'https://api.github.com/users/smokey-org/repos', 'events_url': 'https://api.github.com/users/smokey-org/events{/privacy}', 'received_events_url': 'https://api.github.com/users/smokey-org/received_events', 'type': 'Organization', 'site_admin': False}, 'repo': {'id': 418847820, 'node_id': 'R_kgDOGPccTA', 'name': 'atomist-docker-tutorial', 'full_name': 'smokey-org/atomist-docker-tutorial', 'private': False, 'owner': {'login': 'smokey-org', 'id': 90450878, 'node_id': 'MDEyOk9yZ2FuaXphdGlvbjkwNDUwODc4', 'avatar_url': 'https://avatars.githubusercontent.com/u/90450878?v=4', 'gravatar_id': '', 'url': 'https://api.github.com/users/smokey-org', 'html_url': 'https://github.com/smokey-org', 'followers_url': 'https://api.github.com/users/smokey-org/followers', 'following_url': 'https://api.github.com/users/smokey-org/following{/other_user}', 'gists_url': 'https://api.github.com/users/smokey-org/gists{/gist_id}', 'starred_url': 'https://api.github.com/users/smokey-org/starred{/owner}{/repo}', 'subscriptions_url': 'https://api.github.com/users/smokey-org/subscriptions', 'organizations_url': 'https://api.github.com/users/smokey-org/orgs', 'repos_url': 'https://api.github.com/users/smokey-org/repos', 'events_url': 'https://api.github.com/users/smokey-org/events{/privacy}', 'received_events_url': 'https://api.github.com/users/smokey-org/received_events', 'type': 'Organization', 'site_admin': False}, 'html_url': 'https://github.com/smokey-org/atomist-docker-tutorial', 'description': 'To test out Atomist, start by forking this repository into your GitHub account or organization.', 'fork': True, 'url': 'https://api.github.com/repos/smokey-org/atomist-docker-tutorial', 'forks_url': 'https://api.github.com/repos/smokey-org/atomist-docker-tutorial/forks', 'keys_url': 'https://api.github.com/repos/smokey-org/atomist-docker-tutorial/keys{/key_id}', 'collaborators_url': 'https://api.github.com/repos/smokey-org/atomist-docker-tutorial/collaborators{/collaborator}', 'teams_url': 'https://api.github.com/repos/smokey-org/atomist-docker-tutorial/teams', 'hooks_url': 'https://api.github.com/repos/smokey-org/atomist-docker-tutorial/hooks', 'issue_events_url': 'https://api.github.com/repos/smokey-org/atomist-docker-tutorial/issues/events{/number}', 'events_url': 'https://api.github.com/repos/smokey-org/atomist-docker-tutorial/events', 'assignees_url': 'https://api.github.com/repos/smokey-org/atomist-docker-tutorial/assignees{/user}', 'branches_url': 'https://api.github.com/repos/smokey-org/atomist-docker-tutorial/branches{/branch}', 'tags_url': 'https://api.github.com/repos/smokey-org/atomist-docker-tutorial/tags', 'blobs_url': 'https://api.github.com/repos/smokey-org/atomist-docker-tutorial/git/blobs{/sha}', 'git_tags_url': 'https://api.github.com/repos/smokey-org/atomist-docker-tutorial/git/tags{/sha}', 'git_refs_url': 'https://api.github.com/repos/smokey-org/atomist-docker-tutorial/git/refs{/sha}', 'trees_url': 'https://api.github.com/repos/smokey-org/atomist-docker-tutorial/git/trees{/sha}', 'statuses_url': 'https://api.github.com/repos/smokey-org/atomist-docker-tutorial/statuses/{sha}', 'languages_url': 'https://api.github.com/repos/smokey-org/atomist-docker-tutorial/languages', 'stargazers_url': 'https://api.github.com/repos/smokey-org/atomist-docker-tutorial/stargazers', 'contributors_url': 'https://api.github.com/repos/smokey-org/atomist-docker-tutorial/contributors', 'subscribers_url': 'https://api.github.com/repos/smokey-org/atomist-docker-tutorial/subscribers', 'subscription_url': 'https://api.github.com/repos/smokey-org/atomist-docker-tutorial/subscription', 'commits_url': 'https://api.github.com/repos/smokey-org/atomist-docker-tutorial/commits{/sha}', 'git_commits_url': 'https://api.github.com/repos/smokey-org/atomist-docker-tutorial/git/commits{/sha}', 'comments_url': 'https://api.github.com/repos/smokey-org/atomist-docker-tutorial/comments{/number}', 'issue_comment_url': 'https://api.github.com/repos/smokey-org/atomist-docker-tutorial/issues/comments{/number}', 'contents_url': 'https://api.github.com/repos/smokey-org/atomist-docker-tutorial/contents/{+path}', 'compare_url': 'https://api.github.com/repos/smokey-org/atomist-docker-tutorial/compare/{base}...{head}', 'merges_url': 'https://api.github.com/repos/smokey-org/atomist-docker-tutorial/merges', 'archive_url': 'https://api.github.com/repos/smokey-org/atomist-docker-tutorial/{archive_format}{/ref}', 'downloads_url': 'https://api.github.com/repos/smokey-org/atomist-docker-tutorial/downloads', 'issues_url': 'https://api.github.com/repos/smokey-org/atomist-docker-tutorial/issues{/number}', 'pulls_url': 'https://api.github.com/repos/smokey-org/atomist-docker-tutorial/pulls{/number}', 'milestones_url': 'https://api.github.com/repos/smokey-org/atomist-docker-tutorial/milestones{/number}', 'notifications_url': 'https://api.github.com/repos/smokey-org/atomist-docker-tutorial/notifications{?since,all,participating}', 'labels_url': 'https://api.github.com/repos/smokey-org/atomist-docker-tutorial/labels{/name}', 'releases_url': 'https://api.github.com/repos/smokey-org/atomist-docker-tutorial/releases{/id}', 'deployments_url': 'https://api.github.com/repos/smokey-org/atomist-docker-tutorial/deployments', 'created_at': '2021-10-19T09:02:50Z', 'updated_at': '2022-01-11T03:41:43Z', 'pushed_at': '2022-06-03T12:33:19Z', 'git_url': 'git://github.com/smokey-org/atomist-docker-tutorial.git', 'ssh_url': 'git@github.com:smokey-org/atomist-docker-tutorial.git', 'clone_url': 'https://github.com/smokey-org/atomist-docker-tutorial.git', 'svn_url': 'https://github.com/smokey-org/atomist-docker-tutorial', 'homepage': '', 'size': 1318, 'stargazers_count': 0, 'watchers_count': 0, 'language': 'Dockerfile', 'has_issues': False, 'has_projects': True, 'has_downloads': True, 'has_wiki': True, 'has_pages': False, 'forks_count': 0, 'mirror_url': None, 'archived': False, 'disabled': False, 'open_issues_count': 1, 'license': None, 'allow_forking': True, 'is_template': False, 'topics': [], 'visibility': 'public', 'forks': 0, 'open_issues': 1, 'watchers': 0, 'default_branch': 'main'}}, '_links': {'self': {'href': 'https://api.github.com/repos/smokey-org/atomist-docker-tutorial/pulls/10753'}, 'html': {'href': 'https://github.com/smokey-org/atomist-docker-tutorial/pull/10753'}, 'issue': {'href': 'https://api.github.com/repos/smokey-org/atomist-docker-tutorial/issues/10753'}, 'comments': {'href': 'https://api.github.com/repos/smokey-org/atomist-docker-tutorial/issues/10753/comments'}, 'review_comments': {'href': 'https://api.github.com/repos/smokey-org/atomist-docker-tutorial/pulls/10753/comments'}, 'review_comment': {'href': 'https://api.github.com/repos/smokey-org/atomist-docker-tutorial/pulls/comments{/number}'}, 'commits': {'href': 'https://api.github.com/repos/smokey-org/atomist-docker-tutorial/pulls/10753/commits'}, 'statuses': {'href': 'https://api.github.com/repos/smokey-org/atomist-docker-tutorial/statuses/816e20607722af01569543fde357ef51bad2eaf2'}}, 'author_association': 'NONE', 'auto_merge': None, 'active_lock_reason': None, 'merged': False, 'mergeable': True, 'rebaseable': True, 'mergeable_state': 'clean', 'merged_by': None, 'comments': 0, 'review_comments': 0, 'maintainer_can_modify': False, 'commits': 1, 'additions': 6, 'deletions': 2, 'changed_files': 1}}, 'public': True, 'created_at': '2022-06-03T13:22:27Z', 'org': {'id': 90450878, 'login': 'smokey-org', 'gravatar_id': '', 'url': 'https://api.github.com/orgs/smokey-org', 'avatar_url': 'https://avatars.githubusercontent.com/u/90450878?'}}, {'id': '22147306059', 'type': 'PullRequestEvent', 'actor': {'id': 49699333, 'login': 'dependabot[bot]', 'display_login': 'dependabot', 'gravatar_id': '', 'url': 'https://api.github.com/users/dependabot[bot]', 'avatar_url': 'https://avatars.githubusercontent.com/u/49699333?'}, 'repo': {'id': 429837351, 'name': 'khotsopitso/Electron-clone', 'url': 'https://api.github.com/repos/khotsopitso/Electron-clone'}, 'payload': {'action': 'closed', 'number': 27, 'pull_request': {'url': 'https://api.github.com/repos/khotsopitso/Electron-clone/pulls/27', 'id': 955906209, 'node_id': 'PR_kwDOGZ7MJ844-fih', 'html_url': 'https://github.com/khotsopitso/Electron-clone/pull/27', 'diff_url': 'https://github.com/khotsopitso/Electron-clone/pull/27.diff', 'patch_url': 'https://github.com/khotsopitso/Electron-clone/pull/27.patch', 'issue_url': 'https://api.github.com/repos/khotsopitso/Electron-clone/issues/27', 'number': 27, 'state': 'closed', 'locked': False, 'title': 'Bump electron from 16.0.0 to 19.0.2', 'user': {'login': 'dependabot[bot]', 'id': 49699333, 'node_id': 'MDM6Qm90NDk2OTkzMzM=', 'avatar_url': 'https://avatars.githubusercontent.com/in/29110?v=4', 'gravatar_id': '', 'url': 'https://api.github.com/users/dependabot%5Bbot%5D', 'html_url': 'https://github.com/apps/dependabot', 'followers_url': 'https://api.github.com/users/dependabot%5Bbot%5D/followers', 'following_url': 'https://api.github.com/users/dependabot%5Bbot%5D/following{/other_user}', 'gists_url': 'https://api.github.com/users/dependabot%5Bbot%5D/gists{/gist_id}', 'starred_url': 'https://api.github.com/users/dependabot%5Bbot%5D/starred{/owner}{/repo}', 'subscriptions_url': 'https://api.github.com/users/dependabot%5Bbot%5D/subscriptions', 'organizations_url': 'https://api.github.com/users/dependabot%5Bbot%5D/orgs', 'repos_url': 'https://api.github.com/users/dependabot%5Bbot%5D/repos', 'events_url': 'https://api.github.com/users/dependabot%5Bbot%5D/events{/privacy}', 'received_events_url': 'https://api.github.com/users/dependabot%5Bbot%5D/received_events', 'type': 'Bot', 'site_admin': False}, 'body': 'Bumps [electron](https://github.com/electron/electron) from 16.0.0 to 19.0.2.\\n<details>\\n<summary>Release notes</summary>\\n<p><em>Sourced from <a href=\"https://github.com/electron/electron/releases\">electron\\'s releases</a>.</em></p>\\n<blockquote>\\n<h2>electron v19.0.2</h2>\\n<h1>Release Notes for v19.0.2</h1>\\n<h2>Fixes</h2>\\n<ul>\\n<li>Fixed an issue where pressing escape would not un-fullscreen on Windows or Linux in some circumstances. <a href=\"https://github-redirect.dependabot.com/electron/electron/pull/34359\">#34359</a> <!-- raw HTML omitted -->(Also in <a href=\"https://github-redirect.dependabot.com/electron/electron/pull/34361\">18</a>)<!-- raw HTML omitted --></li>\\n<li>Fixed an issue where zombie windows can be created if <code>window.close()</code> is called during a fullscreen transition. <a href=\"https://github-redirect.dependabot.com/electron/electron/pull/34391\">#34391</a> <!-- raw HTML omitted -->(Also in <a href=\"https://github-redirect.dependabot.com/electron/electron/pull/34390\">17</a>, <a href=\"https://github-redirect.dependabot.com/electron/electron/pull/34392\">18</a>, <a href=\"https://github-redirect.dependabot.com/electron/electron/pull/34393\">20</a>)<!-- raw HTML omitted --></li>\\n<li>Fixed printing crash when using <code>webContents.print()</code>. <a href=\"https://github-redirect.dependabot.com/electron/electron/pull/34369\">#34369</a></li>\\n</ul>\\n<h2>Other Changes</h2>\\n<ul>\\n<li>Updated Chromium to 102.0.5005.63. <a href=\"https://github-redirect.dependabot.com/electron/electron/pull/34349\">#34349</a></li>\\n</ul>\\n<h2>electron v19.0.1</h2>\\n<h1>Release Notes for v19.0.1</h1>\\n<h2>Other Changes</h2>\\n<ul>\\n<li>Added a TRACE call named <code>crash_reporter::Start</code> under the <code>electron</code> category for <code>crash_reporter::Start()</code>. <a href=\"https://github-redirect.dependabot.com/electron/electron/pull/34326\">#34326</a> <!-- raw HTML omitted -->(Also in <a href=\"https://github-redirect.dependabot.com/electron/electron/pull/34324\">17</a>, <a href=\"https://github-redirect.dependabot.com/electron/electron/pull/34325\">18</a>)<!-- raw HTML omitted --></li>\\n</ul>\\n<h2>electron v19.0.0</h2>\\n<h1>Release Notes for v19.0.0</h1>\\n<h2>Stack Upgrades</h2>\\n<ul>\\n<li>Chromium 102.0.5005.61\\n<ul>\\n<li><a href=\"https://developer.chrome.com/blog/new-in-chrome-101/\">New in 101</a></li>\\n</ul>\\n</li>\\n<li>Node v16.14.2\\n<ul>\\n<li><a href=\"https://nodejs.org/en/blog/release/v16.14.2/\">v16.14.2 release notes</a></li>\\n<li><a href=\"https://nodejs.org/en/blog/release/v16.14.1/\">v16.14.1 release notes</a></li>\\n<li><a href=\"https://nodejs.org/en/blog/release/v16.14.0/\">v16.14.0 release notes</a></li>\\n</ul>\\n</li>\\n<li>V8 10.2</li>\\n</ul>\\n<h2>Features</h2>\\n<h3>Additions</h3>\\n<ul>\\n<li>Added <code>BrowserWindow</code> method to change the button color, symbol color, and height of a window with WCO enabled. <a href=\"https://github-redirect.dependabot.com/electron/electron/pull/33066\">#33066</a> <!-- raw HTML omitted -->(Also in <a href=\"https://github-redirect.dependabot.com/electron/electron/pull/33440\">18</a>)<!-- raw HTML omitted --></li>\\n<li>Added <code>nativeTheme.inForcedColorsMode</code> API to allow detecting forced color mode. <a href=\"https://github-redirect.dependabot.com/electron/electron/pull/32956\">#32956</a> <!-- raw HTML omitted -->(Also in <a href=\"https://github-redirect.dependabot.com/electron/electron/pull/33360\">15</a>, <a href=\"https://github-redirect.dependabot.com/electron/electron/pull/33359\">16</a>, <a href=\"https://github-redirect.dependabot.com/electron/electron/pull/33358\">17</a>, <a href=\"https://github-redirect.dependabot.com/electron/electron/pull/33357\">18</a>)<!-- raw HTML omitted --></li>\\n<li>Added <code>ses.setCodeCachePath()</code> API for setting code cache directory. <a href=\"https://github-redirect.dependabot.com/electron/electron/pull/31154\">#31154</a> <!-- raw HTML omitted -->(Also in <a href=\"https://github-redirect.dependabot.com/electron/electron/pull/33285\">17</a>, <a href=\"https://github-redirect.dependabot.com/electron/electron/pull/33286\">18</a>)<!-- raw HTML omitted --></li>\\n<li>Added ability to configure if window should close when opener closes. <a href=\"https://github-redirect.dependabot.com/electron/electron/pull/31314\">#31314</a></li>\\n<li>Added support for more color formats in <code>setBackgroundColor</code>. <a href=\"https://github-redirect.dependabot.com/electron/electron/pull/31868\">#31868</a> <!-- raw HTML omitted -->(Also in <a href=\"https://github-redirect.dependabot.com/electron/electron/pull/33364\">18</a>)<!-- raw HTML omitted --></li>\\n<li>Added warning that preload scripts will be sandboxed by default beginning in Electron 20. <a href=\"https://github-redirect.dependabot.com/electron/electron/pull/32868\">#32868</a> <!-- raw HTML omitted -->(Also in <a href=\"https://github-redirect.dependabot.com/electron/electron/pull/33203\">18</a>)<!-- raw HTML omitted --></li>\\n<li>Enabled <code>systemPreferences.subscribe{Local|Workspace}Notification</code> to take a <code>null</code> value for the <code>event</code> parameter. <a href=\"https://github-redirect.dependabot.com/electron/electron/pull/33770\">#33770</a> <!-- raw HTML omitted -->(Also in <a href=\"https://github-redirect.dependabot.com/electron/electron/pull/33771\">18</a>)<!-- raw HTML omitted --></li>\\n<li>Fixed an issue where calling <code>setTitlebarOverlay</code> with an initially invalid <code>titleBarStyle</code> on Windows would result in a crash. <a href=\"https://github-redirect.dependabot.com/electron/electron/pull/34302\">#34302</a></li>\\n<li>Fixed an issue where the PDF Viewer would fail if a user attempted to reload. <a href=\"https://github-redirect.dependabot.com/electron/electron/pull/33712\">#33712</a> <!-- raw HTML omitted -->(Also in <a href=\"https://github-redirect.dependabot.com/electron/electron/pull/33711\">18</a>)<!-- raw HTML omitted --></li>\\n</ul>\\n<h2>Fixes</h2>\\n<ul>\\n<li>Added support for the <code>--unsafely-treat-insecure-origin-as-secure</code> command-line flag. <a href=\"https://github-redirect.dependabot.com/electron/electron/pull/33189\">#33189</a></li>\\n<li>Fixed a potential crash when calling <code>webContents.print()</code>. <a href=\"https://github-redirect.dependabot.com/electron/electron/pull/34299\">#34299</a></li>\\n<li>Fixed an issue where <code>#ARGB</code> -&gt;<code>#RGBA</code> and <code>#AARRGGBB</code> -&gt;<code>#RRGGBBAA</code> were converted improperly when setting background color. <a href=\"https://github-redirect.dependabot.com/electron/electron/pull/33755\">#33755</a></li>\\n<li>Fixed an issue where some <code>BrowserWindow</code>s opened from new links wouldn\\'t properly load URLs. <a href=\"https://github-redirect.dependabot.com/electron/electron/pull/34189\">#34189</a></li>\\n<li>Fixed an issue with background colors being improperly applied to <code>BrowserView</code>s on Windows. <a href=\"https://github-redirect.dependabot.com/electron/electron/pull/33435\">#33435</a></li>\\n</ul>\\n<!-- raw HTML omitted -->\\n</blockquote>\\n<p>... (truncated)</p>\\n</details>\\n<details>\\n<summary>Commits</summary>\\n<ul>\\n<li><a href=\"https://github.com/electron/electron/commit/ba32b32ec32592df65304648873f7785401ff4e3\"><code>ba32b32</code></a> Bump v19.0.2</li>\\n<li><a href=\"https://github.com/electron/electron/commit/3ad5a451731eb234fa017800246b0a3df7b50728\"><code>3ad5a45</code></a> fix: zombie windows when fullscreening and closing (<a href=\"https://github-redirect.dependabot.com/electron/electron/issues/34391\">#34391</a>)</li>\\n<li><a href=\"https://github.com/electron/electron/commit/b9d16ab3ebc21116d0e951a2166f9dbb9792b168\"><code>b9d16ab</code></a> fix: esc not working on Windows during fullscreen (<a href=\"https://github-redirect.dependabot.com/electron/electron/issues/34359\">#34359</a>)</li>\\n<li><a href=\"https://github.com/electron/electron/commit/7e2606df021192aa6ab88c14360da0eeda13d18d\"><code>7e2606d</code></a> fix: missing resource printing DCHECK (<a href=\"https://github-redirect.dependabot.com/electron/electron/issues/34369\">#34369</a>)</li>\\n<li><a href=\"https://github.com/electron/electron/commit/8692a5b9217ee47ace86ba50f17a23bdf6226950\"><code>8692a5b</code></a> test: add <code>setTitlebarOverlay</code> spec (<a href=\"https://github-redirect.dependabot.com/electron/electron/issues/34252\">#34252</a>)</li>\\n<li><a href=\"https://github.com/electron/electron/commit/abf438bddc03faa07d05f9083ef07160a87502da\"><code>abf438b</code></a> chore: bump chromium to 102.0.5005.63 (19-x-y) (<a href=\"https://github-redirect.dependabot.com/electron/electron/issues/34349\">#34349</a>)</li>\\n<li><a href=\"https://github.com/electron/electron/commit/56515ad544824070587477203cd2b56e667c5f1f\"><code>56515ad</code></a> Bump v19.0.1</li>\\n<li><a href=\"https://github.com/electron/electron/commit/a9ff8f1359f14d02ae4dd4bfe1ff706be0d2b20a\"><code>a9ff8f1</code></a> build: do not checkout chromium for ts docs check (<a href=\"https://github-redirect.dependabot.com/electron/electron/issues/34344\">#34344</a>)</li>\\n<li><a href=\"https://github.com/electron/electron/commit/f84cafe4fd33d0bc8f8ae3744a5d23eb277cd0d8\"><code>f84cafe</code></a> chore: add a TRACE call for <code>crash_reporter::Start()</code> (<a href=\"https://github-redirect.dependabot.com/electron/electron/issues/34326\">#34326</a>)</li>\\n<li><a href=\"https://github.com/electron/electron/commit/42266d2bf0399e042a1138d5b08f58fecbad46e4\"><code>42266d2</code></a> Bump v19.0.0</li>\\n<li>Additional commits viewable in <a href=\"https://github.com/electron/electron/compare/v16.0.0...v19.0.2\">compare view</a></li>\\n</ul>\\n</details>\\n<br />\\n\\n\\n[![Dependabot compatibility score](https://dependabot-badges.githubapp.com/badges/compatibility_score?dependency-name=electron&package-manager=npm_and_yarn&previous-version=16.0.0&new-version=19.0.2)](https://docs.github.com/en/github/managing-security-vulnerabilities/about-dependabot-security-updates#about-compatibility-scores)\\n\\nDependabot will resolve any conflicts with this PR as long as you don\\'t alter it yourself. You can also trigger a rebase manually by commenting `@dependabot rebase`.\\n\\n[//]: # (dependabot-automerge-start)\\n[//]: # (dependabot-automerge-end)\\n\\n---\\n\\n<details>\\n<summary>Dependabot commands and options</summary>\\n<br />\\n\\nYou can trigger Dependabot actions by commenting on this PR:\\n- `@dependabot rebase` will rebase this PR\\n- `@dependabot recreate` will recreate this PR, overwriting any edits that have been made to it\\n- `@dependabot merge` will merge this PR after your CI passes on it\\n- `@dependabot squash and merge` will squash and merge this PR after your CI passes on it\\n- `@dependabot cancel merge` will cancel a previously requested merge and block automerging\\n- `@dependabot reopen` will reopen this PR if it is closed\\n- `@dependabot close` will close this PR and stop Dependabot recreating it. You can achieve the same result by closing it manually\\n- `@dependabot ignore this major version` will close this PR and stop Dependabot creating any more for this major version (unless you reopen the PR or upgrade to it yourself)\\n- `@dependabot ignore this minor version` will close this PR and stop Dependabot creating any more for this minor version (unless you reopen the PR or upgrade to it yourself)\\n- `@dependabot ignore this dependency` will close this PR and stop Dependabot creating any more for this dependency (unless you reopen the PR or upgrade to it yourself)\\n\\n\\n</details>', 'created_at': '2022-06-02T13:22:26Z', 'updated_at': '2022-06-03T13:22:27Z', 'closed_at': '2022-06-03T13:22:27Z', 'merged_at': None, 'merge_commit_sha': '92f2d02140ef235421e32dbe9b12555d77a5bc28', 'assignee': None, 'assignees': [], 'requested_reviewers': [], 'requested_teams': [], 'labels': [{'id': 3565306828, 'node_id': 'LA_kwDOGZ7MJ87UgkPM', 'url': 'https://api.github.com/repos/khotsopitso/Electron-clone/labels/dependencies', 'name': 'dependencies', 'color': '0366d6', 'default': False, 'description': 'Pull requests that update a dependency file'}], 'milestone': None, 'draft': False, 'commits_url': 'https://api.github.com/repos/khotsopitso/Electron-clone/pulls/27/commits', 'review_comments_url': 'https://api.github.com/repos/khotsopitso/Electron-clone/pulls/27/comments', 'review_comment_url': 'https://api.github.com/repos/khotsopitso/Electron-clone/pulls/comments{/number}', 'comments_url': 'https://api.github.com/repos/khotsopitso/Electron-clone/issues/27/comments', 'statuses_url': 'https://api.github.com/repos/khotsopitso/Electron-clone/statuses/9b38f93d1bf3f8d823c3e799f26b4f54c2a56c67', 'head': {'label': 'khotsopitso:dependabot/npm_and_yarn/electron-19.0.2', 'ref': 'dependabot/npm_and_yarn/electron-19.0.2', 'sha': '9b38f93d1bf3f8d823c3e799f26b4f54c2a56c67', 'user': {'login': 'khotsopitso', 'id': 94489949, 'node_id': 'U_kgDOBaHNXQ', 'avatar_url': 'https://avatars.githubusercontent.com/u/94489949?v=4', 'gravatar_id': '', 'url': 'https://api.github.com/users/khotsopitso', 'html_url': 'https://github.com/khotsopitso', 'followers_url': 'https://api.github.com/users/khotsopitso/followers', 'following_url': 'https://api.github.com/users/khotsopitso/following{/other_user}', 'gists_url': 'https://api.github.com/users/khotsopitso/gists{/gist_id}', 'starred_url': 'https://api.github.com/users/khotsopitso/starred{/owner}{/repo}', 'subscriptions_url': 'https://api.github.com/users/khotsopitso/subscriptions', 'organizations_url': 'https://api.github.com/users/khotsopitso/orgs', 'repos_url': 'https://api.github.com/users/khotsopitso/repos', 'events_url': 'https://api.github.com/users/khotsopitso/events{/privacy}', 'received_events_url': 'https://api.github.com/users/khotsopitso/received_events', 'type': 'User', 'site_admin': False}, 'repo': {'id': 429837351, 'node_id': 'R_kgDOGZ7MJw', 'name': 'Electron-clone', 'full_name': 'khotsopitso/Electron-clone', 'private': False, 'owner': {'login': 'khotsopitso', 'id': 94489949, 'node_id': 'U_kgDOBaHNXQ', 'avatar_url': 'https://avatars.githubusercontent.com/u/94489949?v=4', 'gravatar_id': '', 'url': 'https://api.github.com/users/khotsopitso', 'html_url': 'https://github.com/khotsopitso', 'followers_url': 'https://api.github.com/users/khotsopitso/followers', 'following_url': 'https://api.github.com/users/khotsopitso/following{/other_user}', 'gists_url': 'https://api.github.com/users/khotsopitso/gists{/gist_id}', 'starred_url': 'https://api.github.com/users/khotsopitso/starred{/owner}{/repo}', 'subscriptions_url': 'https://api.github.com/users/khotsopitso/subscriptions', 'organizations_url': 'https://api.github.com/users/khotsopitso/orgs', 'repos_url': 'https://api.github.com/users/khotsopitso/repos', 'events_url': 'https://api.github.com/users/khotsopitso/events{/privacy}', 'received_events_url': 'https://api.github.com/users/khotsopitso/received_events', 'type': 'User', 'site_admin': False}, 'html_url': 'https://github.com/khotsopitso/Electron-clone', 'description': 'template', 'fork': False, 'url': 'https://api.github.com/repos/khotsopitso/Electron-clone', 'forks_url': 'https://api.github.com/repos/khotsopitso/Electron-clone/forks', 'keys_url': 'https://api.github.com/repos/khotsopitso/Electron-clone/keys{/key_id}', 'collaborators_url': 'https://api.github.com/repos/khotsopitso/Electron-clone/collaborators{/collaborator}', 'teams_url': 'https://api.github.com/repos/khotsopitso/Electron-clone/teams', 'hooks_url': 'https://api.github.com/repos/khotsopitso/Electron-clone/hooks', 'issue_events_url': 'https://api.github.com/repos/khotsopitso/Electron-clone/issues/events{/number}', 'events_url': 'https://api.github.com/repos/khotsopitso/Electron-clone/events', 'assignees_url': 'https://api.github.com/repos/khotsopitso/Electron-clone/assignees{/user}', 'branches_url': 'https://api.github.com/repos/khotsopitso/Electron-clone/branches{/branch}', 'tags_url': 'https://api.github.com/repos/khotsopitso/Electron-clone/tags', 'blobs_url': 'https://api.github.com/repos/khotsopitso/Electron-clone/git/blobs{/sha}', 'git_tags_url': 'https://api.github.com/repos/khotsopitso/Electron-clone/git/tags{/sha}', 'git_refs_url': 'https://api.github.com/repos/khotsopitso/Electron-clone/git/refs{/sha}', 'trees_url': 'https://api.github.com/repos/khotsopitso/Electron-clone/git/trees{/sha}', 'statuses_url': 'https://api.github.com/repos/khotsopitso/Electron-clone/statuses/{sha}', 'languages_url': 'https://api.github.com/repos/khotsopitso/Electron-clone/languages', 'stargazers_url': 'https://api.github.com/repos/khotsopitso/Electron-clone/stargazers', 'contributors_url': 'https://api.github.com/repos/khotsopitso/Electron-clone/contributors', 'subscribers_url': 'https://api.github.com/repos/khotsopitso/Electron-clone/subscribers', 'subscription_url': 'https://api.github.com/repos/khotsopitso/Electron-clone/subscription', 'commits_url': 'https://api.github.com/repos/khotsopitso/Electron-clone/commits{/sha}', 'git_commits_url': 'https://api.github.com/repos/khotsopitso/Electron-clone/git/commits{/sha}', 'comments_url': 'https://api.github.com/repos/khotsopitso/Electron-clone/comments{/number}', 'issue_comment_url': 'https://api.github.com/repos/khotsopitso/Electron-clone/issues/comments{/number}', 'contents_url': 'https://api.github.com/repos/khotsopitso/Electron-clone/contents/{+path}', 'compare_url': 'https://api.github.com/repos/khotsopitso/Electron-clone/compare/{base}...{head}', 'merges_url': 'https://api.github.com/repos/khotsopitso/Electron-clone/merges', 'archive_url': 'https://api.github.com/repos/khotsopitso/Electron-clone/{archive_format}{/ref}', 'downloads_url': 'https://api.github.com/repos/khotsopitso/Electron-clone/downloads', 'issues_url': 'https://api.github.com/repos/khotsopitso/Electron-clone/issues{/number}', 'pulls_url': 'https://api.github.com/repos/khotsopitso/Electron-clone/pulls{/number}', 'milestones_url': 'https://api.github.com/repos/khotsopitso/Electron-clone/milestones{/number}', 'notifications_url': 'https://api.github.com/repos/khotsopitso/Electron-clone/notifications{?since,all,participating}', 'labels_url': 'https://api.github.com/repos/khotsopitso/Electron-clone/labels{/name}', 'releases_url': 'https://api.github.com/repos/khotsopitso/Electron-clone/releases{/id}', 'deployments_url': 'https://api.github.com/repos/khotsopitso/Electron-clone/deployments', 'created_at': '2021-11-19T15:02:12Z', 'updated_at': '2021-11-19T15:02:16Z', 'pushed_at': '2022-06-03T13:22:24Z', 'git_url': 'git://github.com/khotsopitso/Electron-clone.git', 'ssh_url': 'git@github.com:khotsopitso/Electron-clone.git', 'clone_url': 'https://github.com/khotsopitso/Electron-clone.git', 'svn_url': 'https://github.com/khotsopitso/Electron-clone', 'homepage': None, 'size': 114, 'stargazers_count': 0, 'watchers_count': 0, 'language': 'JavaScript', 'has_issues': True, 'has_projects': True, 'has_downloads': True, 'has_wiki': True, 'has_pages': False, 'forks_count': 0, 'mirror_url': None, 'archived': False, 'disabled': False, 'open_issues_count': 1, 'license': {'key': 'cc0-1.0', 'name': 'Creative Commons Zero v1.0 Universal', 'spdx_id': 'CC0-1.0', 'url': 'https://api.github.com/licenses/cc0-1.0', 'node_id': 'MDc6TGljZW5zZTY='}, 'allow_forking': True, 'is_template': False, 'topics': [], 'visibility': 'public', 'forks': 0, 'open_issues': 1, 'watchers': 0, 'default_branch': 'master'}}, 'base': {'label': 'khotsopitso:master', 'ref': 'master', 'sha': 'd056ef0db722f35ca62665ccd091fbd7576206c1', 'user': {'login': 'khotsopitso', 'id': 94489949, 'node_id': 'U_kgDOBaHNXQ', 'avatar_url': 'https://avatars.githubusercontent.com/u/94489949?v=4', 'gravatar_id': '', 'url': 'https://api.github.com/users/khotsopitso', 'html_url': 'https://github.com/khotsopitso', 'followers_url': 'https://api.github.com/users/khotsopitso/followers', 'following_url': 'https://api.github.com/users/khotsopitso/following{/other_user}', 'gists_url': 'https://api.github.com/users/khotsopitso/gists{/gist_id}', 'starred_url': 'https://api.github.com/users/khotsopitso/starred{/owner}{/repo}', 'subscriptions_url': 'https://api.github.com/users/khotsopitso/subscriptions', 'organizations_url': 'https://api.github.com/users/khotsopitso/orgs', 'repos_url': 'https://api.github.com/users/khotsopitso/repos', 'events_url': 'https://api.github.com/users/khotsopitso/events{/privacy}', 'received_events_url': 'https://api.github.com/users/khotsopitso/received_events', 'type': 'User', 'site_admin': False}, 'repo': {'id': 429837351, 'node_id': 'R_kgDOGZ7MJw', 'name': 'Electron-clone', 'full_name': 'khotsopitso/Electron-clone', 'private': False, 'owner': {'login': 'khotsopitso', 'id': 94489949, 'node_id': 'U_kgDOBaHNXQ', 'avatar_url': 'https://avatars.githubusercontent.com/u/94489949?v=4', 'gravatar_id': '', 'url': 'https://api.github.com/users/khotsopitso', 'html_url': 'https://github.com/khotsopitso', 'followers_url': 'https://api.github.com/users/khotsopitso/followers', 'following_url': 'https://api.github.com/users/khotsopitso/following{/other_user}', 'gists_url': 'https://api.github.com/users/khotsopitso/gists{/gist_id}', 'starred_url': 'https://api.github.com/users/khotsopitso/starred{/owner}{/repo}', 'subscriptions_url': 'https://api.github.com/users/khotsopitso/subscriptions', 'organizations_url': 'https://api.github.com/users/khotsopitso/orgs', 'repos_url': 'https://api.github.com/users/khotsopitso/repos', 'events_url': 'https://api.github.com/users/khotsopitso/events{/privacy}', 'received_events_url': 'https://api.github.com/users/khotsopitso/received_events', 'type': 'User', 'site_admin': False}, 'html_url': 'https://github.com/khotsopitso/Electron-clone', 'description': 'template', 'fork': False, 'url': 'https://api.github.com/repos/khotsopitso/Electron-clone', 'forks_url': 'https://api.github.com/repos/khotsopitso/Electron-clone/forks', 'keys_url': 'https://api.github.com/repos/khotsopitso/Electron-clone/keys{/key_id}', 'collaborators_url': 'https://api.github.com/repos/khotsopitso/Electron-clone/collaborators{/collaborator}', 'teams_url': 'https://api.github.com/repos/khotsopitso/Electron-clone/teams', 'hooks_url': 'https://api.github.com/repos/khotsopitso/Electron-clone/hooks', 'issue_events_url': 'https://api.github.com/repos/khotsopitso/Electron-clone/issues/events{/number}', 'events_url': 'https://api.github.com/repos/khotsopitso/Electron-clone/events', 'assignees_url': 'https://api.github.com/repos/khotsopitso/Electron-clone/assignees{/user}', 'branches_url': 'https://api.github.com/repos/khotsopitso/Electron-clone/branches{/branch}', 'tags_url': 'https://api.github.com/repos/khotsopitso/Electron-clone/tags', 'blobs_url': 'https://api.github.com/repos/khotsopitso/Electron-clone/git/blobs{/sha}', 'git_tags_url': 'https://api.github.com/repos/khotsopitso/Electron-clone/git/tags{/sha}', 'git_refs_url': 'https://api.github.com/repos/khotsopitso/Electron-clone/git/refs{/sha}', 'trees_url': 'https://api.github.com/repos/khotsopitso/Electron-clone/git/trees{/sha}', 'statuses_url': 'https://api.github.com/repos/khotsopitso/Electron-clone/statuses/{sha}', 'languages_url': 'https://api.github.com/repos/khotsopitso/Electron-clone/languages', 'stargazers_url': 'https://api.github.com/repos/khotsopitso/Electron-clone/stargazers', 'contributors_url': 'https://api.github.com/repos/khotsopitso/Electron-clone/contributors', 'subscribers_url': 'https://api.github.com/repos/khotsopitso/Electron-clone/subscribers', 'subscription_url': 'https://api.github.com/repos/khotsopitso/Electron-clone/subscription', 'commits_url': 'https://api.github.com/repos/khotsopitso/Electron-clone/commits{/sha}', 'git_commits_url': 'https://api.github.com/repos/khotsopitso/Electron-clone/git/commits{/sha}', 'comments_url': 'https://api.github.com/repos/khotsopitso/Electron-clone/comments{/number}', 'issue_comment_url': 'https://api.github.com/repos/khotsopitso/Electron-clone/issues/comments{/number}', 'contents_url': 'https://api.github.com/repos/khotsopitso/Electron-clone/contents/{+path}', 'compare_url': 'https://api.github.com/repos/khotsopitso/Electron-clone/compare/{base}...{head}', 'merges_url': 'https://api.github.com/repos/khotsopitso/Electron-clone/merges', 'archive_url': 'https://api.github.com/repos/khotsopitso/Electron-clone/{archive_format}{/ref}', 'downloads_url': 'https://api.github.com/repos/khotsopitso/Electron-clone/downloads', 'issues_url': 'https://api.github.com/repos/khotsopitso/Electron-clone/issues{/number}', 'pulls_url': 'https://api.github.com/repos/khotsopitso/Electron-clone/pulls{/number}', 'milestones_url': 'https://api.github.com/repos/khotsopitso/Electron-clone/milestones{/number}', 'notifications_url': 'https://api.github.com/repos/khotsopitso/Electron-clone/notifications{?since,all,participating}', 'labels_url': 'https://api.github.com/repos/khotsopitso/Electron-clone/labels{/name}', 'releases_url': 'https://api.github.com/repos/khotsopitso/Electron-clone/releases{/id}', 'deployments_url': 'https://api.github.com/repos/khotsopitso/Electron-clone/deployments', 'created_at': '2021-11-19T15:02:12Z', 'updated_at': '2021-11-19T15:02:16Z', 'pushed_at': '2022-06-03T13:22:24Z', 'git_url': 'git://github.com/khotsopitso/Electron-clone.git', 'ssh_url': 'git@github.com:khotsopitso/Electron-clone.git', 'clone_url': 'https://github.com/khotsopitso/Electron-clone.git', 'svn_url': 'https://github.com/khotsopitso/Electron-clone', 'homepage': None, 'size': 114, 'stargazers_count': 0, 'watchers_count': 0, 'language': 'JavaScript', 'has_issues': True, 'has_projects': True, 'has_downloads': True, 'has_wiki': True, 'has_pages': False, 'forks_count': 0, 'mirror_url': None, 'archived': False, 'disabled': False, 'open_issues_count': 1, 'license': {'key': 'cc0-1.0', 'name': 'Creative Commons Zero v1.0 Universal', 'spdx_id': 'CC0-1.0', 'url': 'https://api.github.com/licenses/cc0-1.0', 'node_id': 'MDc6TGljZW5zZTY='}, 'allow_forking': True, 'is_template': False, 'topics': [], 'visibility': 'public', 'forks': 0, 'open_issues': 1, 'watchers': 0, 'default_branch': 'master'}}, '_links': {'self': {'href': 'https://api.github.com/repos/khotsopitso/Electron-clone/pulls/27'}, 'html': {'href': 'https://github.com/khotsopitso/Electron-clone/pull/27'}, 'issue': {'href': 'https://api.github.com/repos/khotsopitso/Electron-clone/issues/27'}, 'comments': {'href': 'https://api.github.com/repos/khotsopitso/Electron-clone/issues/27/comments'}, 'review_comments': {'href': 'https://api.github.com/repos/khotsopitso/Electron-clone/pulls/27/comments'}, 'review_comment': {'href': 'https://api.github.com/repos/khotsopitso/Electron-clone/pulls/comments{/number}'}, 'commits': {'href': 'https://api.github.com/repos/khotsopitso/Electron-clone/pulls/27/commits'}, 'statuses': {'href': 'https://api.github.com/repos/khotsopitso/Electron-clone/statuses/9b38f93d1bf3f8d823c3e799f26b4f54c2a56c67'}}, 'author_association': 'NONE', 'auto_merge': None, 'active_lock_reason': None, 'merged': False, 'mergeable': True, 'rebaseable': True, 'mergeable_state': 'clean', 'merged_by': None, 'comments': 1, 'review_comments': 0, 'maintainer_can_modify': False, 'commits': 1, 'additions': 101, 'deletions': 54, 'changed_files': 2}}, 'public': True, 'created_at': '2022-06-03T13:22:27Z'}, {'id': '22147306046', 'type': 'PushEvent', 'actor': {'id': 20262424, 'login': 'AntonioFalcao', 'display_login': 'AntonioFalcao', 'gravatar_id': '', 'url': 'https://api.github.com/users/AntonioFalcao', 'avatar_url': 'https://avatars.githubusercontent.com/u/20262424?'}, 'repo': {'id': 380824433, 'name': 'AntonioFalcao/EDA.CleanArch.DDD.CQRS.EventSourcing', 'url': 'https://api.github.com/repos/AntonioFalcao/EDA.CleanArch.DDD.CQRS.EventSourcing'}, 'payload': {'push_id': 10063598486, 'size': 1, 'distinct_size': 1, 'ref': 'refs/heads/release', 'head': '3d53d5c0684051c54b82d0392d9591d49c97cb3b', 'before': '00a99544d792963900b3a595a345115f41c1b0cb', 'commits': [{'sha': '3d53d5c0684051c54b82d0392d9591d49c97cb3b', 'author': {'email': 'antonio.falcao@xpi.com.br', 'name': 'Antonio Falcão Jr'}, 'message': 'Update codeql.yaml', 'distinct': True, 'url': 'https://api.github.com/repos/AntonioFalcao/EDA.CleanArch.DDD.CQRS.EventSourcing/commits/3d53d5c0684051c54b82d0392d9591d49c97cb3b'}]}, 'public': True, 'created_at': '2022-06-03T13:22:27Z'}, {'id': '22147306076', 'type': 'PushEvent', 'actor': {'id': 93276867, 'login': 'Flotropcool', 'display_login': 'Flotropcool', 'gravatar_id': '', 'url': 'https://api.github.com/users/Flotropcool', 'avatar_url': 'https://avatars.githubusercontent.com/u/93276867?'}, 'repo': {'id': 491892446, 'name': 'FaOwO/Bullet-Hell', 'url': 'https://api.github.com/repos/FaOwO/Bullet-Hell'}, 'payload': {'push_id': 10063598508, 'size': 1, 'distinct_size': 1, 'ref': 'refs/heads/main', 'head': '33d602fd4aee46c570454bac28cd3cbe832acc8c', 'before': '8c96aa87379dbe5030f7c6bd380f29f4362c6917', 'commits': [{'sha': '33d602fd4aee46c570454bac28cd3cbe832acc8c', 'author': {'email': '93276867+Flotropcool@users.noreply.github.com', 'name': 'Flotropcool'}, 'message': 'Add files via upload', 'distinct': True, 'url': 'https://api.github.com/repos/FaOwO/Bullet-Hell/commits/33d602fd4aee46c570454bac28cd3cbe832acc8c'}]}, 'public': True, 'created_at': '2022-06-03T13:22:27Z'}, {'id': '22147306007', 'type': 'PushEvent', 'actor': {'id': 41898282, 'login': 'github-actions[bot]', 'display_login': 'github-actions', 'gravatar_id': '', 'url': 'https://api.github.com/users/github-actions[bot]', 'avatar_url': 'https://avatars.githubusercontent.com/u/41898282?'}, 'repo': {'id': 482077285, 'name': 'ananbrito/ananbrito', 'url': 'https://api.github.com/repos/ananbrito/ananbrito'}, 'payload': {'push_id': 10063598452, 'size': 1, 'distinct_size': 1, 'ref': 'refs/heads/output', 'head': '02f2c2958c08ca82803d6a82d2e83de504b42919', 'before': '4219f3b36bbf04f5f4c0ab1fb4fba293a50117bb', 'commits': [{'sha': '02f2c2958c08ca82803d6a82d2e83de504b42919', 'author': {'email': '41898282+github-actions[bot]@users.noreply.github.com', 'name': 'github-actions[bot]'}, 'message': 'Deploy to GitHub pages', 'distinct': True, 'url': 'https://api.github.com/repos/ananbrito/ananbrito/commits/02f2c2958c08ca82803d6a82d2e83de504b42919'}]}, 'public': True, 'created_at': '2022-06-03T13:22:27Z'}, {'id': '22147306061', 'type': 'PushEvent', 'actor': {'id': 58764074, 'login': 'Gearyandres94', 'display_login': 'Gearyandres94', 'gravatar_id': '', 'url': 'https://api.github.com/users/Gearyandres94', 'avatar_url': 'https://avatars.githubusercontent.com/u/58764074?'}, 'repo': {'id': 495872013, 'name': 'BaSP-m2022/franco-trackgenix-app', 'url': 'https://api.github.com/repos/BaSP-m2022/franco-trackgenix-app'}, 'payload': {'push_id': 10063598483, 'size': 2, 'distinct_size': 2, 'ref': 'refs/heads/feature-TG-45-Add-Edit-Task', 'head': 'daf6d0de1c4f6323b0d3cbbaf20efd9b7b1e8ea3', 'before': 'd623334722925f3f2cf2eb5e3eac1b4a6cc8f9b0', 'commits': [{'sha': 'c0d942b4b6a98d765d0ad94ebd6bd9205d15dba7', 'author': {'email': 'gearyandres@gmail.com', 'name': 'Andres Geary'}, 'message': 'TG-45: deleted task list module, date input modified', 'distinct': True, 'url': 'https://api.github.com/repos/BaSP-m2022/franco-trackgenix-app/commits/c0d942b4b6a98d765d0ad94ebd6bd9205d15dba7'}, {'sha': 'daf6d0de1c4f6323b0d3cbbaf20efd9b7b1e8ea3', 'author': {'email': 'gearyandres@gmail.com', 'name': 'Andres Geary'}, 'message': 'TG-45: changed input and label styles, added alert error', 'distinct': True, 'url': 'https://api.github.com/repos/BaSP-m2022/franco-trackgenix-app/commits/daf6d0de1c4f6323b0d3cbbaf20efd9b7b1e8ea3'}]}, 'public': True, 'created_at': '2022-06-03T13:22:27Z', 'org': {'id': 104163518, 'login': 'BaSP-m2022', 'gravatar_id': '', 'url': 'https://api.github.com/orgs/BaSP-m2022', 'avatar_url': 'https://avatars.githubusercontent.com/u/104163518?'}}, {'id': '22147306037', 'type': 'PushEvent', 'actor': {'id': 260114, 'login': 'menduz', 'display_login': 'menduz', 'gravatar_id': '', 'url': 'https://api.github.com/users/menduz', 'avatar_url': 'https://avatars.githubusercontent.com/u/260114?'}, 'repo': {'id': 224437522, 'name': 'decentraland/catalyst', 'url': 'https://api.github.com/repos/decentraland/catalyst'}, 'payload': {'push_id': 10063598459, 'size': 4, 'distinct_size': 1, 'ref': 'refs/heads/chore/update-libs', 'head': 'b5ec33d0bb20d2b970c0651d40f0bef8ba544216', 'before': 'a0b9b7d7598ff148f26356aba66ad420fe4b8a19', 'commits': [{'sha': '992deecb66b7e9b75db763abe1733260749fbe3c', 'author': {'email': 'pentreathm@decentraland.org', 'name': 'Matias Pentreath'}, 'message': 'doc:udpate architecture following ADR-70', 'distinct': False, 'url': 'https://api.github.com/repos/decentraland/catalyst/commits/992deecb66b7e9b75db763abe1733260749fbe3c'}, {'sha': 'e0305954c653951c13aa06c6da50251e733aa763', 'author': {'email': 'pentreathm@decentraland.org', 'name': 'Matias Pentreath'}, 'message': 'doc: fix build of the architecture svg', 'distinct': False, 'url': 'https://api.github.com/repos/decentraland/catalyst/commits/e0305954c653951c13aa06c6da50251e733aa763'}, {'sha': '5459badef43b7dbf60c5129b9883e9868e816f4c', 'author': {'email': 'pentreathm@decentraland.org', 'name': 'Matias Pentreath'}, 'message': 'doc:update readme following ADR-70', 'distinct': False, 'url': 'https://api.github.com/repos/decentraland/catalyst/commits/5459badef43b7dbf60c5129b9883e9868e816f4c'}, {'sha': 'b5ec33d0bb20d2b970c0651d40f0bef8ba544216', 'author': {'email': 'github@menduz.com', 'name': 'menduz'}, 'message': \"Merge branch 'main' into chore/update-libs\", 'distinct': True, 'url': 'https://api.github.com/repos/decentraland/catalyst/commits/b5ec33d0bb20d2b970c0651d40f0bef8ba544216'}]}, 'public': True, 'created_at': '2022-06-03T13:22:27Z', 'org': {'id': 12685795, 'login': 'decentraland', 'gravatar_id': '', 'url': 'https://api.github.com/orgs/decentraland', 'avatar_url': 'https://avatars.githubusercontent.com/u/12685795?'}}, {'id': '22147306077', 'type': 'CommitCommentEvent', 'actor': {'id': 35613825, 'login': 'vercel[bot]', 'display_login': 'vercel', 'gravatar_id': '', 'url': 'https://api.github.com/users/vercel[bot]', 'avatar_url': 'https://avatars.githubusercontent.com/u/35613825?'}, 'repo': {'id': 496430706, 'name': 'FelipeDH9/marvel-web', 'url': 'https://api.github.com/repos/FelipeDH9/marvel-web'}, 'payload': {'comment': {'url': 'https://api.github.com/repos/FelipeDH9/marvel-web/comments/75257004', 'html_url': 'https://github.com/FelipeDH9/marvel-web/commit/9ebaf480939164aea82b016b9ac342730376888f#commitcomment-75257004', 'id': 75257004, 'node_id': 'CC_kwDOHZbucs4EfFSs', 'user': {'login': 'vercel[bot]', 'id': 35613825, 'node_id': 'MDM6Qm90MzU2MTM4MjU=', 'avatar_url': 'https://avatars.githubusercontent.com/in/8329?v=4', 'gravatar_id': '', 'url': 'https://api.github.com/users/vercel%5Bbot%5D', 'html_url': 'https://github.com/apps/vercel', 'followers_url': 'https://api.github.com/users/vercel%5Bbot%5D/followers', 'following_url': 'https://api.github.com/users/vercel%5Bbot%5D/following{/other_user}', 'gists_url': 'https://api.github.com/users/vercel%5Bbot%5D/gists{/gist_id}', 'starred_url': 'https://api.github.com/users/vercel%5Bbot%5D/starred{/owner}{/repo}', 'subscriptions_url': 'https://api.github.com/users/vercel%5Bbot%5D/subscriptions', 'organizations_url': 'https://api.github.com/users/vercel%5Bbot%5D/orgs', 'repos_url': 'https://api.github.com/users/vercel%5Bbot%5D/repos', 'events_url': 'https://api.github.com/users/vercel%5Bbot%5D/events{/privacy}', 'received_events_url': 'https://api.github.com/users/vercel%5Bbot%5D/received_events', 'type': 'Bot', 'site_admin': False}, 'position': None, 'line': None, 'path': None, 'commit_id': '9ebaf480939164aea82b016b9ac342730376888f', 'created_at': '2022-06-03T13:22:27Z', 'updated_at': '2022-06-03T13:22:27Z', 'author_association': 'NONE', 'body': 'Successfully deployed to the following URLs:\\n\\n## marvel-web – ./\\n\\n[marvel-web-ten.vercel.app](https://marvel-web-ten.vercel.app)  \\n[marvel-web-git-main-felipedh9.vercel.app](https://marvel-web-git-main-felipedh9.vercel.app)  \\n[marvel-web-felipedh9.vercel.app](https://marvel-web-felipedh9.vercel.app)', 'reactions': {'url': 'https://api.github.com/repos/FelipeDH9/marvel-web/comments/75257004/reactions', 'total_count': 0, '+1': 0, '-1': 0, 'laugh': 0, 'hooray': 0, 'confused': 0, 'heart': 0, 'rocket': 0, 'eyes': 0}}}, 'public': True, 'created_at': '2022-06-03T13:22:27Z'}, {'id': '22147306049', 'type': 'CreateEvent', 'actor': {'id': 110956, 'login': 'pacew', 'display_login': 'pacew', 'gravatar_id': '', 'url': 'https://api.github.com/users/pacew', 'avatar_url': 'https://avatars.githubusercontent.com/u/110956?'}, 'repo': {'id': 499513454, 'name': 'pacew/pugl', 'url': 'https://api.github.com/repos/pacew/pugl'}, 'payload': {'ref': 'bad-locale', 'ref_type': 'branch', 'master_branch': 'main', 'description': 'A minimal portable API for embeddable GUIs', 'pusher_type': 'user'}, 'public': True, 'created_at': '2022-06-03T13:22:27Z'}, {'id': '22147306014', 'type': 'PushEvent', 'actor': {'id': 106508149, 'login': 'debiemoore01', 'display_login': 'debiemoore01', 'gravatar_id': '', 'url': 'https://api.github.com/users/debiemoore01', 'avatar_url': 'https://avatars.githubusercontent.com/u/106508149?'}, 'repo': {'id': 497803562, 'name': 'debiemoore01/3', 'url': 'https://api.github.com/repos/debiemoore01/3'}, 'payload': {'push_id': 10063598472, 'size': 1, 'distinct_size': 1, 'ref': 'refs/heads/main', 'head': 'e87d19db667c20d9ad16220e20affe00b1a27bf3', 'before': 'f8ac653d4806ac9f0656f4d872e36b5e80a74a52', 'commits': [{'sha': 'e87d19db667c20d9ad16220e20affe00b1a27bf3', 'author': {'email': 'test@gmail.com', 'name': 'test'}, 'message': 'test', 'distinct': True, 'url': 'https://api.github.com/repos/debiemoore01/3/commits/e87d19db667c20d9ad16220e20affe00b1a27bf3'}]}, 'public': True, 'created_at': '2022-06-03T13:22:27Z'}, {'id': '22147306048', 'type': 'PushEvent', 'actor': {'id': 34270397, 'login': 'seok-2-o', 'display_login': 'seok-2-o', 'gravatar_id': '', 'url': 'https://api.github.com/users/seok-2-o', 'avatar_url': 'https://avatars.githubusercontent.com/u/34270397?'}, 'repo': {'id': 308508951, 'name': 'next-step/atdd-subway-admin', 'url': 'https://api.github.com/repos/next-step/atdd-subway-admin'}, 'payload': {'push_id': 10063598485, 'size': 23, 'distinct_size': 23, 'ref': 'refs/heads/yangseungin', 'head': '85ad7edbb1bede6c067e5d31bca03f640138de03', 'before': '5df3be91dc6768306c1c21879f5292ac1da906a7', 'commits': [{'sha': '52de441129bd853d9fac4cb87b9fa084fb825fae', 'author': {'email': 'rhfpdk92@naver.com', 'name': 'seungin yang'}, 'message': 'docs: 3단계 요구사항 정리', 'distinct': True, 'url': 'https://api.github.com/repos/next-step/atdd-subway-admin/commits/52de441129bd853d9fac4cb87b9fa084fb825fae'}, {'sha': '2ca6f9ec548dbafb8042b1dbdd5614d0cbf7b76c', 'author': {'email': 'rhfpdk92@naver.com', 'name': 'seungin yang'}, 'message': 'feat(Line, Section): 관계 설정', 'distinct': True, 'url': 'https://api.github.com/repos/next-step/atdd-subway-admin/commits/2ca6f9ec548dbafb8042b1dbdd5614d0cbf7b76c'}, {'sha': '997c0e195106325b09764d18963bbf9fb9ee2e0c', 'author': {'email': 'rhfpdk92@naver.com', 'name': 'seungin yang'}, 'message': 'feat: 구간 추가 인수테스트', 'distinct': True, 'url': 'https://api.github.com/repos/next-step/atdd-subway-admin/commits/997c0e195106325b09764d18963bbf9fb9ee2e0c'}, {'sha': '3a43c19921a221fd4ebf17624a47ed8e5cc61f4d', 'author': {'email': 'rhfpdk92@naver.com', 'name': 'seungin yang'}, 'message': 'feat: 역 사이에 새로운 역을 등록할 경우', 'distinct': True, 'url': 'https://api.github.com/repos/next-step/atdd-subway-admin/commits/3a43c19921a221fd4ebf17624a47ed8e5cc61f4d'}, {'sha': '7303eaf70af8136293a82385161884c4cb05089e', 'author': {'email': 'rhfpdk92@naver.com', 'name': 'seungin yang'}, 'message': 'chore: 사용하지 않는 메서드 정리', 'distinct': True, 'url': 'https://api.github.com/repos/next-step/atdd-subway-admin/commits/7303eaf70af8136293a82385161884c4cb05089e'}, {'sha': '976953b8ce80836ec652123bf8f841e8e04b3986', 'author': {'email': 'rhfpdk92@naver.com', 'name': 'seungin yang'}, 'message': 'test: 신규 상행 종점역 등록 인수테스트 추가', 'distinct': True, 'url': 'https://api.github.com/repos/next-step/atdd-subway-admin/commits/976953b8ce80836ec652123bf8f841e8e04b3986'}, {'sha': '8f75526a78d0798641dda84ef819a7e9d13098b9', 'author': {'email': 'rhfpdk92@naver.com', 'name': 'seungin yang'}, 'message': 'test: 구간 길이, 신규 역 등록 테스트 추가', 'distinct': True, 'url': 'https://api.github.com/repos/next-step/atdd-subway-admin/commits/8f75526a78d0798641dda84ef819a7e9d13098b9'}, {'sha': '338f5ba96df32a73911a771983eef0b8c4a5b9bb', 'author': {'email': 'rhfpdk92@naver.com', 'name': 'seungin yang'}, 'message': 'fix: 구간 중복 등록 제거', 'distinct': True, 'url': 'https://api.github.com/repos/next-step/atdd-subway-admin/commits/338f5ba96df32a73911a771983eef0b8c4a5b9bb'}, {'sha': '83976fffde8f839243d462904a60389e128fbaa4', 'author': {'email': 'rhfpdk92@naver.com', 'name': 'seungin yang'}, 'message': 'test: 기존 역 사이 길이보다 크거나 같으면 길이 등록 테스트 추가', 'distinct': True, 'url': 'https://api.github.com/repos/next-step/atdd-subway-admin/commits/83976fffde8f839243d462904a60389e128fbaa4'}, {'sha': '9b0d91cdfce2276a4caac2e4af5e51783e8266f4', 'author': {'email': 'rhfpdk92@naver.com', 'name': 'seungin yang'}, 'message': 'feat: 기존 역 사이 길이보다 크거나 같은길이 예외처리', 'distinct': True, 'url': 'https://api.github.com/repos/next-step/atdd-subway-admin/commits/9b0d91cdfce2276a4caac2e4af5e51783e8266f4'}, {'sha': '78dccf25e0ad0b822455e7cdf63695faa20da574', 'author': {'email': 'rhfpdk92@naver.com', 'name': 'seungin yang'}, 'message': 'test: 노선에 등록된 상행역과 하행역을 재등록하는 인수테스트 추가', 'distinct': True, 'url': 'https://api.github.com/repos/next-step/atdd-subway-admin/commits/78dccf25e0ad0b822455e7cdf63695faa20da574'}, {'sha': '5fd345b21fd385f31b4b3a122b435eeb133c1e04', 'author': {'email': 'rhfpdk92@naver.com', 'name': 'seungin yang'}, 'message': 'feat: 노선에 등록된 상행역과 하행역을 재등록 검사 추가', 'distinct': True, 'url': 'https://api.github.com/repos/next-step/atdd-subway-admin/commits/5fd345b21fd385f31b4b3a122b435eeb133c1e04'}, {'sha': '0c8b4627e21658dae9755a90837b16c83526d5d4', 'author': {'email': 'rhfpdk92@naver.com', 'name': 'seungin yang'}, 'message': 'test: 상행역과 하행역중 하나도 포함되어있지 않는 경우 인수테스트 추가', 'distinct': True, 'url': 'https://api.github.com/repos/next-step/atdd-subway-admin/commits/0c8b4627e21658dae9755a90837b16c83526d5d4'}, {'sha': '6260478323c1dc10e5d867b21430f615ef001180', 'author': {'email': 'rhfpdk92@naver.com', 'name': 'seungin yang'}, 'message': 'feat: 상행역과 하행역중 하나도 포함되어있지 않는 경우 예외처리', 'distinct': True, 'url': 'https://api.github.com/repos/next-step/atdd-subway-admin/commits/6260478323c1dc10e5d867b21430f615ef001180'}, {'sha': 'd653456dc525aa73391882280526c3b0a2f273cb', 'author': {'email': 'rhfpdk92@naver.com', 'name': 'seungin yang'}, 'message': 'refactor: distance 값 포장', 'distinct': True, 'url': 'https://api.github.com/repos/next-step/atdd-subway-admin/commits/d653456dc525aa73391882280526c3b0a2f273cb'}, {'sha': 'bf22a5e6137d3d957a2a18caa0a69ce2f65e1077', 'author': {'email': 'rhfpdk92@naver.com', 'name': 'seungin yang'}, 'message': 'chore: 불필요 코드 제거', 'distinct': True, 'url': 'https://api.github.com/repos/next-step/atdd-subway-admin/commits/bf22a5e6137d3d957a2a18caa0a69ce2f65e1077'}, {'sha': '124884e4bd86c6a5620c7ad7fe7f176ab52cc9d2', 'author': {'email': 'rhfpdk92@naver.com', 'name': 'seungin yang'}, 'message': 'chore: 단위테스트에서 작성하기 위해 제거', 'distinct': True, 'url': 'https://api.github.com/repos/next-step/atdd-subway-admin/commits/124884e4bd86c6a5620c7ad7fe7f176ab52cc9d2'}, {'sha': '82d0975af47403b0f4d5b59965fe2f5e0ffece44', 'author': {'email': 'rhfpdk92@naver.com', 'name': 'seungin yang'}, 'message': 'docs: 완료 인수테스트 체크', 'distinct': True, 'url': 'https://api.github.com/repos/next-step/atdd-subway-admin/commits/82d0975af47403b0f4d5b59965fe2f5e0ffece44'}, {'sha': '8d9c2c971b6014f500b8d115a3e538a60fc335d6', 'author': {'email': 'rhfpdk92@naver.com', 'name': 'seungin yang'}, 'message': 'chore: 메서드명 변경', 'distinct': True, 'url': 'https://api.github.com/repos/next-step/atdd-subway-admin/commits/8d9c2c971b6014f500b8d115a3e538a60fc335d6'}, {'sha': 'edb5bd6e36bcc9e40510f137b137dc6a8f2dea85', 'author': {'email': 'rhfpdk92@naver.com', 'name': 'seungin yang'}, 'message': 'refactor: distance 정적 팩토리 메소드 제거 및 불변객체로 변경', 'distinct': True, 'url': 'https://api.github.com/repos/next-step/atdd-subway-admin/commits/edb5bd6e36bcc9e40510f137b137dc6a8f2dea85'}]}, 'public': True, 'created_at': '2022-06-03T13:22:27Z', 'org': {'id': 25274995, 'login': 'next-step', 'gravatar_id': '', 'url': 'https://api.github.com/orgs/next-step', 'avatar_url': 'https://avatars.githubusercontent.com/u/25274995?'}}, {'id': '22147306000', 'type': 'PushEvent', 'actor': {'id': 60047342, 'login': 'gabrieletorres', 'display_login': 'gabrieletorres', 'gravatar_id': '', 'url': 'https://api.github.com/users/gabrieletorres', 'avatar_url': 'https://avatars.githubusercontent.com/u/60047342?'}, 'repo': {'id': 495463633, 'name': 'gabrieletorres/portflow', 'url': 'https://api.github.com/repos/gabrieletorres/portflow'}, 'payload': {'push_id': 10063598461, 'size': 1, 'distinct_size': 1, 'ref': 'refs/heads/main', 'head': 'bdbcf2f9906d3fa6a8c60870fe06b718dc3d4893', 'before': 'fb8fc69460e830312465764f34695ae4581b706a', 'commits': [{'sha': 'bdbcf2f9906d3fa6a8c60870fe06b718dc3d4893', 'author': {'email': 'secgabriele@gmail.com', 'name': 'gabrieletorres'}, 'message': 'update @media', 'distinct': True, 'url': 'https://api.github.com/repos/gabrieletorres/portflow/commits/bdbcf2f9906d3fa6a8c60870fe06b718dc3d4893'}]}, 'public': True, 'created_at': '2022-06-03T13:22:27Z'}, {'id': '22147306024', 'type': 'CreateEvent', 'actor': {'id': 4653990, 'login': 'ossacolsale', 'display_login': 'ossacolsale', 'gravatar_id': '', 'url': 'https://api.github.com/users/ossacolsale', 'avatar_url': 'https://avatars.githubusercontent.com/u/4653990?'}, 'repo': {'id': 499520005, 'name': 'ossacolsale/CryptPass', 'url': 'https://api.github.com/repos/ossacolsale/CryptPass'}, 'payload': {'ref': None, 'ref_type': 'repository', 'master_branch': 'master', 'description': 'CryptPass API - password wallet encryption', 'pusher_type': 'user'}, 'public': True, 'created_at': '2022-06-03T13:22:27Z'}, {'id': '22147306003', 'type': 'MemberEvent', 'actor': {'id': 60203561, 'login': 'cpereira42', 'display_login': 'cpereira42', 'gravatar_id': '', 'url': 'https://api.github.com/users/cpereira42', 'avatar_url': 'https://avatars.githubusercontent.com/u/60203561?'}, 'repo': {'id': 499519003, 'name': 'cpereira42/mercado-fresco-pron4', 'url': 'https://api.github.com/repos/cpereira42/mercado-fresco-pron4'}, 'payload': {'member': {'login': 'adikrosa', 'id': 71529815, 'node_id': 'MDQ6VXNlcjcxNTI5ODE1', 'avatar_url': 'https://avatars.githubusercontent.com/u/71529815?v=4', 'gravatar_id': '', 'url': 'https://api.github.com/users/adikrosa', 'html_url': 'https://github.com/adikrosa', 'followers_url': 'https://api.github.com/users/adikrosa/followers', 'following_url': 'https://api.github.com/users/adikrosa/following{/other_user}', 'gists_url': 'https://api.github.com/users/adikrosa/gists{/gist_id}', 'starred_url': 'https://api.github.com/users/adikrosa/starred{/owner}{/repo}', 'subscriptions_url': 'https://api.github.com/users/adikrosa/subscriptions', 'organizations_url': 'https://api.github.com/users/adikrosa/orgs', 'repos_url': 'https://api.github.com/users/adikrosa/repos', 'events_url': 'https://api.github.com/users/adikrosa/events{/privacy}', 'received_events_url': 'https://api.github.com/users/adikrosa/received_events', 'type': 'User', 'site_admin': False}, 'action': 'added'}, 'public': True, 'created_at': '2022-06-03T13:22:27Z'}, {'id': '22147305979', 'type': 'PullRequestEvent', 'actor': {'id': 49699333, 'login': 'dependabot[bot]', 'display_login': 'dependabot', 'gravatar_id': '', 'url': 'https://api.github.com/users/dependabot[bot]', 'avatar_url': 'https://avatars.githubusercontent.com/u/49699333?'}, 'repo': {'id': 429123838, 'name': 'singhdipesh14/jubilant-octo-dollop', 'url': 'https://api.github.com/repos/singhdipesh14/jubilant-octo-dollop'}, 'payload': {'action': 'closed', 'number': 27, 'pull_request': {'url': 'https://api.github.com/repos/singhdipesh14/jubilant-octo-dollop/pulls/27', 'id': 955905667, 'node_id': 'PR_kwDOGZPo_s44-faD', 'html_url': 'https://github.com/singhdipesh14/jubilant-octo-dollop/pull/27', 'diff_url': 'https://github.com/singhdipesh14/jubilant-octo-dollop/pull/27.diff', 'patch_url': 'https://github.com/singhdipesh14/jubilant-octo-dollop/pull/27.patch', 'issue_url': 'https://api.github.com/repos/singhdipesh14/jubilant-octo-dollop/issues/27', 'number': 27, 'state': 'closed', 'locked': False, 'title': 'Bump electron from 16.0.0 to 19.0.2', 'user': {'login': 'dependabot[bot]', 'id': 49699333, 'node_id': 'MDM6Qm90NDk2OTkzMzM=', 'avatar_url': 'https://avatars.githubusercontent.com/in/29110?v=4', 'gravatar_id': '', 'url': 'https://api.github.com/users/dependabot%5Bbot%5D', 'html_url': 'https://github.com/apps/dependabot', 'followers_url': 'https://api.github.com/users/dependabot%5Bbot%5D/followers', 'following_url': 'https://api.github.com/users/dependabot%5Bbot%5D/following{/other_user}', 'gists_url': 'https://api.github.com/users/dependabot%5Bbot%5D/gists{/gist_id}', 'starred_url': 'https://api.github.com/users/dependabot%5Bbot%5D/starred{/owner}{/repo}', 'subscriptions_url': 'https://api.github.com/users/dependabot%5Bbot%5D/subscriptions', 'organizations_url': 'https://api.github.com/users/dependabot%5Bbot%5D/orgs', 'repos_url': 'https://api.github.com/users/dependabot%5Bbot%5D/repos', 'events_url': 'https://api.github.com/users/dependabot%5Bbot%5D/events{/privacy}', 'received_events_url': 'https://api.github.com/users/dependabot%5Bbot%5D/received_events', 'type': 'Bot', 'site_admin': False}, 'body': 'Bumps [electron](https://github.com/electron/electron) from 16.0.0 to 19.0.2.\\n<details>\\n<summary>Release notes</summary>\\n<p><em>Sourced from <a href=\"https://github.com/electron/electron/releases\">electron\\'s releases</a>.</em></p>\\n<blockquote>\\n<h2>electron v19.0.2</h2>\\n<h1>Release Notes for v19.0.2</h1>\\n<h2>Fixes</h2>\\n<ul>\\n<li>Fixed an issue where pressing escape would not un-fullscreen on Windows or Linux in some circumstances. <a href=\"https://github-redirect.dependabot.com/electron/electron/pull/34359\">#34359</a> <!-- raw HTML omitted -->(Also in <a href=\"https://github-redirect.dependabot.com/electron/electron/pull/34361\">18</a>)<!-- raw HTML omitted --></li>\\n<li>Fixed an issue where zombie windows can be created if <code>window.close()</code> is called during a fullscreen transition. <a href=\"https://github-redirect.dependabot.com/electron/electron/pull/34391\">#34391</a> <!-- raw HTML omitted -->(Also in <a href=\"https://github-redirect.dependabot.com/electron/electron/pull/34390\">17</a>, <a href=\"https://github-redirect.dependabot.com/electron/electron/pull/34392\">18</a>, <a href=\"https://github-redirect.dependabot.com/electron/electron/pull/34393\">20</a>)<!-- raw HTML omitted --></li>\\n<li>Fixed printing crash when using <code>webContents.print()</code>. <a href=\"https://github-redirect.dependabot.com/electron/electron/pull/34369\">#34369</a></li>\\n</ul>\\n<h2>Other Changes</h2>\\n<ul>\\n<li>Updated Chromium to 102.0.5005.63. <a href=\"https://github-redirect.dependabot.com/electron/electron/pull/34349\">#34349</a></li>\\n</ul>\\n<h2>electron v19.0.1</h2>\\n<h1>Release Notes for v19.0.1</h1>\\n<h2>Other Changes</h2>\\n<ul>\\n<li>Added a TRACE call named <code>crash_reporter::Start</code> under the <code>electron</code> category for <code>crash_reporter::Start()</code>. <a href=\"https://github-redirect.dependabot.com/electron/electron/pull/34326\">#34326</a> <!-- raw HTML omitted -->(Also in <a href=\"https://github-redirect.dependabot.com/electron/electron/pull/34324\">17</a>, <a href=\"https://github-redirect.dependabot.com/electron/electron/pull/34325\">18</a>)<!-- raw HTML omitted --></li>\\n</ul>\\n<h2>electron v19.0.0</h2>\\n<h1>Release Notes for v19.0.0</h1>\\n<h2>Stack Upgrades</h2>\\n<ul>\\n<li>Chromium 102.0.5005.61\\n<ul>\\n<li><a href=\"https://developer.chrome.com/blog/new-in-chrome-101/\">New in 101</a></li>\\n</ul>\\n</li>\\n<li>Node v16.14.2\\n<ul>\\n<li><a href=\"https://nodejs.org/en/blog/release/v16.14.2/\">v16.14.2 release notes</a></li>\\n<li><a href=\"https://nodejs.org/en/blog/release/v16.14.1/\">v16.14.1 release notes</a></li>\\n<li><a href=\"https://nodejs.org/en/blog/release/v16.14.0/\">v16.14.0 release notes</a></li>\\n</ul>\\n</li>\\n<li>V8 10.2</li>\\n</ul>\\n<h2>Features</h2>\\n<h3>Additions</h3>\\n<ul>\\n<li>Added <code>BrowserWindow</code> method to change the button color, symbol color, and height of a window with WCO enabled. <a href=\"https://github-redirect.dependabot.com/electron/electron/pull/33066\">#33066</a> <!-- raw HTML omitted -->(Also in <a href=\"https://github-redirect.dependabot.com/electron/electron/pull/33440\">18</a>)<!-- raw HTML omitted --></li>\\n<li>Added <code>nativeTheme.inForcedColorsMode</code> API to allow detecting forced color mode. <a href=\"https://github-redirect.dependabot.com/electron/electron/pull/32956\">#32956</a> <!-- raw HTML omitted -->(Also in <a href=\"https://github-redirect.dependabot.com/electron/electron/pull/33360\">15</a>, <a href=\"https://github-redirect.dependabot.com/electron/electron/pull/33359\">16</a>, <a href=\"https://github-redirect.dependabot.com/electron/electron/pull/33358\">17</a>, <a href=\"https://github-redirect.dependabot.com/electron/electron/pull/33357\">18</a>)<!-- raw HTML omitted --></li>\\n<li>Added <code>ses.setCodeCachePath()</code> API for setting code cache directory. <a href=\"https://github-redirect.dependabot.com/electron/electron/pull/31154\">#31154</a> <!-- raw HTML omitted -->(Also in <a href=\"https://github-redirect.dependabot.com/electron/electron/pull/33285\">17</a>, <a href=\"https://github-redirect.dependabot.com/electron/electron/pull/33286\">18</a>)<!-- raw HTML omitted --></li>\\n<li>Added ability to configure if window should close when opener closes. <a href=\"https://github-redirect.dependabot.com/electron/electron/pull/31314\">#31314</a></li>\\n<li>Added support for more color formats in <code>setBackgroundColor</code>. <a href=\"https://github-redirect.dependabot.com/electron/electron/pull/31868\">#31868</a> <!-- raw HTML omitted -->(Also in <a href=\"https://github-redirect.dependabot.com/electron/electron/pull/33364\">18</a>)<!-- raw HTML omitted --></li>\\n<li>Added warning that preload scripts will be sandboxed by default beginning in Electron 20. <a href=\"https://github-redirect.dependabot.com/electron/electron/pull/32868\">#32868</a> <!-- raw HTML omitted -->(Also in <a href=\"https://github-redirect.dependabot.com/electron/electron/pull/33203\">18</a>)<!-- raw HTML omitted --></li>\\n<li>Enabled <code>systemPreferences.subscribe{Local|Workspace}Notification</code> to take a <code>null</code> value for the <code>event</code> parameter. <a href=\"https://github-redirect.dependabot.com/electron/electron/pull/33770\">#33770</a> <!-- raw HTML omitted -->(Also in <a href=\"https://github-redirect.dependabot.com/electron/electron/pull/33771\">18</a>)<!-- raw HTML omitted --></li>\\n<li>Fixed an issue where calling <code>setTitlebarOverlay</code> with an initially invalid <code>titleBarStyle</code> on Windows would result in a crash. <a href=\"https://github-redirect.dependabot.com/electron/electron/pull/34302\">#34302</a></li>\\n<li>Fixed an issue where the PDF Viewer would fail if a user attempted to reload. <a href=\"https://github-redirect.dependabot.com/electron/electron/pull/33712\">#33712</a> <!-- raw HTML omitted -->(Also in <a href=\"https://github-redirect.dependabot.com/electron/electron/pull/33711\">18</a>)<!-- raw HTML omitted --></li>\\n</ul>\\n<h2>Fixes</h2>\\n<ul>\\n<li>Added support for the <code>--unsafely-treat-insecure-origin-as-secure</code> command-line flag. <a href=\"https://github-redirect.dependabot.com/electron/electron/pull/33189\">#33189</a></li>\\n<li>Fixed a potential crash when calling <code>webContents.print()</code>. <a href=\"https://github-redirect.dependabot.com/electron/electron/pull/34299\">#34299</a></li>\\n<li>Fixed an issue where <code>#ARGB</code> -&gt;<code>#RGBA</code> and <code>#AARRGGBB</code> -&gt;<code>#RRGGBBAA</code> were converted improperly when setting background color. <a href=\"https://github-redirect.dependabot.com/electron/electron/pull/33755\">#33755</a></li>\\n<li>Fixed an issue where some <code>BrowserWindow</code>s opened from new links wouldn\\'t properly load URLs. <a href=\"https://github-redirect.dependabot.com/electron/electron/pull/34189\">#34189</a></li>\\n<li>Fixed an issue with background colors being improperly applied to <code>BrowserView</code>s on Windows. <a href=\"https://github-redirect.dependabot.com/electron/electron/pull/33435\">#33435</a></li>\\n</ul>\\n<!-- raw HTML omitted -->\\n</blockquote>\\n<p>... (truncated)</p>\\n</details>\\n<details>\\n<summary>Commits</summary>\\n<ul>\\n<li><a href=\"https://github.com/electron/electron/commit/ba32b32ec32592df65304648873f7785401ff4e3\"><code>ba32b32</code></a> Bump v19.0.2</li>\\n<li><a href=\"https://github.com/electron/electron/commit/3ad5a451731eb234fa017800246b0a3df7b50728\"><code>3ad5a45</code></a> fix: zombie windows when fullscreening and closing (<a href=\"https://github-redirect.dependabot.com/electron/electron/issues/34391\">#34391</a>)</li>\\n<li><a href=\"https://github.com/electron/electron/commit/b9d16ab3ebc21116d0e951a2166f9dbb9792b168\"><code>b9d16ab</code></a> fix: esc not working on Windows during fullscreen (<a href=\"https://github-redirect.dependabot.com/electron/electron/issues/34359\">#34359</a>)</li>\\n<li><a href=\"https://github.com/electron/electron/commit/7e2606df021192aa6ab88c14360da0eeda13d18d\"><code>7e2606d</code></a> fix: missing resource printing DCHECK (<a href=\"https://github-redirect.dependabot.com/electron/electron/issues/34369\">#34369</a>)</li>\\n<li><a href=\"https://github.com/electron/electron/commit/8692a5b9217ee47ace86ba50f17a23bdf6226950\"><code>8692a5b</code></a> test: add <code>setTitlebarOverlay</code> spec (<a href=\"https://github-redirect.dependabot.com/electron/electron/issues/34252\">#34252</a>)</li>\\n<li><a href=\"https://github.com/electron/electron/commit/abf438bddc03faa07d05f9083ef07160a87502da\"><code>abf438b</code></a> chore: bump chromium to 102.0.5005.63 (19-x-y) (<a href=\"https://github-redirect.dependabot.com/electron/electron/issues/34349\">#34349</a>)</li>\\n<li><a href=\"https://github.com/electron/electron/commit/56515ad544824070587477203cd2b56e667c5f1f\"><code>56515ad</code></a> Bump v19.0.1</li>\\n<li><a href=\"https://github.com/electron/electron/commit/a9ff8f1359f14d02ae4dd4bfe1ff706be0d2b20a\"><code>a9ff8f1</code></a> build: do not checkout chromium for ts docs check (<a href=\"https://github-redirect.dependabot.com/electron/electron/issues/34344\">#34344</a>)</li>\\n<li><a href=\"https://github.com/electron/electron/commit/f84cafe4fd33d0bc8f8ae3744a5d23eb277cd0d8\"><code>f84cafe</code></a> chore: add a TRACE call for <code>crash_reporter::Start()</code> (<a href=\"https://github-redirect.dependabot.com/electron/electron/issues/34326\">#34326</a>)</li>\\n<li><a href=\"https://github.com/electron/electron/commit/42266d2bf0399e042a1138d5b08f58fecbad46e4\"><code>42266d2</code></a> Bump v19.0.0</li>\\n<li>Additional commits viewable in <a href=\"https://github.com/electron/electron/compare/v16.0.0...v19.0.2\">compare view</a></li>\\n</ul>\\n</details>\\n<br />\\n\\n\\n[![Dependabot compatibility score](https://dependabot-badges.githubapp.com/badges/compatibility_score?dependency-name=electron&package-manager=npm_and_yarn&previous-version=16.0.0&new-version=19.0.2)](https://docs.github.com/en/github/managing-security-vulnerabilities/about-dependabot-security-updates#about-compatibility-scores)\\n\\nDependabot will resolve any conflicts with this PR as long as you don\\'t alter it yourself. You can also trigger a rebase manually by commenting `@dependabot rebase`.\\n\\n[//]: # (dependabot-automerge-start)\\n[//]: # (dependabot-automerge-end)\\n\\n---\\n\\n<details>\\n<summary>Dependabot commands and options</summary>\\n<br />\\n\\nYou can trigger Dependabot actions by commenting on this PR:\\n- `@dependabot rebase` will rebase this PR\\n- `@dependabot recreate` will recreate this PR, overwriting any edits that have been made to it\\n- `@dependabot merge` will merge this PR after your CI passes on it\\n- `@dependabot squash and merge` will squash and merge this PR after your CI passes on it\\n- `@dependabot cancel merge` will cancel a previously requested merge and block automerging\\n- `@dependabot reopen` will reopen this PR if it is closed\\n- `@dependabot close` will close this PR and stop Dependabot recreating it. You can achieve the same result by closing it manually\\n- `@dependabot ignore this major version` will close this PR and stop Dependabot creating any more for this major version (unless you reopen the PR or upgrade to it yourself)\\n- `@dependabot ignore this minor version` will close this PR and stop Dependabot creating any more for this minor version (unless you reopen the PR or upgrade to it yourself)\\n- `@dependabot ignore this dependency` will close this PR and stop Dependabot creating any more for this dependency (unless you reopen the PR or upgrade to it yourself)\\n\\n\\n</details>', 'created_at': '2022-06-02T13:21:58Z', 'updated_at': '2022-06-03T13:22:26Z', 'closed_at': '2022-06-03T13:22:26Z', 'merged_at': None, 'merge_commit_sha': 'eb2451bb629be1c9e701256198f69cfcd50c734e', 'assignee': None, 'assignees': [], 'requested_reviewers': [], 'requested_teams': [], 'labels': [{'id': 3565024619, 'node_id': 'LA_kwDOGZPo_s7UffVr', 'url': 'https://api.github.com/repos/singhdipesh14/jubilant-octo-dollop/labels/dependencies', 'name': 'dependencies', 'color': '0366d6', 'default': False, 'description': 'Pull requests that update a dependency file'}], 'milestone': None, 'draft': False, 'commits_url': 'https://api.github.com/repos/singhdipesh14/jubilant-octo-dollop/pulls/27/commits', 'review_comments_url': 'https://api.github.com/repos/singhdipesh14/jubilant-octo-dollop/pulls/27/comments', 'review_comment_url': 'https://api.github.com/repos/singhdipesh14/jubilant-octo-dollop/pulls/comments{/number}', 'comments_url': 'https://api.github.com/repos/singhdipesh14/jubilant-octo-dollop/issues/27/comments', 'statuses_url': 'https://api.github.com/repos/singhdipesh14/jubilant-octo-dollop/statuses/0bc21658b89b9ec2fcd52a0706c37587dc4e12c2', 'head': {'label': 'singhdipesh14:dependabot/npm_and_yarn/electron-19.0.2', 'ref': 'dependabot/npm_and_yarn/electron-19.0.2', 'sha': '0bc21658b89b9ec2fcd52a0706c37587dc4e12c2', 'user': {'login': 'singhdipesh14', 'id': 58405253, 'node_id': 'MDQ6VXNlcjU4NDA1MjUz', 'avatar_url': 'https://avatars.githubusercontent.com/u/58405253?v=4', 'gravatar_id': '', 'url': 'https://api.github.com/users/singhdipesh14', 'html_url': 'https://github.com/singhdipesh14', 'followers_url': 'https://api.github.com/users/singhdipesh14/followers', 'following_url': 'https://api.github.com/users/singhdipesh14/following{/other_user}', 'gists_url': 'https://api.github.com/users/singhdipesh14/gists{/gist_id}', 'starred_url': 'https://api.github.com/users/singhdipesh14/starred{/owner}{/repo}', 'subscriptions_url': 'https://api.github.com/users/singhdipesh14/subscriptions', 'organizations_url': 'https://api.github.com/users/singhdipesh14/orgs', 'repos_url': 'https://api.github.com/users/singhdipesh14/repos', 'events_url': 'https://api.github.com/users/singhdipesh14/events{/privacy}', 'received_events_url': 'https://api.github.com/users/singhdipesh14/received_events', 'type': 'User', 'site_admin': False}, 'repo': {'id': 429123838, 'node_id': 'R_kgDOGZPo_g', 'name': 'jubilant-octo-dollop', 'full_name': 'singhdipesh14/jubilant-octo-dollop', 'private': False, 'owner': {'login': 'singhdipesh14', 'id': 58405253, 'node_id': 'MDQ6VXNlcjU4NDA1MjUz', 'avatar_url': 'https://avatars.githubusercontent.com/u/58405253?v=4', 'gravatar_id': '', 'url': 'https://api.github.com/users/singhdipesh14', 'html_url': 'https://github.com/singhdipesh14', 'followers_url': 'https://api.github.com/users/singhdipesh14/followers', 'following_url': 'https://api.github.com/users/singhdipesh14/following{/other_user}', 'gists_url': 'https://api.github.com/users/singhdipesh14/gists{/gist_id}', 'starred_url': 'https://api.github.com/users/singhdipesh14/starred{/owner}{/repo}', 'subscriptions_url': 'https://api.github.com/users/singhdipesh14/subscriptions', 'organizations_url': 'https://api.github.com/users/singhdipesh14/orgs', 'repos_url': 'https://api.github.com/users/singhdipesh14/repos', 'events_url': 'https://api.github.com/users/singhdipesh14/events{/privacy}', 'received_events_url': 'https://api.github.com/users/singhdipesh14/received_events', 'type': 'User', 'site_admin': False}, 'html_url': 'https://github.com/singhdipesh14/jubilant-octo-dollop', 'description': 'Electron Tutorial App', 'fork': False, 'url': 'https://api.github.com/repos/singhdipesh14/jubilant-octo-dollop', 'forks_url': 'https://api.github.com/repos/singhdipesh14/jubilant-octo-dollop/forks', 'keys_url': 'https://api.github.com/repos/singhdipesh14/jubilant-octo-dollop/keys{/key_id}', 'collaborators_url': 'https://api.github.com/repos/singhdipesh14/jubilant-octo-dollop/collaborators{/collaborator}', 'teams_url': 'https://api.github.com/repos/singhdipesh14/jubilant-octo-dollop/teams', 'hooks_url': 'https://api.github.com/repos/singhdipesh14/jubilant-octo-dollop/hooks', 'issue_events_url': 'https://api.github.com/repos/singhdipesh14/jubilant-octo-dollop/issues/events{/number}', 'events_url': 'https://api.github.com/repos/singhdipesh14/jubilant-octo-dollop/events', 'assignees_url': 'https://api.github.com/repos/singhdipesh14/jubilant-octo-dollop/assignees{/user}', 'branches_url': 'https://api.github.com/repos/singhdipesh14/jubilant-octo-dollop/branches{/branch}', 'tags_url': 'https://api.github.com/repos/singhdipesh14/jubilant-octo-dollop/tags', 'blobs_url': 'https://api.github.com/repos/singhdipesh14/jubilant-octo-dollop/git/blobs{/sha}', 'git_tags_url': 'https://api.github.com/repos/singhdipesh14/jubilant-octo-dollop/git/tags{/sha}', 'git_refs_url': 'https://api.github.com/repos/singhdipesh14/jubilant-octo-dollop/git/refs{/sha}', 'trees_url': 'https://api.github.com/repos/singhdipesh14/jubilant-octo-dollop/git/trees{/sha}', 'statuses_url': 'https://api.github.com/repos/singhdipesh14/jubilant-octo-dollop/statuses/{sha}', 'languages_url': 'https://api.github.com/repos/singhdipesh14/jubilant-octo-dollop/languages', 'stargazers_url': 'https://api.github.com/repos/singhdipesh14/jubilant-octo-dollop/stargazers', 'contributors_url': 'https://api.github.com/repos/singhdipesh14/jubilant-octo-dollop/contributors', 'subscribers_url': 'https://api.github.com/repos/singhdipesh14/jubilant-octo-dollop/subscribers', 'subscription_url': 'https://api.github.com/repos/singhdipesh14/jubilant-octo-dollop/subscription', 'commits_url': 'https://api.github.com/repos/singhdipesh14/jubilant-octo-dollop/commits{/sha}', 'git_commits_url': 'https://api.github.com/repos/singhdipesh14/jubilant-octo-dollop/git/commits{/sha}', 'comments_url': 'https://api.github.com/repos/singhdipesh14/jubilant-octo-dollop/comments{/number}', 'issue_comment_url': 'https://api.github.com/repos/singhdipesh14/jubilant-octo-dollop/issues/comments{/number}', 'contents_url': 'https://api.github.com/repos/singhdipesh14/jubilant-octo-dollop/contents/{+path}', 'compare_url': 'https://api.github.com/repos/singhdipesh14/jubilant-octo-dollop/compare/{base}...{head}', 'merges_url': 'https://api.github.com/repos/singhdipesh14/jubilant-octo-dollop/merges', 'archive_url': 'https://api.github.com/repos/singhdipesh14/jubilant-octo-dollop/{archive_format}{/ref}', 'downloads_url': 'https://api.github.com/repos/singhdipesh14/jubilant-octo-dollop/downloads', 'issues_url': 'https://api.github.com/repos/singhdipesh14/jubilant-octo-dollop/issues{/number}', 'pulls_url': 'https://api.github.com/repos/singhdipesh14/jubilant-octo-dollop/pulls{/number}', 'milestones_url': 'https://api.github.com/repos/singhdipesh14/jubilant-octo-dollop/milestones{/number}', 'notifications_url': 'https://api.github.com/repos/singhdipesh14/jubilant-octo-dollop/notifications{?since,all,participating}', 'labels_url': 'https://api.github.com/repos/singhdipesh14/jubilant-octo-dollop/labels{/name}', 'releases_url': 'https://api.github.com/repos/singhdipesh14/jubilant-octo-dollop/releases{/id}', 'deployments_url': 'https://api.github.com/repos/singhdipesh14/jubilant-octo-dollop/deployments', 'created_at': '2021-11-17T16:38:44Z', 'updated_at': '2021-11-17T16:38:48Z', 'pushed_at': '2022-06-03T13:22:24Z', 'git_url': 'git://github.com/singhdipesh14/jubilant-octo-dollop.git', 'ssh_url': 'git@github.com:singhdipesh14/jubilant-octo-dollop.git', 'clone_url': 'https://github.com/singhdipesh14/jubilant-octo-dollop.git', 'svn_url': 'https://github.com/singhdipesh14/jubilant-octo-dollop', 'homepage': None, 'size': 24, 'stargazers_count': 0, 'watchers_count': 0, 'language': 'JavaScript', 'has_issues': True, 'has_projects': True, 'has_downloads': True, 'has_wiki': True, 'has_pages': False, 'forks_count': 0, 'mirror_url': None, 'archived': False, 'disabled': False, 'open_issues_count': 1, 'license': {'key': 'cc0-1.0', 'name': 'Creative Commons Zero v1.0 Universal', 'spdx_id': 'CC0-1.0', 'url': 'https://api.github.com/licenses/cc0-1.0', 'node_id': 'MDc6TGljZW5zZTY='}, 'allow_forking': True, 'is_template': False, 'topics': [], 'visibility': 'public', 'forks': 0, 'open_issues': 1, 'watchers': 0, 'default_branch': 'master'}}, 'base': {'label': 'singhdipesh14:master', 'ref': 'master', 'sha': '5b33c5e943854b0b3998ad20e067c82e5e9cb122', 'user': {'login': 'singhdipesh14', 'id': 58405253, 'node_id': 'MDQ6VXNlcjU4NDA1MjUz', 'avatar_url': 'https://avatars.githubusercontent.com/u/58405253?v=4', 'gravatar_id': '', 'url': 'https://api.github.com/users/singhdipesh14', 'html_url': 'https://github.com/singhdipesh14', 'followers_url': 'https://api.github.com/users/singhdipesh14/followers', 'following_url': 'https://api.github.com/users/singhdipesh14/following{/other_user}', 'gists_url': 'https://api.github.com/users/singhdipesh14/gists{/gist_id}', 'starred_url': 'https://api.github.com/users/singhdipesh14/starred{/owner}{/repo}', 'subscriptions_url': 'https://api.github.com/users/singhdipesh14/subscriptions', 'organizations_url': 'https://api.github.com/users/singhdipesh14/orgs', 'repos_url': 'https://api.github.com/users/singhdipesh14/repos', 'events_url': 'https://api.github.com/users/singhdipesh14/events{/privacy}', 'received_events_url': 'https://api.github.com/users/singhdipesh14/received_events', 'type': 'User', 'site_admin': False}, 'repo': {'id': 429123838, 'node_id': 'R_kgDOGZPo_g', 'name': 'jubilant-octo-dollop', 'full_name': 'singhdipesh14/jubilant-octo-dollop', 'private': False, 'owner': {'login': 'singhdipesh14', 'id': 58405253, 'node_id': 'MDQ6VXNlcjU4NDA1MjUz', 'avatar_url': 'https://avatars.githubusercontent.com/u/58405253?v=4', 'gravatar_id': '', 'url': 'https://api.github.com/users/singhdipesh14', 'html_url': 'https://github.com/singhdipesh14', 'followers_url': 'https://api.github.com/users/singhdipesh14/followers', 'following_url': 'https://api.github.com/users/singhdipesh14/following{/other_user}', 'gists_url': 'https://api.github.com/users/singhdipesh14/gists{/gist_id}', 'starred_url': 'https://api.github.com/users/singhdipesh14/starred{/owner}{/repo}', 'subscriptions_url': 'https://api.github.com/users/singhdipesh14/subscriptions', 'organizations_url': 'https://api.github.com/users/singhdipesh14/orgs', 'repos_url': 'https://api.github.com/users/singhdipesh14/repos', 'events_url': 'https://api.github.com/users/singhdipesh14/events{/privacy}', 'received_events_url': 'https://api.github.com/users/singhdipesh14/received_events', 'type': 'User', 'site_admin': False}, 'html_url': 'https://github.com/singhdipesh14/jubilant-octo-dollop', 'description': 'Electron Tutorial App', 'fork': False, 'url': 'https://api.github.com/repos/singhdipesh14/jubilant-octo-dollop', 'forks_url': 'https://api.github.com/repos/singhdipesh14/jubilant-octo-dollop/forks', 'keys_url': 'https://api.github.com/repos/singhdipesh14/jubilant-octo-dollop/keys{/key_id}', 'collaborators_url': 'https://api.github.com/repos/singhdipesh14/jubilant-octo-dollop/collaborators{/collaborator}', 'teams_url': 'https://api.github.com/repos/singhdipesh14/jubilant-octo-dollop/teams', 'hooks_url': 'https://api.github.com/repos/singhdipesh14/jubilant-octo-dollop/hooks', 'issue_events_url': 'https://api.github.com/repos/singhdipesh14/jubilant-octo-dollop/issues/events{/number}', 'events_url': 'https://api.github.com/repos/singhdipesh14/jubilant-octo-dollop/events', 'assignees_url': 'https://api.github.com/repos/singhdipesh14/jubilant-octo-dollop/assignees{/user}', 'branches_url': 'https://api.github.com/repos/singhdipesh14/jubilant-octo-dollop/branches{/branch}', 'tags_url': 'https://api.github.com/repos/singhdipesh14/jubilant-octo-dollop/tags', 'blobs_url': 'https://api.github.com/repos/singhdipesh14/jubilant-octo-dollop/git/blobs{/sha}', 'git_tags_url': 'https://api.github.com/repos/singhdipesh14/jubilant-octo-dollop/git/tags{/sha}', 'git_refs_url': 'https://api.github.com/repos/singhdipesh14/jubilant-octo-dollop/git/refs{/sha}', 'trees_url': 'https://api.github.com/repos/singhdipesh14/jubilant-octo-dollop/git/trees{/sha}', 'statuses_url': 'https://api.github.com/repos/singhdipesh14/jubilant-octo-dollop/statuses/{sha}', 'languages_url': 'https://api.github.com/repos/singhdipesh14/jubilant-octo-dollop/languages', 'stargazers_url': 'https://api.github.com/repos/singhdipesh14/jubilant-octo-dollop/stargazers', 'contributors_url': 'https://api.github.com/repos/singhdipesh14/jubilant-octo-dollop/contributors', 'subscribers_url': 'https://api.github.com/repos/singhdipesh14/jubilant-octo-dollop/subscribers', 'subscription_url': 'https://api.github.com/repos/singhdipesh14/jubilant-octo-dollop/subscription', 'commits_url': 'https://api.github.com/repos/singhdipesh14/jubilant-octo-dollop/commits{/sha}', 'git_commits_url': 'https://api.github.com/repos/singhdipesh14/jubilant-octo-dollop/git/commits{/sha}', 'comments_url': 'https://api.github.com/repos/singhdipesh14/jubilant-octo-dollop/comments{/number}', 'issue_comment_url': 'https://api.github.com/repos/singhdipesh14/jubilant-octo-dollop/issues/comments{/number}', 'contents_url': 'https://api.github.com/repos/singhdipesh14/jubilant-octo-dollop/contents/{+path}', 'compare_url': 'https://api.github.com/repos/singhdipesh14/jubilant-octo-dollop/compare/{base}...{head}', 'merges_url': 'https://api.github.com/repos/singhdipesh14/jubilant-octo-dollop/merges', 'archive_url': 'https://api.github.com/repos/singhdipesh14/jubilant-octo-dollop/{archive_format}{/ref}', 'downloads_url': 'https://api.github.com/repos/singhdipesh14/jubilant-octo-dollop/downloads', 'issues_url': 'https://api.github.com/repos/singhdipesh14/jubilant-octo-dollop/issues{/number}', 'pulls_url': 'https://api.github.com/repos/singhdipesh14/jubilant-octo-dollop/pulls{/number}', 'milestones_url': 'https://api.github.com/repos/singhdipesh14/jubilant-octo-dollop/milestones{/number}', 'notifications_url': 'https://api.github.com/repos/singhdipesh14/jubilant-octo-dollop/notifications{?since,all,participating}', 'labels_url': 'https://api.github.com/repos/singhdipesh14/jubilant-octo-dollop/labels{/name}', 'releases_url': 'https://api.github.com/repos/singhdipesh14/jubilant-octo-dollop/releases{/id}', 'deployments_url': 'https://api.github.com/repos/singhdipesh14/jubilant-octo-dollop/deployments', 'created_at': '2021-11-17T16:38:44Z', 'updated_at': '2021-11-17T16:38:48Z', 'pushed_at': '2022-06-03T13:22:24Z', 'git_url': 'git://github.com/singhdipesh14/jubilant-octo-dollop.git', 'ssh_url': 'git@github.com:singhdipesh14/jubilant-octo-dollop.git', 'clone_url': 'https://github.com/singhdipesh14/jubilant-octo-dollop.git', 'svn_url': 'https://github.com/singhdipesh14/jubilant-octo-dollop', 'homepage': None, 'size': 24, 'stargazers_count': 0, 'watchers_count': 0, 'language': 'JavaScript', 'has_issues': True, 'has_projects': True, 'has_downloads': True, 'has_wiki': True, 'has_pages': False, 'forks_count': 0, 'mirror_url': None, 'archived': False, 'disabled': False, 'open_issues_count': 1, 'license': {'key': 'cc0-1.0', 'name': 'Creative Commons Zero v1.0 Universal', 'spdx_id': 'CC0-1.0', 'url': 'https://api.github.com/licenses/cc0-1.0', 'node_id': 'MDc6TGljZW5zZTY='}, 'allow_forking': True, 'is_template': False, 'topics': [], 'visibility': 'public', 'forks': 0, 'open_issues': 1, 'watchers': 0, 'default_branch': 'master'}}, '_links': {'self': {'href': 'https://api.github.com/repos/singhdipesh14/jubilant-octo-dollop/pulls/27'}, 'html': {'href': 'https://github.com/singhdipesh14/jubilant-octo-dollop/pull/27'}, 'issue': {'href': 'https://api.github.com/repos/singhdipesh14/jubilant-octo-dollop/issues/27'}, 'comments': {'href': 'https://api.github.com/repos/singhdipesh14/jubilant-octo-dollop/issues/27/comments'}, 'review_comments': {'href': 'https://api.github.com/repos/singhdipesh14/jubilant-octo-dollop/pulls/27/comments'}, 'review_comment': {'href': 'https://api.github.com/repos/singhdipesh14/jubilant-octo-dollop/pulls/comments{/number}'}, 'commits': {'href': 'https://api.github.com/repos/singhdipesh14/jubilant-octo-dollop/pulls/27/commits'}, 'statuses': {'href': 'https://api.github.com/repos/singhdipesh14/jubilant-octo-dollop/statuses/0bc21658b89b9ec2fcd52a0706c37587dc4e12c2'}}, 'author_association': 'NONE', 'auto_merge': None, 'active_lock_reason': None, 'merged': False, 'mergeable': True, 'rebaseable': True, 'mergeable_state': 'clean', 'merged_by': None, 'comments': 1, 'review_comments': 0, 'maintainer_can_modify': False, 'commits': 1, 'additions': 101, 'deletions': 54, 'changed_files': 2}}, 'public': True, 'created_at': '2022-06-03T13:22:27Z'}, {'id': '22147305967', 'type': 'PushEvent', 'actor': {'id': 58833107, 'login': 'jvegqd373', 'display_login': 'jvegqd373', 'gravatar_id': '', 'url': 'https://api.github.com/users/jvegqd373', 'avatar_url': 'https://avatars.githubusercontent.com/u/58833107?'}, 'repo': {'id': 227724995, 'name': 'jvegqd373/djy', 'url': 'https://api.github.com/repos/jvegqd373/djy'}, 'payload': {'push_id': 10063598442, 'size': 1, 'distinct_size': 1, 'ref': 'refs/heads/master', 'head': 'da3a16b5dfc5b545da7934b7483ea32ae78c37a9', 'before': '6e4e53c34990de09fed342e100bb7a091f2d4d77', 'commits': [{'sha': 'da3a16b5dfc5b545da7934b7483ea32ae78c37a9', 'author': {'email': '58833107+jvegqd373@users.noreply.github.com', 'name': 'jvegqd373'}, 'message': 'Update n12642927.md', 'distinct': True, 'url': 'https://api.github.com/repos/jvegqd373/djy/commits/da3a16b5dfc5b545da7934b7483ea32ae78c37a9'}]}, 'public': True, 'created_at': '2022-06-03T13:22:27Z'}, {'id': '22147305985', 'type': 'PushEvent', 'actor': {'id': 106818987, 'login': 'harddy4', 'display_login': 'harddy4', 'gravatar_id': '', 'url': 'https://api.github.com/users/harddy4', 'avatar_url': 'https://avatars.githubusercontent.com/u/106818987?'}, 'repo': {'id': 499519949, 'name': 'harddy4/Valueable-C_TADM54_75-Test-Questions-2022-', 'url': 'https://api.github.com/repos/harddy4/Valueable-C_TADM54_75-Test-Questions-2022-'}, 'payload': {'push_id': 10063598458, 'size': 1, 'distinct_size': 1, 'ref': 'refs/heads/main', 'head': '715b62e766aeeda60b0ad7b3cd50fc8dfacd917f', 'before': 'b795e21ed0ae29c07e82e44e0e56705a17a73fd9', 'commits': [{'sha': '715b62e766aeeda60b0ad7b3cd50fc8dfacd917f', 'author': {'email': '106818987+harddy4@users.noreply.github.com', 'name': 'harddy4'}, 'message': 'Update README.md', 'distinct': True, 'url': 'https://api.github.com/repos/harddy4/Valueable-C_TADM54_75-Test-Questions-2022-/commits/715b62e766aeeda60b0ad7b3cd50fc8dfacd917f'}]}, 'public': True, 'created_at': '2022-06-03T13:22:27Z'}, {'id': '22147305962', 'type': 'PushEvent', 'actor': {'id': 98024358, 'login': 'jfrog-pipelie-intg', 'display_login': 'jfrog-pipelie-intg', 'gravatar_id': '', 'url': 'https://api.github.com/users/jfrog-pipelie-intg', 'avatar_url': 'https://avatars.githubusercontent.com/u/98024358?'}, 'repo': {'id': 499519991, 'name': 'jfrog-pipelie-intg/jfint_e2e_2e6c56ee-86cd-43db-a227-8e070a24395d', 'url': 'https://api.github.com/repos/jfrog-pipelie-intg/jfint_e2e_2e6c56ee-86cd-43db-a227-8e070a24395d'}, 'payload': {'push_id': 10063598443, 'size': 1, 'distinct_size': 1, 'ref': 'refs/heads/existing-repo-latest-commit', 'head': '25a03baa9d7a2f8456a1fab51a10205900047d24', 'before': 'df267c823130dce3c34a6f887cf60776f0d9af56', 'commits': [{'sha': '25a03baa9d7a2f8456a1fab51a10205900047d24', 'author': {'email': '98024358+jfrog-pipelie-intg@users.noreply.github.com', 'name': 'jfrog-pipelie-intg'}, 'message': 'test', 'distinct': True, 'url': 'https://api.github.com/repos/jfrog-pipelie-intg/jfint_e2e_2e6c56ee-86cd-43db-a227-8e070a24395d/commits/25a03baa9d7a2f8456a1fab51a10205900047d24'}]}, 'public': True, 'created_at': '2022-06-03T13:22:27Z'}, {'id': '22147305928', 'type': 'PushEvent', 'actor': {'id': 42587110, 'login': 'famethenew', 'display_login': 'famethenew', 'gravatar_id': '', 'url': 'https://api.github.com/users/famethenew', 'avatar_url': 'https://avatars.githubusercontent.com/u/42587110?'}, 'repo': {'id': 446007357, 'name': 'famethenew/testfox', 'url': 'https://api.github.com/repos/famethenew/testfox'}, 'payload': {'push_id': 10063598425, 'size': 1, 'distinct_size': 1, 'ref': 'refs/heads/gh-pages', 'head': 'aef93e919e0e074bd0452a38141756f770af6f0c', 'before': 'ed9b5c02670e233d90a8d677e4b79d21eaae98cb', 'commits': [{'sha': 'aef93e919e0e074bd0452a38141756f770af6f0c', 'author': {'email': '42587110+famethenew@users.noreply.github.com', 'name': 'famethenew'}, 'message': 'Update index.html', 'distinct': True, 'url': 'https://api.github.com/repos/famethenew/testfox/commits/aef93e919e0e074bd0452a38141756f770af6f0c'}]}, 'public': True, 'created_at': '2022-06-03T13:22:27Z'}, {'id': '22147305996', 'type': 'PushEvent', 'actor': {'id': 104018603, 'login': 'Ewon12', 'display_login': 'Ewon12', 'gravatar_id': '', 'url': 'https://api.github.com/users/Ewon12', 'avatar_url': 'https://avatars.githubusercontent.com/u/104018603?'}, 'repo': {'id': 496302781, 'name': 'Ewon12/Path-and-Trajectory-Planning-SMMV', 'url': 'https://api.github.com/repos/Ewon12/Path-and-Trajectory-Planning-SMMV'}, 'payload': {'push_id': 10063598460, 'size': 1, 'distinct_size': 1, 'ref': 'refs/heads/main', 'head': 'f8df758f8faf28005169d5305ead71037fa217c8', 'before': '2861f2470ade2223d15b37314832823bd674464d', 'commits': [{'sha': 'f8df758f8faf28005169d5305ead71037fa217c8', 'author': {'email': 'aaronjoshua.apolonia@g.batstate-u.edu.ph', 'name': 'Aaron Joshua Apolonia'}, 'message': 'added file', 'distinct': True, 'url': 'https://api.github.com/repos/Ewon12/Path-and-Trajectory-Planning-SMMV/commits/f8df758f8faf28005169d5305ead71037fa217c8'}]}, 'public': True, 'created_at': '2022-06-03T13:22:27Z'}, {'id': '22147305934', 'type': 'PushEvent', 'actor': {'id': 141369, 'login': 'sdreher', 'display_login': 'sdreher', 'gravatar_id': '', 'url': 'https://api.github.com/users/sdreher', 'avatar_url': 'https://avatars.githubusercontent.com/u/141369?'}, 'repo': {'id': 113608861, 'name': 'ccnmtl/portfolio', 'url': 'https://api.github.com/repos/ccnmtl/portfolio'}, 'payload': {'push_id': 10063598402, 'size': 9, 'distinct_size': 1, 'ref': 'refs/heads/dependabot/pip/boto3-gte-1.12.0-and-lt-1.25.0', 'head': 'd6159d18b7c5197b4006fdaa17f8c0450271c640', 'before': '6b70561d7cff6db0274f970a90f886b9407dc42f', 'commits': [{'sha': '4735aba0eac33f7254a36fd35a17288888f8bfc4', 'author': {'email': '49699333+dependabot[bot]@users.noreply.github.com', 'name': 'dependabot[bot]'}, 'message': 'Bump s3transfer from 0.5.0 to 0.6.0\\n\\nBumps [s3transfer](https://github.com/boto/s3transfer) from 0.5.0 to 0.6.0.\\n- [Release notes](https://github.com/boto/s3transfer/releases)\\n- [Changelog](https://github.com/boto/s3transfer/blob/develop/CHANGELOG.rst)\\n- [Commits](https://github.com/boto/s3transfer/compare/0.5.0...0.6.0)\\n\\n---\\nupdated-dependencies:\\n- dependency-name: s3transfer\\n  dependency-type: direct:production\\n  update-type: version-update:semver-minor\\n...\\n\\nSigned-off-by: dependabot[bot] <support@github.com>', 'distinct': False, 'url': 'https://api.github.com/repos/ccnmtl/portfolio/commits/4735aba0eac33f7254a36fd35a17288888f8bfc4'}, {'sha': 'ec318a84416ef1fb732b89e31053fc8a2af6571a', 'author': {'email': 'nikolas@gnu.org', 'name': 'Nik Nyby'}, 'message': 'Merge pull request #1136 from ccnmtl/dependabot/pip/s3transfer-0.6.0\\n\\nBump s3transfer from 0.5.0 to 0.6.0', 'distinct': False, 'url': 'https://api.github.com/repos/ccnmtl/portfolio/commits/ec318a84416ef1fb732b89e31053fc8a2af6571a'}, {'sha': '040e97a14a52412f94e5dafc40a2a4ac6de05496', 'author': {'email': '49699333+dependabot[bot]@users.noreply.github.com', 'name': 'dependabot[bot]'}, 'message': 'Update botocore requirement from <1.27.0,>=1.15.0 to >=1.15.0,<1.28.0\\n\\nUpdates the requirements on [botocore](https://github.com/boto/botocore) to permit the latest version.\\n- [Release notes](https://github.com/boto/botocore/releases)\\n- [Changelog](https://github.com/boto/botocore/blob/develop/CHANGELOG.rst)\\n- [Commits](https://github.com/boto/botocore/compare/1.15.0...1.27.0)\\n\\n---\\nupdated-dependencies:\\n- dependency-name: botocore\\n  dependency-type: direct:production\\n...\\n\\nSigned-off-by: dependabot[bot] <support@github.com>', 'distinct': False, 'url': 'https://api.github.com/repos/ccnmtl/portfolio/commits/040e97a14a52412f94e5dafc40a2a4ac6de05496'}, {'sha': 'a765272af15e0eae001444f7225ce5d022dd5af5', 'author': {'email': '49699333+dependabot[bot]@users.noreply.github.com', 'name': 'dependabot[bot]'}, 'message': 'Bump pillow from 9.1.0 to 9.1.1\\n\\nBumps [pillow](https://github.com/python-pillow/Pillow) from 9.1.0 to 9.1.1.\\n- [Release notes](https://github.com/python-pillow/Pillow/releases)\\n- [Changelog](https://github.com/python-pillow/Pillow/blob/main/CHANGES.rst)\\n- [Commits](https://github.com/python-pillow/Pillow/compare/9.1.0...9.1.1)\\n\\n---\\nupdated-dependencies:\\n- dependency-name: pillow\\n  dependency-type: direct:production\\n...\\n\\nSigned-off-by: dependabot[bot] <support@github.com>', 'distinct': False, 'url': 'https://api.github.com/repos/ccnmtl/portfolio/commits/a765272af15e0eae001444f7225ce5d022dd5af5'}, {'sha': '3b963ee721aabb350e9d1ecb9f5b1454e89739b8', 'author': {'email': '49699333+dependabot[bot]@users.noreply.github.com', 'name': 'dependabot[bot]'}, 'message': 'Bump sass from 1.52.1 to 1.52.2\\n\\nBumps [sass](https://github.com/sass/dart-sass) from 1.52.1 to 1.52.2.\\n- [Release notes](https://github.com/sass/dart-sass/releases)\\n- [Changelog](https://github.com/sass/dart-sass/blob/main/CHANGELOG.md)\\n- [Commits](https://github.com/sass/dart-sass/compare/1.52.1...1.52.2)\\n\\n---\\nupdated-dependencies:\\n- dependency-name: sass\\n  dependency-type: direct:development\\n  update-type: version-update:semver-patch\\n...\\n\\nSigned-off-by: dependabot[bot] <support@github.com>', 'distinct': False, 'url': 'https://api.github.com/repos/ccnmtl/portfolio/commits/3b963ee721aabb350e9d1ecb9f5b1454e89739b8'}, {'sha': 'c689fa6728d0adc7c879e8c7e80420319cb3a0c5', 'author': {'email': 'sdreher@gmail.com', 'name': 'Susan Dreher'}, 'message': 'Merge pull request #1134 from ccnmtl/dependabot/pip/botocore-gte-1.15.0-and-lt-1.28.0\\n\\nUpdate botocore requirement from <1.27.0,>=1.15.0 to >=1.15.0,<1.28.0', 'distinct': False, 'url': 'https://api.github.com/repos/ccnmtl/portfolio/commits/c689fa6728d0adc7c879e8c7e80420319cb3a0c5'}, {'sha': 'ee53a82e118b2c6eda2b5e43d07d6d952e9f6740', 'author': {'email': 'sdreher@gmail.com', 'name': 'Susan Dreher'}, 'message': 'Merge pull request #1141 from ccnmtl/dependabot/npm_and_yarn/sass-1.52.2\\n\\nBump sass from 1.52.1 to 1.52.2', 'distinct': False, 'url': 'https://api.github.com/repos/ccnmtl/portfolio/commits/ee53a82e118b2c6eda2b5e43d07d6d952e9f6740'}, {'sha': 'bec6cbd8fb5b15ce8a49cf97cea5bff99bdc44c8', 'author': {'email': 'sdreher@gmail.com', 'name': 'Susan Dreher'}, 'message': 'Merge pull request #1138 from ccnmtl/dependabot/pip/pillow-9.1.1\\n\\nBump pillow from 9.1.0 to 9.1.1', 'distinct': False, 'url': 'https://api.github.com/repos/ccnmtl/portfolio/commits/bec6cbd8fb5b15ce8a49cf97cea5bff99bdc44c8'}, {'sha': 'd6159d18b7c5197b4006fdaa17f8c0450271c640', 'author': {'email': 'sdreher@gmail.com', 'name': 'Susan Dreher'}, 'message': \"Merge branch 'master' into dependabot/pip/boto3-gte-1.12.0-and-lt-1.25.0\", 'distinct': True, 'url': 'https://api.github.com/repos/ccnmtl/portfolio/commits/d6159d18b7c5197b4006fdaa17f8c0450271c640'}]}, 'public': True, 'created_at': '2022-06-03T13:22:27Z', 'org': {'id': 52456, 'login': 'ccnmtl', 'gravatar_id': '', 'url': 'https://api.github.com/orgs/ccnmtl', 'avatar_url': 'https://avatars.githubusercontent.com/u/52456?'}}, {'id': '22147305968', 'type': 'PushEvent', 'actor': {'id': 5348887, 'login': 'swmuir', 'display_login': 'swmuir', 'gravatar_id': '', 'url': 'https://api.github.com/users/swmuir', 'avatar_url': 'https://avatars.githubusercontent.com/u/5348887?'}, 'repo': {'id': 229598237, 'name': 'MDMI/MDMITransformationService', 'url': 'https://api.github.com/repos/MDMI/MDMITransformationService'}, 'payload': {'push_id': 10063598433, 'size': 1, 'distinct_size': 1, 'ref': 'refs/heads/master', 'head': '99060e2f985cffb59b3f0ae14c8b5003101b3f47', 'before': 'a16b1c02c4740cda45e8d47b0d22038e014370c2', 'commits': [{'sha': '99060e2f985cffb59b3f0ae14c8b5003101b3f47', 'author': {'email': 'sean.muir@bookzurman.com', 'name': 'sean.muir@bookzurman.com'}, 'message': 'Clean up of samples', 'distinct': True, 'url': 'https://api.github.com/repos/MDMI/MDMITransformationService/commits/99060e2f985cffb59b3f0ae14c8b5003101b3f47'}]}, 'public': True, 'created_at': '2022-06-03T13:22:27Z', 'org': {'id': 12531344, 'login': 'MDMI', 'gravatar_id': '', 'url': 'https://api.github.com/orgs/MDMI', 'avatar_url': 'https://avatars.githubusercontent.com/u/12531344?'}}, {'id': '22147305993', 'type': 'PushEvent', 'actor': {'id': 106672755, 'login': 'Reyoffic', 'display_login': 'Reyoffic', 'gravatar_id': '', 'url': 'https://api.github.com/users/Reyoffic', 'avatar_url': 'https://avatars.githubusercontent.com/u/106672755?'}, 'repo': {'id': 499518290, 'name': 'Reyoffic/Amelia-Botz', 'url': 'https://api.github.com/repos/Reyoffic/Amelia-Botz'}, 'payload': {'push_id': 10063598466, 'size': 1, 'distinct_size': 1, 'ref': 'refs/heads/master', 'head': 'b592d9635217135784682a454d63d5d8fc5e75b9', 'before': '6d556c2e74128e131f627af7c65ac416db145a62', 'commits': [{'sha': 'b592d9635217135784682a454d63d5d8fc5e75b9', 'author': {'email': '106672755+Reyoffic@users.noreply.github.com', 'name': 'Reyoffic'}, 'message': 'Add files via upload', 'distinct': True, 'url': 'https://api.github.com/repos/Reyoffic/Amelia-Botz/commits/b592d9635217135784682a454d63d5d8fc5e75b9'}]}, 'public': True, 'created_at': '2022-06-03T13:22:27Z'}, {'id': '22147305961', 'type': 'PushEvent', 'actor': {'id': 95071327, 'login': 'duval-justine', 'display_login': 'duval-justine', 'gravatar_id': '', 'url': 'https://api.github.com/users/duval-justine', 'avatar_url': 'https://avatars.githubusercontent.com/u/95071327?'}, 'repo': {'id': 497817872, 'name': 'duval-justine/Acapulco_Festival_Justine_Duval', 'url': 'https://api.github.com/repos/duval-justine/Acapulco_Festival_Justine_Duval'}, 'payload': {'push_id': 10063598435, 'size': 1, 'distinct_size': 1, 'ref': 'refs/heads/master', 'head': '07f3ddadcc8b842cb426144959ffdf71e14cebc5', 'before': '18052c07563024750f2d9d83323f45d321384656', 'commits': [{'sha': '07f3ddadcc8b842cb426144959ffdf71e14cebc5', 'author': {'email': '95071327+duval-justine@users.noreply.github.com', 'name': 'duval-justine'}, 'message': 'Réalisation du GroupBy', 'distinct': True, 'url': 'https://api.github.com/repos/duval-justine/Acapulco_Festival_Justine_Duval/commits/07f3ddadcc8b842cb426144959ffdf71e14cebc5'}]}, 'public': True, 'created_at': '2022-06-03T13:22:27Z'}, {'id': '22147305976', 'type': 'PushEvent', 'actor': {'id': 41898282, 'login': 'github-actions[bot]', 'display_login': 'github-actions', 'gravatar_id': '', 'url': 'https://api.github.com/users/github-actions[bot]', 'avatar_url': 'https://avatars.githubusercontent.com/u/41898282?'}, 'repo': {'id': 389311379, 'name': 'HUISSINSJKN/HUSHIZY_SKY4K', 'url': 'https://api.github.com/repos/HUISSINSJKN/HUSHIZY_SKY4K'}, 'payload': {'push_id': 10063598453, 'size': 1, 'distinct_size': 1, 'ref': 'refs/heads/main', 'head': 'dded608e079869031e9bce98cbd2a89c3dc42b4c', 'before': '58a167a494780595cff6f45419c73e01ef6c6257', 'commits': [{'sha': 'dded608e079869031e9bce98cbd2a89c3dc42b4c', 'author': {'email': 'sky4k666@gmail.com', 'name': 'AHUIQING'}, 'message': 'link is updated', 'distinct': True, 'url': 'https://api.github.com/repos/HUISSINSJKN/HUSHIZY_SKY4K/commits/dded608e079869031e9bce98cbd2a89c3dc42b4c'}]}, 'public': True, 'created_at': '2022-06-03T13:22:27Z'}, {'id': '22147305955', 'type': 'PushEvent', 'actor': {'id': 23408015, 'login': 'dasavrasov', 'display_login': 'dasavrasov', 'gravatar_id': '', 'url': 'https://api.github.com/users/dasavrasov', 'avatar_url': 'https://avatars.githubusercontent.com/u/23408015?'}, 'repo': {'id': 499514090, 'name': 'dasavrasov/n-sadovniki', 'url': 'https://api.github.com/repos/dasavrasov/n-sadovniki'}, 'payload': {'push_id': 10063598437, 'size': 1, 'distinct_size': 1, 'ref': 'refs/heads/gh-pages', 'head': 'ffd080e5db5de863d83d2e1b9086cd25f47e88ae', 'before': '0c2ed165677b7969a2a89bfcb01571db1d3efc76', 'commits': [{'sha': 'ffd080e5db5de863d83d2e1b9086cd25f47e88ae', 'author': {'email': 'da.savrasov.dev@gmail.com', 'name': 'dasavrasov'}, 'message': 'WP2Static CREATE wp-content/uploads/2016/11/logo2.png', 'distinct': True, 'url': 'https://api.github.com/repos/dasavrasov/n-sadovniki/commits/ffd080e5db5de863d83d2e1b9086cd25f47e88ae'}]}, 'public': True, 'created_at': '2022-06-03T13:22:27Z'}]\n"
     ]
    }
   ],
   "source": [
    "print(r.json())"
   ]
  },
  {
   "cell_type": "raw",
   "id": "1546c909",
   "metadata": {},
   "source": [
    "package populer :\n",
    "ipython\n",
    "flash\n",
    "beautiful sub\n",
    "pygame\n",
    "pips"
   ]
  },
  {
   "cell_type": "code",
   "execution_count": 120,
   "id": "709a6e6f",
   "metadata": {},
   "outputs": [
    {
     "name": "stdout",
     "output_type": "stream",
     "text": [
      "15\n"
     ]
    }
   ],
   "source": [
    "#quiz\n",
    "def outerFun(a,b):\n",
    "    def innerFun(c,d):\n",
    "        return c + d\n",
    "    return innerFun(a,b)\n",
    "res = outerFun(5,10) \n",
    "print(res)"
   ]
  },
  {
   "cell_type": "markdown",
   "id": "138cc37a",
   "metadata": {},
   "source": [
    " # Numpy"
   ]
  },
  {
   "cell_type": "code",
   "execution_count": 121,
   "id": "a054f5f9",
   "metadata": {},
   "outputs": [
    {
     "ename": "TypeError",
     "evalue": "unsupported operand type(s) for ** or pow(): 'list' and 'int'",
     "output_type": "error",
     "traceback": [
      "\u001b[1;31m---------------------------------------------------------------------------\u001b[0m",
      "\u001b[1;31mTypeError\u001b[0m                                 Traceback (most recent call last)",
      "Input \u001b[1;32mIn [121]\u001b[0m, in \u001b[0;36m<cell line: 3>\u001b[1;34m()\u001b[0m\n\u001b[0;32m      1\u001b[0m height \u001b[38;5;241m=\u001b[39m [\u001b[38;5;241m1.75\u001b[39m, \u001b[38;5;241m1.68\u001b[39m, \u001b[38;5;241m1.8\u001b[39m, \u001b[38;5;241m1.81\u001b[39m, \u001b[38;5;241m1.69\u001b[39m]\n\u001b[0;32m      2\u001b[0m weight \u001b[38;5;241m=\u001b[39m [\u001b[38;5;241m66.4\u001b[39m, \u001b[38;5;241m49.22\u001b[39m, \u001b[38;5;241m66.3\u001b[39m, \u001b[38;5;241m88.56\u001b[39m, \u001b[38;5;241m65.4\u001b[39m]\n\u001b[1;32m----> 3\u001b[0m weight\u001b[38;5;241m/\u001b[39m \u001b[43mheight\u001b[49m\u001b[43m \u001b[49m\u001b[38;5;241;43m*\u001b[39;49m\u001b[38;5;241;43m*\u001b[39;49m\u001b[43m \u001b[49m\u001b[38;5;241;43m2\u001b[39;49m\n",
      "\u001b[1;31mTypeError\u001b[0m: unsupported operand type(s) for ** or pow(): 'list' and 'int'"
     ]
    }
   ],
   "source": [
    "height = [1.75, 1.68, 1.8, 1.81, 1.69]\n",
    "weight = [66.4, 49.22, 66.3, 88.56, 65.4]\n",
    "weight/ height ** 2"
   ]
  },
  {
   "cell_type": "raw",
   "id": "22609209",
   "metadata": {},
   "source": [
    "!pip install numpy"
   ]
  },
  {
   "cell_type": "code",
   "execution_count": 122,
   "id": "038722c1",
   "metadata": {},
   "outputs": [],
   "source": [
    "import numpy as np"
   ]
  },
  {
   "cell_type": "code",
   "execution_count": 123,
   "id": "1d30d4e3",
   "metadata": {},
   "outputs": [],
   "source": [
    "height = [1.75, 1.68, 1.8, 1.81, 1.69]\n",
    "weight = [66.4, 49.22, 66.3, 88.56, 65.4]\n",
    "np_height = np.array(height)\n",
    "np_weight = np.array(weight)\n",
    "bmi = np_weight/np_height ** 2"
   ]
  },
  {
   "cell_type": "code",
   "execution_count": 124,
   "id": "5d844850",
   "metadata": {},
   "outputs": [
    {
     "name": "stdout",
     "output_type": "stream",
     "text": [
      "[21.68163265 17.43905896 20.46296296 27.03214188 22.8983579 ]\n"
     ]
    }
   ],
   "source": [
    "print(bmi)"
   ]
  },
  {
   "cell_type": "markdown",
   "id": "bb57694c",
   "metadata": {},
   "source": [
    "hanya dapat menampung 1 tipe data, apabila memiliki tipe data yang berbeda maka akan dikonversi menjadi 1 tipe data yang sama (string). "
   ]
  },
  {
   "cell_type": "code",
   "execution_count": 125,
   "id": "fbe9e9d3",
   "metadata": {},
   "outputs": [
    {
     "name": "stdout",
     "output_type": "stream",
     "text": [
      "['1.0' 'is' 'True']\n"
     ]
    }
   ],
   "source": [
    "mixed_array = np.array([1.0, 'is', True])\n",
    "print(mixed_array)"
   ]
  },
  {
   "cell_type": "markdown",
   "id": "1b165d6e",
   "metadata": {},
   "source": [
    "menjumlahkan isi array"
   ]
  },
  {
   "cell_type": "code",
   "execution_count": 126,
   "id": "bb98ff7f",
   "metadata": {},
   "outputs": [
    {
     "data": {
      "text/plain": [
       "[1, 2, 3, 1, 2, 3]"
      ]
     },
     "execution_count": 126,
     "metadata": {},
     "output_type": "execute_result"
    }
   ],
   "source": [
    "numlist = [1,2,3]\n",
    "nparray = np.array([1,2,3])\n",
    "numlist + numlist"
   ]
  },
  {
   "cell_type": "code",
   "execution_count": 127,
   "id": "d326636e",
   "metadata": {},
   "outputs": [
    {
     "data": {
      "text/plain": [
       "array([21.68163265, 17.43905896, 20.46296296, 27.03214188, 22.8983579 ])"
      ]
     },
     "execution_count": 127,
     "metadata": {},
     "output_type": "execute_result"
    }
   ],
   "source": [
    "bmi"
   ]
  },
  {
   "cell_type": "code",
   "execution_count": 128,
   "id": "2c8b92f0",
   "metadata": {},
   "outputs": [
    {
     "data": {
      "text/plain": [
       "array([False, False, False,  True, False])"
      ]
     },
     "execution_count": 128,
     "metadata": {},
     "output_type": "execute_result"
    }
   ],
   "source": [
    "bmi > 24"
   ]
  },
  {
   "cell_type": "code",
   "execution_count": 129,
   "id": "745c0b33",
   "metadata": {},
   "outputs": [
    {
     "data": {
      "text/plain": [
       "array([27.03214188])"
      ]
     },
     "execution_count": 129,
     "metadata": {},
     "output_type": "execute_result"
    }
   ],
   "source": [
    "bmi[bmi>24]"
   ]
  },
  {
   "cell_type": "markdown",
   "id": "6afce8ad",
   "metadata": {},
   "source": [
    "## Array 2D"
   ]
  },
  {
   "cell_type": "code",
   "execution_count": 130,
   "id": "44bbf4d0",
   "metadata": {},
   "outputs": [
    {
     "data": {
      "text/plain": [
       "numpy.ndarray"
      ]
     },
     "execution_count": 130,
     "metadata": {},
     "output_type": "execute_result"
    }
   ],
   "source": [
    "height = np.array([1.75, 1.68, 1.8])\n",
    "weight = np.array([66.4, 49.22, 66.3])\n",
    "type(height)"
   ]
  },
  {
   "cell_type": "code",
   "execution_count": 131,
   "id": "48154ea0",
   "metadata": {},
   "outputs": [
    {
     "data": {
      "text/plain": [
       "array([[ 1.75,  1.68,  1.8 ],\n",
       "       [66.4 , 49.22, 66.3 ]])"
      ]
     },
     "execution_count": 131,
     "metadata": {},
     "output_type": "execute_result"
    }
   ],
   "source": [
    "np_2d = np.array ([[1.75, 1.68, 1.8],\n",
    "                  [66.4, 49.22, 66.3]])\n",
    "np_2d"
   ]
  },
  {
   "cell_type": "code",
   "execution_count": 132,
   "id": "d7100ef3",
   "metadata": {},
   "outputs": [
    {
     "data": {
      "text/plain": [
       "(2, 3)"
      ]
     },
     "execution_count": 132,
     "metadata": {},
     "output_type": "execute_result"
    }
   ],
   "source": [
    "np_2d.shape"
   ]
  },
  {
   "cell_type": "code",
   "execution_count": 133,
   "id": "e7cd2f6d",
   "metadata": {},
   "outputs": [
    {
     "name": "stdout",
     "output_type": "stream",
     "text": [
      "[1.75 1.68 1.8 ]\n",
      "1.8\n"
     ]
    }
   ],
   "source": [
    "# subsetting\n",
    "print(np_2d[0])\n",
    "print(np_2d[0][2])"
   ]
  },
  {
   "cell_type": "code",
   "execution_count": 134,
   "id": "5e133c78",
   "metadata": {},
   "outputs": [
    {
     "data": {
      "text/plain": [
       "array([[ 1.68,  1.8 ],\n",
       "       [49.22, 66.3 ]])"
      ]
     },
     "execution_count": 134,
     "metadata": {},
     "output_type": "execute_result"
    }
   ],
   "source": [
    "np_2d[:,1:3]"
   ]
  },
  {
   "cell_type": "code",
   "execution_count": 135,
   "id": "52978bfb",
   "metadata": {},
   "outputs": [
    {
     "data": {
      "text/plain": [
       "array([66.4 , 49.22, 66.3 ])"
      ]
     },
     "execution_count": 135,
     "metadata": {},
     "output_type": "execute_result"
    }
   ],
   "source": [
    "np_2d[1,:]"
   ]
  },
  {
   "cell_type": "code",
   "execution_count": 136,
   "id": "465149f6",
   "metadata": {},
   "outputs": [
    {
     "name": "stdout",
     "output_type": "stream",
     "text": [
      "['idaz' 'anggara']\n",
      "[['idaz' 'anggara']]\n"
     ]
    },
    {
     "ename": "TypeError",
     "evalue": "'numpy.ndarray' object is not callable",
     "output_type": "error",
     "traceback": [
      "\u001b[1;31m---------------------------------------------------------------------------\u001b[0m",
      "\u001b[1;31mTypeError\u001b[0m                                 Traceback (most recent call last)",
      "Input \u001b[1;32mIn [136]\u001b[0m, in \u001b[0;36m<cell line: 5>\u001b[1;34m()\u001b[0m\n\u001b[0;32m      3\u001b[0m \u001b[38;5;28mprint\u001b[39m(names[\u001b[38;5;241m0\u001b[39m])\n\u001b[0;32m      4\u001b[0m \u001b[38;5;28mprint\u001b[39m(names[[\u001b[38;5;241m0\u001b[39m]])\n\u001b[1;32m----> 5\u001b[0m \u001b[38;5;28mprint\u001b[39m(\u001b[43mnames\u001b[49m\u001b[43m(\u001b[49m\u001b[38;5;241;43m0\u001b[39;49m\u001b[43m)\u001b[49m)\n",
      "\u001b[1;31mTypeError\u001b[0m: 'numpy.ndarray' object is not callable"
     ]
    }
   ],
   "source": [
    "names = np.array([['idaz','anggara'],\n",
    "                 ['dear', 'kurniawan']])\n",
    "print(names[0])\n",
    "print(names[[0]])\n",
    "print(names(0))"
   ]
  },
  {
   "cell_type": "markdown",
   "id": "6d489dbb",
   "metadata": {},
   "source": [
    "## Statistik Dasar dengan Numpy"
   ]
  },
  {
   "cell_type": "code",
   "execution_count": 137,
   "id": "dafbd552",
   "metadata": {},
   "outputs": [
    {
     "data": {
      "text/plain": [
       "array([1.61, 1.84, 2.01, ..., 1.55, 1.55, 1.64])"
      ]
     },
     "execution_count": 137,
     "metadata": {},
     "output_type": "execute_result"
    }
   ],
   "source": [
    "height = np.round(np.random.normal(1.73, 0.2, 5000),2)\n",
    "height"
   ]
  },
  {
   "cell_type": "code",
   "execution_count": 138,
   "id": "23b90160",
   "metadata": {},
   "outputs": [
    {
     "data": {
      "text/plain": [
       "5000"
      ]
     },
     "execution_count": 138,
     "metadata": {},
     "output_type": "execute_result"
    }
   ],
   "source": [
    "len(height)"
   ]
  },
  {
   "cell_type": "code",
   "execution_count": 139,
   "id": "6cf80f65",
   "metadata": {},
   "outputs": [
    {
     "data": {
      "text/plain": [
       "array([71.12, 70.52, 34.47, ..., 56.98, 57.9 , 44.09])"
      ]
     },
     "execution_count": 139,
     "metadata": {},
     "output_type": "execute_result"
    }
   ],
   "source": [
    "weight = np.round(np.random.normal(60.32, 15, 5000),2)\n",
    "weight"
   ]
  },
  {
   "cell_type": "code",
   "execution_count": 140,
   "id": "6eafb158",
   "metadata": {},
   "outputs": [
    {
     "data": {
      "text/plain": [
       "5000"
      ]
     },
     "execution_count": 140,
     "metadata": {},
     "output_type": "execute_result"
    }
   ],
   "source": [
    "len(weight)"
   ]
  },
  {
   "cell_type": "code",
   "execution_count": 141,
   "id": "9acbf406",
   "metadata": {},
   "outputs": [],
   "source": [
    "np_city = np.column_stack((height, weight))"
   ]
  },
  {
   "cell_type": "code",
   "execution_count": 142,
   "id": "5cd6d202",
   "metadata": {},
   "outputs": [
    {
     "data": {
      "text/plain": [
       "1.7363940000000002"
      ]
     },
     "execution_count": 142,
     "metadata": {},
     "output_type": "execute_result"
    }
   ],
   "source": [
    "np.mean(np_city[:,0])"
   ]
  },
  {
   "cell_type": "code",
   "execution_count": 143,
   "id": "90eb6959",
   "metadata": {},
   "outputs": [
    {
     "data": {
      "text/plain": [
       "36.365"
      ]
     },
     "execution_count": 143,
     "metadata": {},
     "output_type": "execute_result"
    }
   ],
   "source": [
    "np.mean(np_city[0,:])"
   ]
  },
  {
   "cell_type": "code",
   "execution_count": 144,
   "id": "f95e1356",
   "metadata": {},
   "outputs": [
    {
     "data": {
      "text/plain": [
       "1.74"
      ]
     },
     "execution_count": 144,
     "metadata": {},
     "output_type": "execute_result"
    }
   ],
   "source": [
    "np.median(np_city[:,0])"
   ]
  },
  {
   "cell_type": "code",
   "execution_count": 145,
   "id": "aee13936",
   "metadata": {},
   "outputs": [
    {
     "data": {
      "text/plain": [
       "0.20011360964212302"
      ]
     },
     "execution_count": 145,
     "metadata": {},
     "output_type": "execute_result"
    }
   ],
   "source": [
    "np.std(np_city[:,0])"
   ]
  },
  {
   "cell_type": "code",
   "execution_count": null,
   "id": "dcd195e8",
   "metadata": {},
   "outputs": [],
   "source": []
  }
 ],
 "metadata": {
  "kernelspec": {
   "display_name": "Python 3 (ipykernel)",
   "language": "python",
   "name": "python3"
  },
  "language_info": {
   "codemirror_mode": {
    "name": "ipython",
    "version": 3
   },
   "file_extension": ".py",
   "mimetype": "text/x-python",
   "name": "python",
   "nbconvert_exporter": "python",
   "pygments_lexer": "ipython3",
   "version": "3.9.12"
  }
 },
 "nbformat": 4,
 "nbformat_minor": 5
}
